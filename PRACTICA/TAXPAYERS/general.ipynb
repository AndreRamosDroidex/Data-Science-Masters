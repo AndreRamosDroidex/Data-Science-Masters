{
 "cells": [
  {
   "cell_type": "code",
   "execution_count": 1,
   "metadata": {},
   "outputs": [],
   "source": [
    "tabla = {'primero': 'disponible', 'segundo': 'No disponible', 'tercero': 'disponible'}"
   ]
  },
  {
   "cell_type": "code",
   "execution_count": 45,
   "metadata": {},
   "outputs": [
    {
     "name": "stdout",
     "output_type": "stream",
     "text": [
      "disponible\n",
      "primero disponible\n",
      "segundo No disponible\n",
      "tercero disponible\n",
      "{'primero': 'disponible', 'tercero': 'disponible'}\n",
      "0\n",
      "1\n",
      "2\n"
     ]
    }
   ],
   "source": [
    "def crear_funcion():\n",
    "    pass   \n",
    "\n",
    "print(tabla.get('primero'))\n",
    "\n",
    "for order, valor in tabla.items():\n",
    "    print(order, valor)\n",
    "\n",
    "tabla_nueva = {}\n",
    "\n",
    "for order, valor in tabla.items():\n",
    "    if valor == 'disponible':\n",
    "        tabla_nueva[order]=valor \n",
    "\n",
    "print(tabla_nueva)\n",
    "\n",
    "for order in range(len(tabla)):\n",
    "    print(order)\n"
   ]
  },
  {
   "cell_type": "code",
   "execution_count": null,
   "metadata": {},
   "outputs": [],
   "source": []
  }
 ],
 "metadata": {
  "kernelspec": {
   "display_name": "base",
   "language": "python",
   "name": "python3"
  },
  "language_info": {
   "codemirror_mode": {
    "name": "ipython",
    "version": 3
   },
   "file_extension": ".py",
   "mimetype": "text/x-python",
   "name": "python",
   "nbconvert_exporter": "python",
   "pygments_lexer": "ipython3",
   "version": "3.9.7"
  }
 },
 "nbformat": 4,
 "nbformat_minor": 2
}
