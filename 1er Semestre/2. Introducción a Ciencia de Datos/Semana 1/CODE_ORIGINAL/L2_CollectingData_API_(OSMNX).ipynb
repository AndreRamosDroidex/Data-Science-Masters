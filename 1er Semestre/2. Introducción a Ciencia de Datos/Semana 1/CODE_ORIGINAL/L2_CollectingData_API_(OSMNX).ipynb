{
  "nbformat": 4,
  "nbformat_minor": 0,
  "metadata": {
    "colab": {
      "provenance": []
    },
    "kernelspec": {
      "name": "python3",
      "display_name": "Python 3"
    },
    "language_info": {
      "name": "python"
    }
  },
  "cells": [
    {
      "cell_type": "code",
      "metadata": {
        "id": "64nTIqqhSEfP"
      },
      "source": [
        "!pip install osmnx"
      ],
      "execution_count": null,
      "outputs": []
    },
    {
      "cell_type": "code",
      "metadata": {
        "id": "JYNIKnSMSIkV"
      },
      "source": [
        "import osmnx as ox\n",
        "%matplotlib inline\n",
        "G = ox.graph_from_place('Miraflores, Lima, Peru', network_type='drive')\n",
        "ox.plot_graph(ox.project_graph(G))\n",
        "#ox.folium.plot_graph_folium(G)\n"
      ],
      "execution_count": null,
      "outputs": []
    },
    {
      "cell_type": "code",
      "metadata": {
        "id": "ybGdCA18TR2t"
      },
      "source": [
        "G = ox.graph_from_address('350 5th Ave, New York, New York', network_type='drive')\n",
        "ox.plot_graph(G)"
      ],
      "execution_count": null,
      "outputs": []
    },
    {
      "cell_type": "code",
      "metadata": {
        "id": "uvEq21zvTOM7"
      },
      "source": [
        "G = ox.graph_from_address('350 5th Ave, New York, New York', dist=1000, network_type='drive')\n",
        "ox.folium.plot_graph_folium(G)"
      ],
      "execution_count": null,
      "outputs": []
    },
    {
      "cell_type": "code",
      "metadata": {
        "id": "Sf-GNVVbSmDd"
      },
      "source": [
        "G = ox.graph_from_address('Bab Bhar, Tunis, Tunisia')\n",
        "ox.plot_graph_folium(G)"
      ],
      "execution_count": null,
      "outputs": []
    },
    {
      "cell_type": "code",
      "source": [
        "ox.save_graphml(G, filepath=\"out.graphml\", gephi=False, encoding='utf-8')"
      ],
      "metadata": {
        "id": "yMY9k0YjnGsb"
      },
      "execution_count": null,
      "outputs": []
    },
    {
      "cell_type": "code",
      "source": [
        "G = ox.graph_from_place('Santa Monica, California', network_type='walk')\n",
        "basic_stats = ox.basic_stats(G)\n",
        "print(basic_stats['circuity_avg']) # circuity_avg - Calculate average street circuity using edges of undirected graph\n",
        "print(basic_stats['m']) # m - count of edges in graph\n",
        "print(basic_stats['n']) # n - count of nodes in graph\n"
      ],
      "metadata": {
        "id": "H6c00kG4tpvc"
      },
      "execution_count": null,
      "outputs": []
    },
    {
      "cell_type": "code",
      "source": [
        "import networkx as nx\n",
        "\n",
        "G = ox.graph_from_place('Piedmont, CA, USA', network_type='drive')\n",
        "\n",
        "orig = list(G)[0]\n",
        "dest = list(G)[-1]\n",
        "\n",
        "#print(list(G))\n",
        "\n",
        "route = nx.shortest_path(G, orig, dest)\n",
        "fig, ax = ox.plot_graph_route(G, route, route_linewidth=6, node_size=0, bgcolor='k')\n"
      ],
      "metadata": {
        "id": "MQN1Oi2BsoPt"
      },
      "execution_count": null,
      "outputs": []
    },
    {
      "cell_type": "markdown",
      "metadata": {
        "id": "Q74n0QqZSmgF"
      },
      "source": [
        "**Summary:** https://geoffboeing.com/2016/11/osmnx-python-street-networks/\n",
        "\n",
        "**Documentation** https://osmnx.readthedocs.io/en/stable/user-reference.html"
      ]
    }
  ]
}