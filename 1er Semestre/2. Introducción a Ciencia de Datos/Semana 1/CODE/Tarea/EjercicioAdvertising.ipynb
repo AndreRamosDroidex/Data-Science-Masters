{
  "cells": [
    {
      "cell_type": "markdown",
      "metadata": {
        "id": "TtOC4NJCprHS"
      },
      "source": [
        "\n",
        "# Regresión  - Ejercicio Advertising"
      ]
    },
    {
      "cell_type": "markdown",
      "metadata": {
        "id": "xgNrqL1Dpy-F"
      },
      "source": [
        "El objetivo es usar regresión probablemente multivariada para entender como los gastos en anuncios impactan las ventas (variable a predecir es **sales**)."
      ]
    },
    {
      "cell_type": "code",
      "execution_count": 151,
      "metadata": {
        "id": "fpQWtuhrpgUj"
      },
      "outputs": [],
      "source": [
        "import pandas as pd\n",
        "import matplotlib.pyplot as plt\n",
        "import seaborn as sns\n",
        "%matplotlib inline"
      ]
    },
    {
      "cell_type": "code",
      "execution_count": 152,
      "metadata": {
        "id": "eyZaWbyNrOLS"
      },
      "outputs": [],
      "source": [
        "url = \"https://raw.githubusercontent.com/eduardool/MaestriaCienciaDatos/main/datasets/advertising_regresion.csv\""
      ]
    },
    {
      "cell_type": "code",
      "execution_count": 153,
      "metadata": {
        "id": "ZrbYk6n6rR2p"
      },
      "outputs": [],
      "source": [
        "datos = pd.read_csv(url)"
      ]
    },
    {
      "cell_type": "code",
      "execution_count": 154,
      "metadata": {
        "colab": {
          "base_uri": "https://localhost:8080/",
          "height": 206
        },
        "id": "OlCg2Pa6raop",
        "outputId": "4e38a15e-ad0b-416c-f833-8735c20e259f"
      },
      "outputs": [
        {
          "data": {
            "text/html": [
              "<div>\n",
              "<style scoped>\n",
              "    .dataframe tbody tr th:only-of-type {\n",
              "        vertical-align: middle;\n",
              "    }\n",
              "\n",
              "    .dataframe tbody tr th {\n",
              "        vertical-align: top;\n",
              "    }\n",
              "\n",
              "    .dataframe thead th {\n",
              "        text-align: right;\n",
              "    }\n",
              "</style>\n",
              "<table border=\"1\" class=\"dataframe\">\n",
              "  <thead>\n",
              "    <tr style=\"text-align: right;\">\n",
              "      <th></th>\n",
              "      <th>Unnamed: 0</th>\n",
              "      <th>TV</th>\n",
              "      <th>radio</th>\n",
              "      <th>newspaper</th>\n",
              "      <th>sales</th>\n",
              "    </tr>\n",
              "  </thead>\n",
              "  <tbody>\n",
              "    <tr>\n",
              "      <th>0</th>\n",
              "      <td>1</td>\n",
              "      <td>230.1</td>\n",
              "      <td>37.8</td>\n",
              "      <td>69.2</td>\n",
              "      <td>22.1</td>\n",
              "    </tr>\n",
              "    <tr>\n",
              "      <th>1</th>\n",
              "      <td>2</td>\n",
              "      <td>44.5</td>\n",
              "      <td>39.3</td>\n",
              "      <td>45.1</td>\n",
              "      <td>10.4</td>\n",
              "    </tr>\n",
              "    <tr>\n",
              "      <th>2</th>\n",
              "      <td>3</td>\n",
              "      <td>17.2</td>\n",
              "      <td>45.9</td>\n",
              "      <td>69.3</td>\n",
              "      <td>9.3</td>\n",
              "    </tr>\n",
              "    <tr>\n",
              "      <th>3</th>\n",
              "      <td>4</td>\n",
              "      <td>151.5</td>\n",
              "      <td>41.3</td>\n",
              "      <td>58.5</td>\n",
              "      <td>18.5</td>\n",
              "    </tr>\n",
              "    <tr>\n",
              "      <th>4</th>\n",
              "      <td>5</td>\n",
              "      <td>180.8</td>\n",
              "      <td>10.8</td>\n",
              "      <td>58.4</td>\n",
              "      <td>12.9</td>\n",
              "    </tr>\n",
              "  </tbody>\n",
              "</table>\n",
              "</div>"
            ],
            "text/plain": [
              "   Unnamed: 0     TV  radio  newspaper  sales\n",
              "0           1  230.1   37.8       69.2   22.1\n",
              "1           2   44.5   39.3       45.1   10.4\n",
              "2           3   17.2   45.9       69.3    9.3\n",
              "3           4  151.5   41.3       58.5   18.5\n",
              "4           5  180.8   10.8       58.4   12.9"
            ]
          },
          "execution_count": 154,
          "metadata": {},
          "output_type": "execute_result"
        }
      ],
      "source": [
        "datos.head()"
      ]
    },
    {
      "cell_type": "markdown",
      "metadata": {
        "id": "upIANSdpMd93"
      },
      "source": [
        "## Separar $X$ y $y$"
      ]
    },
    {
      "cell_type": "code",
      "execution_count": 155,
      "metadata": {},
      "outputs": [
        {
          "data": {
            "text/plain": [
              "Index(['Unnamed: 0', 'TV', 'radio', 'newspaper', 'sales'], dtype='object')"
            ]
          },
          "execution_count": 155,
          "metadata": {},
          "output_type": "execute_result"
        }
      ],
      "source": [
        "datos.columns"
      ]
    },
    {
      "cell_type": "code",
      "execution_count": 156,
      "metadata": {},
      "outputs": [],
      "source": [
        "X = datos[['TV', 'radio', 'newspaper']]\n",
        "y = datos['sales']"
      ]
    },
    {
      "cell_type": "markdown",
      "metadata": {
        "id": "c0yrmbg2NFpE"
      },
      "source": [
        "****Separar conjunto de entrenamiento (80\\%) y prueba (20\\%), random_state = 100****"
      ]
    },
    {
      "cell_type": "code",
      "execution_count": 157,
      "metadata": {},
      "outputs": [],
      "source": [
        "from sklearn.model_selection import train_test_split"
      ]
    },
    {
      "cell_type": "code",
      "execution_count": 158,
      "metadata": {},
      "outputs": [],
      "source": [
        "X_entrenamiento, X_prueba, y_entrenamiento, y_prueba = train_test_split(X, y, test_size=0.2, random_state=100)"
      ]
    },
    {
      "cell_type": "code",
      "execution_count": 159,
      "metadata": {},
      "outputs": [
        {
          "data": {
            "text/plain": [
              "(160, 3)"
            ]
          },
          "execution_count": 159,
          "metadata": {},
          "output_type": "execute_result"
        }
      ],
      "source": [
        "X_entrenamiento.shape"
      ]
    },
    {
      "cell_type": "code",
      "execution_count": 160,
      "metadata": {},
      "outputs": [
        {
          "data": {
            "text/plain": [
              "(40, 3)"
            ]
          },
          "execution_count": 160,
          "metadata": {},
          "output_type": "execute_result"
        }
      ],
      "source": [
        "X_prueba.shape"
      ]
    },
    {
      "cell_type": "markdown",
      "metadata": {},
      "source": [
        "## **Calcular y realizar la escala de variables sobre el conjunto entrenamiento.**\n"
      ]
    },
    {
      "cell_type": "code",
      "execution_count": 161,
      "metadata": {},
      "outputs": [],
      "source": [
        "from sklearn.preprocessing import StandardScaler\n",
        "import numpy as np"
      ]
    },
    {
      "cell_type": "code",
      "execution_count": 162,
      "metadata": {},
      "outputs": [],
      "source": [
        "escalador = StandardScaler()"
      ]
    },
    {
      "cell_type": "code",
      "execution_count": 163,
      "metadata": {},
      "outputs": [],
      "source": [
        "X_entrenamiento_escalado = escalador.fit_transform(X_entrenamiento)\n",
        "X_prueba_escalado = escalador.fit_transform(X_prueba)"
      ]
    },
    {
      "cell_type": "markdown",
      "metadata": {},
      "source": [
        "## REGRESION LINEAL MULTIVARIADA"
      ]
    },
    {
      "cell_type": "code",
      "execution_count": 164,
      "metadata": {},
      "outputs": [],
      "source": [
        "from sklearn.linear_model import LinearRegression"
      ]
    },
    {
      "cell_type": "code",
      "execution_count": 165,
      "metadata": {},
      "outputs": [],
      "source": [
        "lm = LinearRegression()"
      ]
    },
    {
      "cell_type": "code",
      "execution_count": 166,
      "metadata": {},
      "outputs": [
        {
          "data": {
            "text/plain": [
              "LinearRegression()"
            ]
          },
          "execution_count": 166,
          "metadata": {},
          "output_type": "execute_result"
        }
      ],
      "source": [
        "lm.fit(X_entrenamiento_escalado,y_entrenamiento) # aprendizaje ML"
      ]
    },
    {
      "cell_type": "code",
      "execution_count": 167,
      "metadata": {},
      "outputs": [
        {
          "name": "stdout",
          "output_type": "stream",
          "text": [
            "13.798750000000002\n"
          ]
        }
      ],
      "source": [
        "print(lm.intercept_)"
      ]
    },
    {
      "cell_type": "code",
      "execution_count": 168,
      "metadata": {},
      "outputs": [
        {
          "data": {
            "text/html": [
              "<div>\n",
              "<style scoped>\n",
              "    .dataframe tbody tr th:only-of-type {\n",
              "        vertical-align: middle;\n",
              "    }\n",
              "\n",
              "    .dataframe tbody tr th {\n",
              "        vertical-align: top;\n",
              "    }\n",
              "\n",
              "    .dataframe thead th {\n",
              "        text-align: right;\n",
              "    }\n",
              "</style>\n",
              "<table border=\"1\" class=\"dataframe\">\n",
              "  <thead>\n",
              "    <tr style=\"text-align: right;\">\n",
              "      <th></th>\n",
              "      <th>Parámetros</th>\n",
              "    </tr>\n",
              "  </thead>\n",
              "  <tbody>\n",
              "    <tr>\n",
              "      <th>TV</th>\n",
              "      <td>4.140009</td>\n",
              "    </tr>\n",
              "    <tr>\n",
              "      <th>radio</th>\n",
              "      <td>2.753257</td>\n",
              "    </tr>\n",
              "    <tr>\n",
              "      <th>newspaper</th>\n",
              "      <td>0.049765</td>\n",
              "    </tr>\n",
              "  </tbody>\n",
              "</table>\n",
              "</div>"
            ],
            "text/plain": [
              "           Parámetros\n",
              "TV           4.140009\n",
              "radio        2.753257\n",
              "newspaper    0.049765"
            ]
          },
          "execution_count": 168,
          "metadata": {},
          "output_type": "execute_result"
        }
      ],
      "source": [
        "params_df = pd.DataFrame(lm.coef_,X.columns,columns=['Parámetros'])\n",
        "params_df"
      ]
    },
    {
      "cell_type": "code",
      "execution_count": 169,
      "metadata": {},
      "outputs": [],
      "source": [
        "predicciones = lm.predict(X_prueba)"
      ]
    },
    {
      "cell_type": "code",
      "execution_count": 170,
      "metadata": {},
      "outputs": [
        {
          "data": {
            "text/plain": [
              "<matplotlib.collections.PathCollection at 0x239571aefa0>"
            ]
          },
          "execution_count": 170,
          "metadata": {},
          "output_type": "execute_result"
        },
        {
          "data": {
            "image/png": "[encoded data removed]",
            "text/plain": [
              "<Figure size 432x288 with 1 Axes>"
            ]
          },
          "metadata": {
            "needs_background": "light"
          },
          "output_type": "display_data"
        }
      ],
      "source": [
        "plt.scatter(y_prueba,predicciones)"
      ]
    },
    {
      "cell_type": "code",
      "execution_count": 171,
      "metadata": {},
      "outputs": [
        {
          "name": "stderr",
          "output_type": "stream",
          "text": [
            "c:\\Users\\DELL\\anaconda3\\lib\\site-packages\\seaborn\\distributions.py:2619: FutureWarning: `distplot` is a deprecated function and will be removed in a future version. Please adapt your code to use either `displot` (a figure-level function with similar flexibility) or `histplot` (an axes-level function for histograms).\n",
            "  warnings.warn(msg, FutureWarning)\n"
          ]
        },
        {
          "data": {
            "image/png": "[encoded data removed]",
            "text/plain": [
              "<Figure size 432x288 with 1 Axes>"
            ]
          },
          "metadata": {
            "needs_background": "light"
          },
          "output_type": "display_data"
        }
      ],
      "source": [
        "sns.distplot((y_prueba-predicciones),bins=50);"
      ]
    },
    {
      "cell_type": "markdown",
      "metadata": {},
      "source": [
        "## RANDOM FOREST"
      ]
    },
    {
      "cell_type": "code",
      "execution_count": 172,
      "metadata": {},
      "outputs": [
        {
          "data": {
            "text/plain": [
              "RandomForestRegressor(random_state=100)"
            ]
          },
          "execution_count": 172,
          "metadata": {},
          "output_type": "execute_result"
        }
      ],
      "source": [
        "from sklearn.ensemble import RandomForestRegressor\n",
        "\n",
        "reg_rf = RandomForestRegressor(n_estimators=100, random_state=100)\n",
        "reg_rf.fit(X_entrenamiento_escalado, y_entrenamiento)"
      ]
    },
    {
      "cell_type": "code",
      "execution_count": 173,
      "metadata": {},
      "outputs": [],
      "source": [
        "predicciones_rf = reg_rf.predict(X_prueba_escalado)"
      ]
    },
    {
      "cell_type": "code",
      "execution_count": 174,
      "metadata": {},
      "outputs": [
        {
          "data": {
            "text/plain": [
              "<matplotlib.collections.PathCollection at 0x239569271c0>"
            ]
          },
          "execution_count": 174,
          "metadata": {},
          "output_type": "execute_result"
        },
        {
          "data": {
            "image/png": "[encoded data removed]",
            "text/plain": [
              "<Figure size 432x288 with 1 Axes>"
            ]
          },
          "metadata": {
            "needs_background": "light"
          },
          "output_type": "display_data"
        }
      ],
      "source": [
        "plt.scatter(y_prueba,predicciones_rf)"
      ]
    },
    {
      "cell_type": "code",
      "execution_count": 175,
      "metadata": {},
      "outputs": [
        {
          "name": "stderr",
          "output_type": "stream",
          "text": [
            "c:\\Users\\DELL\\anaconda3\\lib\\site-packages\\seaborn\\distributions.py:2619: FutureWarning: `distplot` is a deprecated function and will be removed in a future version. Please adapt your code to use either `displot` (a figure-level function with similar flexibility) or `histplot` (an axes-level function for histograms).\n",
            "  warnings.warn(msg, FutureWarning)\n"
          ]
        },
        {
          "data": {
            "image/png": "[encoded data removed]",
            "text/plain": [
              "<Figure size 432x288 with 1 Axes>"
            ]
          },
          "metadata": {
            "needs_background": "light"
          },
          "output_type": "display_data"
        }
      ],
      "source": [
        "sns.distplot((y_prueba-predicciones_rf),bins=50);"
      ]
    },
    {
      "cell_type": "markdown",
      "metadata": {},
      "source": [
        "## **Validación cruzada REGRESION LINEAL MULTIVARIADA**"
      ]
    },
    {
      "cell_type": "code",
      "execution_count": 176,
      "metadata": {},
      "outputs": [],
      "source": [
        "from sklearn.model_selection import cross_val_score\n",
        "linear_reg_scores = cross_val_score(lm, X_entrenamiento_escalado, y_entrenamiento,\n",
        "                         scoring=\"neg_mean_squared_error\", cv=5)\n",
        "linear_reg_rmse_scores = np.sqrt(-linear_reg_scores)"
      ]
    },
    {
      "cell_type": "code",
      "execution_count": 177,
      "metadata": {},
      "outputs": [
        {
          "name": "stdout",
          "output_type": "stream",
          "text": [
            "Scores: [1.39824197 1.80189657 2.05510236 1.70522543 2.21153457]\n",
            "Mean: 1.834400181974481\n",
            "Standard deviation: 0.2824593364447591\n"
          ]
        }
      ],
      "source": [
        "def display_scores(linear_reg_scores):\n",
        "    print(\"Scores:\", linear_reg_scores)\n",
        "    print(\"Mean:\", linear_reg_scores.mean())\n",
        "    print(\"Standard deviation:\", linear_reg_scores.std())\n",
        "\n",
        "display_scores(linear_reg_rmse_scores)"
      ]
    },
    {
      "cell_type": "markdown",
      "metadata": {},
      "source": [
        "## **Validación cruzada RANDOM FOREST**"
      ]
    },
    {
      "cell_type": "code",
      "execution_count": 178,
      "metadata": {},
      "outputs": [],
      "source": [
        "rf_scores = cross_val_score(reg_rf, X_entrenamiento_escalado, y_entrenamiento,\n",
        "                         scoring=\"neg_mean_squared_error\", cv=5)\n",
        "rf_scores_rmse_scores = np.sqrt(-rf_scores)"
      ]
    },
    {
      "cell_type": "code",
      "execution_count": 179,
      "metadata": {},
      "outputs": [
        {
          "name": "stdout",
          "output_type": "stream",
          "text": [
            "Scores: [0.75657286 0.76820174 0.87301469 0.84274114 1.29417124]\n",
            "Mean: 0.9069403335795642\n",
            "Standard deviation: 0.1985341439818027\n"
          ]
        }
      ],
      "source": [
        "def display_scores(rf_scores):\n",
        "    print(\"Scores:\", rf_scores)\n",
        "    print(\"Mean:\", rf_scores.mean())\n",
        "    print(\"Standard deviation:\", rf_scores.std())\n",
        "\n",
        "display_scores(rf_scores_rmse_scores)"
      ]
    },
    {
      "cell_type": "markdown",
      "metadata": {},
      "source": [
        "## *El mejor modelo es el Random Forest*"
      ]
    },
    {
      "cell_type": "markdown",
      "metadata": {
        "id": "N8krRLvON77S"
      },
      "source": [
        "## **Afinamiento del algoritmo Random Forest xon GridSearchCV.**\n"
      ]
    },
    {
      "cell_type": "code",
      "execution_count": 180,
      "metadata": {},
      "outputs": [
        {
          "name": "stdout",
          "output_type": "stream",
          "text": [
            "Fitting 5 folds for each of 6 candidates, totalling 30 fits\n",
            "[CV] END ....................max_features=1, n_estimators=10; total time=   0.0s\n",
            "[CV] END ....................max_features=1, n_estimators=10; total time=   0.0s\n",
            "[CV] END ....................max_features=1, n_estimators=10; total time=   0.0s\n",
            "[CV] END ....................max_features=1, n_estimators=10; total time=   0.0s\n",
            "[CV] END ....................max_features=1, n_estimators=10; total time=   0.0s\n",
            "[CV] END ....................max_features=1, n_estimators=50; total time=   0.0s\n"
          ]
        },
        {
          "name": "stdout",
          "output_type": "stream",
          "text": [
            "[CV] END ....................max_features=1, n_estimators=50; total time=   0.0s\n",
            "[CV] END ....................max_features=1, n_estimators=50; total time=   0.0s\n",
            "[CV] END ....................max_features=1, n_estimators=50; total time=   0.0s\n",
            "[CV] END ....................max_features=1, n_estimators=50; total time=   0.0s\n",
            "[CV] END ...................max_features=1, n_estimators=100; total time=   0.0s\n",
            "[CV] END ...................max_features=1, n_estimators=100; total time=   0.0s\n",
            "[CV] END ...................max_features=1, n_estimators=100; total time=   0.0s\n",
            "[CV] END ...................max_features=1, n_estimators=100; total time=   0.0s\n",
            "[CV] END ...................max_features=1, n_estimators=100; total time=   0.0s\n",
            "[CV] END ....................max_features=3, n_estimators=10; total time=   0.0s\n",
            "[CV] END ....................max_features=3, n_estimators=10; total time=   0.0s\n",
            "[CV] END ....................max_features=3, n_estimators=10; total time=   0.0s\n",
            "[CV] END ....................max_features=3, n_estimators=10; total time=   0.0s\n",
            "[CV] END ....................max_features=3, n_estimators=10; total time=   0.0s\n",
            "[CV] END ....................max_features=3, n_estimators=50; total time=   0.0s\n",
            "[CV] END ....................max_features=3, n_estimators=50; total time=   0.0s\n",
            "[CV] END ....................max_features=3, n_estimators=50; total time=   0.0s\n",
            "[CV] END ....................max_features=3, n_estimators=50; total time=   0.0s\n",
            "[CV] END ....................max_features=3, n_estimators=50; total time=   0.0s\n",
            "[CV] END ...................max_features=3, n_estimators=100; total time=   0.0s\n",
            "[CV] END ...................max_features=3, n_estimators=100; total time=   0.0s\n",
            "[CV] END ...................max_features=3, n_estimators=100; total time=   0.0s\n",
            "[CV] END ...................max_features=3, n_estimators=100; total time=   0.0s\n",
            "[CV] END ...................max_features=3, n_estimators=100; total time=   0.0s\n"
          ]
        },
        {
          "data": {
            "text/plain": [
              "GridSearchCV(estimator=RandomForestRegressor(random_state=100),\n",
              "             param_grid={'max_features': [1, 3], 'n_estimators': [10, 50, 100]},\n",
              "             verbose=2)"
            ]
          },
          "execution_count": 180,
          "metadata": {},
          "output_type": "execute_result"
        }
      ],
      "source": [
        "from sklearn.model_selection import GridSearchCV\n",
        "param_grid = {'n_estimators': [10, 50, 100], 'max_features': [1, 3]}\n",
        "grid = GridSearchCV(reg_rf,param_grid,refit=True,verbose=2)  #afinamiento de Random Forest!\n",
        "grid.fit(X_entrenamiento_escalado,y_entrenamiento)"
      ]
    },
    {
      "cell_type": "markdown",
      "metadata": {
        "id": "mWFtbrDhOZsF"
      },
      "source": [
        "## **RMSE del algoritmo afinado**"
      ]
    },
    {
      "cell_type": "code",
      "execution_count": 181,
      "metadata": {},
      "outputs": [],
      "source": [
        "from sklearn.metrics import mean_squared_error\n",
        "\n",
        "modelo_final = grid.best_estimator_\n",
        "\n",
        "predicciones_finales = modelo_final.predict(X_prueba_escalado)\n",
        "\n",
        "final_mse = mean_squared_error(y_prueba, predicciones_finales)\n",
        "final_rmse = np.sqrt(final_mse)\n"
      ]
    },
    {
      "cell_type": "code",
      "execution_count": 182,
      "metadata": {},
      "outputs": [
        {
          "data": {
            "text/plain": [
              "2.0176048237947883"
            ]
          },
          "execution_count": 182,
          "metadata": {},
          "output_type": "execute_result"
        }
      ],
      "source": [
        "final_rmse"
      ]
    }
  ],
  "metadata": {
    "colab": {
      "provenance": []
    },
    "kernelspec": {
      "display_name": "Python 3",
      "name": "python3"
    },
    "language_info": {
      "codemirror_mode": {
        "name": "ipython",
        "version": 3
      },
      "file_extension": ".py",
      "mimetype": "text/x-python",
      "name": "python",
      "nbconvert_exporter": "python",
      "pygments_lexer": "ipython3",
      "version": "3.9.7"
    }
  },
  "nbformat": 4,
  "nbformat_minor": 0
}
