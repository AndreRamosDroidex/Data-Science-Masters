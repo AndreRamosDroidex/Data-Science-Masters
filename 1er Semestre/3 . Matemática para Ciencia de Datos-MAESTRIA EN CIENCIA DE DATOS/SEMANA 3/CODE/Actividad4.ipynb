{
  "cells": [
    {
      "cell_type": "markdown",
      "metadata": {
        "id": "MZy9hJg79nIf"
      },
      "source": [
        "# Ejercicio 1\n",
        "\n",
        "Usar el conjunto de datos Arvertising y determinar los siguientes Modelos de regresión lineal\n",
        "\n",
        "*   Sales = $\\beta_0$ + $\\beta_1 \\times $ TV\n",
        "*   Sales = $\\beta_0$ + $\\beta_1 \\times $ Radio\n",
        "*   Sales = $\\beta_0$ + $\\beta_1 \\times $ Newspaper\n",
        "*   Sales = $\\beta_0$ + $\\beta_1 \\times $ TV +$\\beta_2 \\times $ Radio + $\\beta_3 \\times $ Newspaper\n",
        "*   Sales = $\\beta_0$ + $\\beta_1 \\times $ TV +$\\beta_2 \\times $ Radio + $\\beta_3 \\times $ TV $\\times $ Radio\n",
        "\n",
        "En cada caso, obtener el MSE y el MAE.\n",
        "\n",
        "$$MSE=\\frac{\\displaystyle\\sum_{i=1}^{N}(Y_{\\text{real},i}-Y_{\\text{pred},i})^{2}}{N}$$\n",
        "\n",
        "\n",
        "$$MAE=\\frac{\\displaystyle\\sum_{i=1}^{N}  |Y_{\\text{real},i}-Y_{\\text{pred},i}|}{N}$$\n"
      ]
    },
    {
      "cell_type": "code",
      "execution_count": 8,
      "metadata": {},
      "outputs": [],
      "source": [
        "import numpy as np\n",
        "from sklearn.metrics import mean_squared_error, mean_absolute_error\n",
        "\n",
        "import pandas as pd\n",
        "import matplotlib.pyplot as plt\n"
      ]
    },
    {
      "cell_type": "code",
      "execution_count": 2,
      "metadata": {},
      "outputs": [],
      "source": [
        "data = pd.read_csv('Data/Advertising.csv')"
      ]
    },
    {
      "cell_type": "code",
      "execution_count": 3,
      "metadata": {},
      "outputs": [
        {
          "data": {
            "text/html": [
              "<div>\n",
              "<style scoped>\n",
              "    .dataframe tbody tr th:only-of-type {\n",
              "        vertical-align: middle;\n",
              "    }\n",
              "\n",
              "    .dataframe tbody tr th {\n",
              "        vertical-align: top;\n",
              "    }\n",
              "\n",
              "    .dataframe thead th {\n",
              "        text-align: right;\n",
              "    }\n",
              "</style>\n",
              "<table border=\"1\" class=\"dataframe\">\n",
              "  <thead>\n",
              "    <tr style=\"text-align: right;\">\n",
              "      <th></th>\n",
              "      <th>Unnamed: 0</th>\n",
              "      <th>TV</th>\n",
              "      <th>radio</th>\n",
              "      <th>newspaper</th>\n",
              "      <th>sales</th>\n",
              "    </tr>\n",
              "  </thead>\n",
              "  <tbody>\n",
              "    <tr>\n",
              "      <th>0</th>\n",
              "      <td>1</td>\n",
              "      <td>230.1</td>\n",
              "      <td>37.8</td>\n",
              "      <td>69.2</td>\n",
              "      <td>22.1</td>\n",
              "    </tr>\n",
              "    <tr>\n",
              "      <th>1</th>\n",
              "      <td>2</td>\n",
              "      <td>44.5</td>\n",
              "      <td>39.3</td>\n",
              "      <td>45.1</td>\n",
              "      <td>10.4</td>\n",
              "    </tr>\n",
              "    <tr>\n",
              "      <th>2</th>\n",
              "      <td>3</td>\n",
              "      <td>17.2</td>\n",
              "      <td>45.9</td>\n",
              "      <td>69.3</td>\n",
              "      <td>9.3</td>\n",
              "    </tr>\n",
              "    <tr>\n",
              "      <th>3</th>\n",
              "      <td>4</td>\n",
              "      <td>151.5</td>\n",
              "      <td>41.3</td>\n",
              "      <td>58.5</td>\n",
              "      <td>18.5</td>\n",
              "    </tr>\n",
              "    <tr>\n",
              "      <th>4</th>\n",
              "      <td>5</td>\n",
              "      <td>180.8</td>\n",
              "      <td>10.8</td>\n",
              "      <td>58.4</td>\n",
              "      <td>12.9</td>\n",
              "    </tr>\n",
              "  </tbody>\n",
              "</table>\n",
              "</div>"
            ],
            "text/plain": [
              "   Unnamed: 0     TV  radio  newspaper  sales\n",
              "0           1  230.1   37.8       69.2   22.1\n",
              "1           2   44.5   39.3       45.1   10.4\n",
              "2           3   17.2   45.9       69.3    9.3\n",
              "3           4  151.5   41.3       58.5   18.5\n",
              "4           5  180.8   10.8       58.4   12.9"
            ]
          },
          "execution_count": 3,
          "metadata": {},
          "output_type": "execute_result"
        }
      ],
      "source": [
        "data.head(5)"
      ]
    },
    {
      "cell_type": "code",
      "execution_count": 4,
      "metadata": {},
      "outputs": [],
      "source": [
        "data1 = np.array([data['sales']]).T\n"
      ]
    },
    {
      "cell_type": "code",
      "execution_count": 13,
      "metadata": {},
      "outputs": [
        {
          "data": {
            "image/png": "[encoded data removed]",
            "text/plain": [
              "<Figure size 432x288 with 1 Axes>"
            ]
          },
          "metadata": {
            "needs_background": "light"
          },
          "output_type": "display_data"
        }
      ],
      "source": [
        "# design matrix\n",
        "X = np.concatenate( [np.ones((len(data['TV']), 1)), np.array([data['TV']]).T],axis=1)\n",
        "# fit the model\n",
        "b = np.linalg.solve(X.T@X,X.T@data1)\n",
        "\n",
        "# compute the model-predicted values\n",
        "yHat = X@b\n",
        "\n",
        "# plot data and model prediction\n",
        "plt.plot(X,data1,'bs',label='Data')\n",
        "plt.plot(X,yHat,'ro--',label='Model pred.')\n",
        "plt.legend()\n",
        "plt.show()"
      ]
    },
    {
      "cell_type": "code",
      "execution_count": 20,
      "metadata": {},
      "outputs": [
        {
          "name": "stdout",
          "output_type": "stream",
          "text": [
            "MSE: 10.512652915656757\n",
            "MAE: 2.5498060389274873\n"
          ]
        }
      ],
      "source": [
        "print('MSE:',mean_squared_error(data1, yHat))\n",
        "print('MAE:',mean_absolute_error(data1, yHat))"
      ]
    },
    {
      "cell_type": "code",
      "execution_count": 26,
      "metadata": {},
      "outputs": [],
      "source": [
        "data2 = np.array([data['sales']]).T\n",
        "\n",
        "N = len(data['radio'].T)\n"
      ]
    },
    {
      "cell_type": "code",
      "execution_count": 29,
      "metadata": {},
      "outputs": [
        {
          "data": {
            "image/png": "[encoded data removed]",
            "text/plain": [
              "<Figure size 432x288 with 1 Axes>"
            ]
          },
          "metadata": {
            "needs_background": "light"
          },
          "output_type": "display_data"
        }
      ],
      "source": [
        "# design matrix\n",
        "X2 = np.concatenate( [np.ones((len(data['radio']), 1)), np.array([data['radio']]).T],axis=1)\n",
        "\n",
        "# fit the model\n",
        "b2 = np.linalg.solve(X2.T@X2,X2.T@data2)\n",
        "\n",
        "# compute the model-predicted values\n",
        "yHat2 = X2@b2\n",
        "\n",
        "# plot data and model prediction\n",
        "plt.plot(X2,data2,'bs',label='Data')\n",
        "plt.plot(X2,yHat2,'ro--',label='Model pred.')\n",
        "\n",
        "plt.legend()\n",
        "plt.show()"
      ]
    },
    {
      "cell_type": "code",
      "execution_count": 30,
      "metadata": {},
      "outputs": [
        {
          "name": "stdout",
          "output_type": "stream",
          "text": [
            "MSE: 18.09239774512544\n",
            "MAE: 3.3202187976420667\n"
          ]
        }
      ],
      "source": [
        "print('MSE:',mean_squared_error(data2, yHat2))\n",
        "print('MAE:',mean_absolute_error(data2, yHat2))"
      ]
    },
    {
      "cell_type": "code",
      "execution_count": 32,
      "metadata": {},
      "outputs": [],
      "source": [
        "data3 = np.array([data['sales']]).T\n",
        "\n",
        "N = len(data['newspaper'].T)\n"
      ]
    },
    {
      "cell_type": "code",
      "execution_count": 33,
      "metadata": {},
      "outputs": [
        {
          "data": {
            "image/png": "[encoded data removed]",
            "text/plain": [
              "<Figure size 432x288 with 1 Axes>"
            ]
          },
          "metadata": {
            "needs_background": "light"
          },
          "output_type": "display_data"
        }
      ],
      "source": [
        "# design matrix\n",
        "X3 = np.concatenate( [np.ones((len(data['newspaper']), 1)), np.array([data['newspaper']]).T],axis=1)\n",
        "# fit the model\n",
        "b3= np.linalg.solve(X3.T@X3,X3.T@data3)\n",
        "\n",
        "# compute the model-predicted values\n",
        "yHat3 = X3@b3\n",
        "\n",
        "# plot data and model prediction\n",
        "plt.plot(X3,data3,'bs',label='Data')\n",
        "plt.plot(X3,yHat3,'ro--',label='Model pred.')\n",
        "\n",
        "plt.legend()\n",
        "plt.show()"
      ]
    },
    {
      "cell_type": "code",
      "execution_count": 34,
      "metadata": {},
      "outputs": [
        {
          "name": "stdout",
          "output_type": "stream",
          "text": [
            "MSE: 25.674022720559698\n",
            "MAE: 4.1465597438384885\n"
          ]
        }
      ],
      "source": [
        "print('MSE:',mean_squared_error(data3, yHat3))\n",
        "print('MAE:',mean_absolute_error(data3, yHat3))"
      ]
    },
    {
      "cell_type": "code",
      "execution_count": 47,
      "metadata": {},
      "outputs": [],
      "source": [
        "data4 = data[['sales']]\n",
        "\n",
        "N = len(data[['TV', 'radio', 'newspaper']])\n"
      ]
    },
    {
      "cell_type": "code",
      "execution_count": 50,
      "metadata": {},
      "outputs": [
        {
          "data": {
            "image/png": "[encoded data removed]",
            "text/plain": [
              "<Figure size 432x288 with 1 Axes>"
            ]
          },
          "metadata": {
            "needs_background": "light"
          },
          "output_type": "display_data"
        }
      ],
      "source": [
        "# design matrix\n",
        "X4 = np.concatenate( [np.ones((len(data['newspaper']), 1)), np.array([data['TV']]).T,\n",
        "                      np.array([data['radio']]).T,\n",
        "                      np.array([data['newspaper']]).T\n",
        "                      ],axis=1)\n",
        "\n",
        "# fit the model\n",
        "b4= np.linalg.solve(X4.T@X4,X4.T@data4)\n",
        "\n",
        "# compute the model-predicted values\n",
        "yHat4 = X4@b4\n",
        "\n",
        "# plot data and model prediction\n",
        "plt.plot(X4,data4, 'bs',label='Data')\n",
        "plt.plot(X4,yHat4, 'ro--',label='Model pred.')\n",
        "\n",
        "plt.legend()\n",
        "plt.show()"
      ]
    },
    {
      "cell_type": "code",
      "execution_count": 51,
      "metadata": {},
      "outputs": [
        {
          "name": "stdout",
          "output_type": "stream",
          "text": [
            "MSE: 2.784126314510936\n",
            "MAE: 1.2520112296870667\n"
          ]
        }
      ],
      "source": [
        "print('MSE:',mean_squared_error(data4, yHat4))\n",
        "print('MAE:',mean_absolute_error(data4, yHat4))"
      ]
    },
    {
      "cell_type": "code",
      "execution_count": 52,
      "metadata": {},
      "outputs": [],
      "source": [
        "data5 = data[['sales']]\n",
        "\n",
        "N = len(data[['TV', 'radio', 'newspaper']])\n"
      ]
    },
    {
      "cell_type": "code",
      "execution_count": 55,
      "metadata": {},
      "outputs": [
        {
          "name": "stderr",
          "output_type": "stream",
          "text": [
            "C:\\Users\\DELL\\AppData\\Local\\Temp/ipykernel_29848/1528293657.py:4: FutureWarning: Calling a ufunc on non-aligned DataFrames (or DataFrame/Series combination). Currently, the indices are ignored and the result takes the index/columns of the first DataFrame. In the future , the DataFrames/Series will be aligned before applying the ufunc.\n",
            "Convert one of the arguments to a NumPy array (eg 'ufunc(df1, np.asarray(df2)') to keep the current behaviour, or align manually (eg 'df1, df2 = df1.align(df2)') before passing to the ufunc to obtain the future behaviour and silence this warning.\n",
            "  np.multiply(data[['TV']], data[['radio']])\n"
          ]
        },
        {
          "data": {
            "image/png": "[encoded data removed]",
            "text/plain": [
              "<Figure size 432x288 with 1 Axes>"
            ]
          },
          "metadata": {
            "needs_background": "light"
          },
          "output_type": "display_data"
        }
      ],
      "source": [
        "# design matrix\n",
        "X5 = np.concatenate( [np.ones((len(data[['TV', 'radio']]), 1)), np.array([data['radio']]).T,\n",
        "                                np.array([data['TV']]).T ,\n",
        "                                np.multiply(data[['TV']], data[['radio']])\n",
        "                      ],axis=1)\n",
        "\n",
        "# fit the model\n",
        "b5= np.linalg.solve(X5.T@X5,X5.T@data5)\n",
        "\n",
        "# compute the model-predicted values\n",
        "yHat5 = X5@b5\n",
        "\n",
        "# plot data and model prediction\n",
        "plt.plot(X5,data5, 'bs',label='Data')\n",
        "plt.plot(X5,yHat5, 'ro--',label='Model pred.')\n",
        "\n",
        "plt.legend()\n",
        "plt.show()"
      ]
    },
    {
      "cell_type": "code",
      "execution_count": 56,
      "metadata": {},
      "outputs": [
        {
          "name": "stdout",
          "output_type": "stream",
          "text": [
            "MSE: 0.8724169131386358\n",
            "MAE: 0.6604837217764836\n"
          ]
        }
      ],
      "source": [
        "print('MSE:',mean_squared_error(data5, yHat5))\n",
        "print('MAE:',mean_absolute_error(data5, yHat5))"
      ]
    },
    {
      "cell_type": "markdown",
      "metadata": {
        "id": "1PuQuCZeAmpr"
      },
      "source": [
        "# Ejercicio 2\n",
        "\n",
        "Usar el conjunto de datos Salary_dataset y determinar los modelos de regresión polinomial de la forma:\n",
        "\n",
        "\n",
        "$$Salary = \\beta_0 + \\beta_1 \\times  \\text{YearsExperience} + \\beta_1 \\times  \\text{YearsExperience}^{2}+ \\cdots + \\text{YearsExperience}^{P} $$\n",
        "\n",
        "Evaluar para cada $P=1,2,3,4,5$ y obtener el valor de $P$ más adeacuado en función del MSE y MAE.\n"
      ]
    },
    {
      "cell_type": "code",
      "execution_count": 60,
      "metadata": {
        "id": "rGtPzsWE9j1G"
      },
      "outputs": [],
      "source": [
        "data_s = pd.read_csv('Data/Salary_dataset.csv')\n",
        "data_s = data_s.drop(columns=['Unnamed: 0'])"
      ]
    },
    {
      "cell_type": "code",
      "execution_count": 62,
      "metadata": {},
      "outputs": [],
      "source": [
        "p_list = [1, 2, 3, 4, 5]"
      ]
    },
    {
      "cell_type": "code",
      "execution_count": 67,
      "metadata": {},
      "outputs": [],
      "source": [
        "def gen_matrix(x_values, p_value):\n",
        "  matrix = np.ones((len(x_values), 1))\n",
        "\n",
        "  for i in range (p_value):\n",
        "    matrix = np.concatenate((matrix, x_values**(i+1)), axis=1)\n",
        "\n",
        "  return matrix\n"
      ]
    },
    {
      "cell_type": "code",
      "execution_count": 68,
      "metadata": {},
      "outputs": [],
      "source": [
        "\n",
        "def normalize(df):\n",
        "  max_val = df.max()\n",
        "  return df / max_val"
      ]
    },
    {
      "cell_type": "code",
      "execution_count": 70,
      "metadata": {},
      "outputs": [],
      "source": [
        "x = data_s[['YearsExperience']]\n",
        "y = data_s[['Salary']]\n",
        "y = normalize(y)"
      ]
    },
    {
      "cell_type": "code",
      "execution_count": 73,
      "metadata": {},
      "outputs": [],
      "source": [
        "def calculate_pols(x, p_list):\n",
        "  results = {}\n",
        "  for p in p_list:\n",
        "    current_A = gen_matrix(x, p)\n",
        "    current_b = np.linalg.solve(current_A.T@current_A, current_A.T@y)\n",
        "    current_yHat = current_A@current_b\n",
        "    results[p] = [mean_squared_error(y, current_yHat), mean_absolute_error(y, current_yHat)]\n",
        "return results"
      ]
    },
    {
      "cell_type": "code",
      "execution_count": 74,
      "metadata": {},
      "outputs": [
        {
          "name": "stdout",
          "output_type": "stream",
          "text": [
            "+----------+------------+-----------+\n",
            "|   Grad P |        MSE |       MAE |\n",
            "+==========+============+===========+\n",
            "|        1 | 0.00208754 | 0.0379453 |\n",
            "+----------+------------+-----------+\n",
            "|        2 | 0.00208664 | 0.0380178 |\n",
            "+----------+------------+-----------+\n",
            "|        3 | 0.0017655  | 0.0348803 |\n",
            "+----------+------------+-----------+\n",
            "|        4 | 0.00176263 | 0.034852  |\n",
            "+----------+------------+-----------+\n",
            "|        5 | 0.00162205 | 0.0337118 |\n",
            "+----------+------------+-----------+\n"
          ]
        }
      ],
      "source": [
        "print(tabulate(format_dict(calculate_pols(x, p_list)), headers=['Grad P', 'MSE', 'MAE'], tablefmt=\"grid\"))"
      ]
    }
  ],
  "metadata": {
    "colab": {
      "provenance": []
    },
    "kernelspec": {
      "display_name": "Python 3",
      "name": "python3"
    },
    "language_info": {
      "codemirror_mode": {
        "name": "ipython",
        "version": 3
      },
      "file_extension": ".py",
      "mimetype": "text/x-python",
      "name": "python",
      "nbconvert_exporter": "python",
      "pygments_lexer": "ipython3",
      "version": "3.9.7"
    }
  },
  "nbformat": 4,
  "nbformat_minor": 0
}
