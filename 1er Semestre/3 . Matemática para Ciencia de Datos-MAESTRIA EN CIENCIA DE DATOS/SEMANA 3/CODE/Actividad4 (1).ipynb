{
  "nbformat": 4,
  "nbformat_minor": 0,
  "metadata": {
    "colab": {
      "provenance": []
    },
    "kernelspec": {
      "name": "python3",
      "display_name": "Python 3"
    },
    "language_info": {
      "name": "python"
    }
  },
  "cells": [
    {
      "cell_type": "markdown",
      "source": [
        "# Ejercicio 1\n",
        "\n",
        "Usar el conjunto de datos Arvertising y determinar los siguientes Modelos de regresión lineal\n",
        "\n",
        "*   Sales = $\\beta_0$ + $\\beta_1 \\times $ TV\n",
        "*   Sales = $\\beta_0$ + $\\beta_1 \\times $ Radio\n",
        "*   Sales = $\\beta_0$ + $\\beta_1 \\times $ Newspaper\n",
        "*   Sales = $\\beta_0$ + $\\beta_1 \\times $ TV +$\\beta_2 \\times $ Radio + $\\beta_3 \\times $ Newspaper\n",
        "*   Sales = $\\beta_0$ + $\\beta_1 \\times $ TV +$\\beta_2 \\times $ Radio + $\\beta_3 \\times $ TV $\\times $ Radio\n",
        "\n",
        "En cada caso, obtener el MSE y el MAE.\n",
        "\n",
        "$$MSE=\\frac{\\displaystyle\\sum_{i=1}^{N}(Y_{\\text{real},i}-Y_{\\text{pred},i})^{2}}{N}$$\n",
        "\n",
        "\n",
        "$$MAE=\\frac{\\displaystyle\\sum_{i=1}^{N}  |Y_{\\text{real},i}-Y_{\\text{pred},i}|}{N}$$\n"
      ],
      "metadata": {
        "id": "MZy9hJg79nIf"
      }
    },
    {
      "cell_type": "code",
      "source": [
        "from google.colab import drive\n",
        "drive.mount('/content/drive')"
      ],
      "metadata": {
        "colab": {
          "base_uri": "https://localhost:8080/"
        },
        "id": "Rh0Njf8ETIyf",
        "outputId": "5a8849bc-aa02-46bd-830c-03ca3d3db4f3"
      },
      "execution_count": 1,
      "outputs": [
        {
          "output_type": "stream",
          "name": "stdout",
          "text": [
            "Drive already mounted at /content/drive; to attempt to forcibly remount, call drive.mount(\"/content/drive\", force_remount=True).\n"
          ]
        }
      ]
    },
    {
      "cell_type": "code",
      "source": [
        "import pandas as pd\n",
        "import numpy as np\n",
        "from sklearn.metrics import mean_squared_error, mean_absolute_error\n",
        "\n",
        "from tabulate import tabulate"
      ],
      "metadata": {
        "id": "rAW0dODzU89K"
      },
      "execution_count": 2,
      "outputs": []
    },
    {
      "cell_type": "code",
      "source": [
        "df_advertising = pd.read_csv('/content/drive/MyDrive/Other/Advertising.csv')\n",
        "df_advertising = df_advertising.drop(columns=['Unnamed: 0'])"
      ],
      "metadata": {
        "id": "FTsoCqq4VCyY"
      },
      "execution_count": 3,
      "outputs": []
    },
    {
      "cell_type": "code",
      "source": [
        "df_advertising"
      ],
      "metadata": {
        "colab": {
          "base_uri": "https://localhost:8080/",
          "height": 423
        },
        "id": "oM9NIgclVo9P",
        "outputId": "3b63766d-a0a5-4074-b773-1e18079dec78"
      },
      "execution_count": 4,
      "outputs": [
        {
          "output_type": "execute_result",
          "data": {
            "text/plain": [
              "        TV  radio  newspaper  sales\n",
              "0    230.1   37.8       69.2   22.1\n",
              "1     44.5   39.3       45.1   10.4\n",
              "2     17.2   45.9       69.3    9.3\n",
              "3    151.5   41.3       58.5   18.5\n",
              "4    180.8   10.8       58.4   12.9\n",
              "..     ...    ...        ...    ...\n",
              "195   38.2    3.7       13.8    7.6\n",
              "196   94.2    4.9        8.1    9.7\n",
              "197  177.0    9.3        6.4   12.8\n",
              "198  283.6   42.0       66.2   25.5\n",
              "199  232.1    8.6        8.7   13.4\n",
              "\n",
              "[200 rows x 4 columns]"
            ],
            "text/html": [
              "\n",
              "  <div id=\"df-506ccc09-03d4-4f7e-8b03-53c4f0c420d5\" class=\"colab-df-container\">\n",
              "    <div>\n",
              "<style scoped>\n",
              "    .dataframe tbody tr th:only-of-type {\n",
              "        vertical-align: middle;\n",
              "    }\n",
              "\n",
              "    .dataframe tbody tr th {\n",
              "        vertical-align: top;\n",
              "    }\n",
              "\n",
              "    .dataframe thead th {\n",
              "        text-align: right;\n",
              "    }\n",
              "</style>\n",
              "<table border=\"1\" class=\"dataframe\">\n",
              "  <thead>\n",
              "    <tr style=\"text-align: right;\">\n",
              "      <th></th>\n",
              "      <th>TV</th>\n",
              "      <th>radio</th>\n",
              "      <th>newspaper</th>\n",
              "      <th>sales</th>\n",
              "    </tr>\n",
              "  </thead>\n",
              "  <tbody>\n",
              "    <tr>\n",
              "      <th>0</th>\n",
              "      <td>230.1</td>\n",
              "      <td>37.8</td>\n",
              "      <td>69.2</td>\n",
              "      <td>22.1</td>\n",
              "    </tr>\n",
              "    <tr>\n",
              "      <th>1</th>\n",
              "      <td>44.5</td>\n",
              "      <td>39.3</td>\n",
              "      <td>45.1</td>\n",
              "      <td>10.4</td>\n",
              "    </tr>\n",
              "    <tr>\n",
              "      <th>2</th>\n",
              "      <td>17.2</td>\n",
              "      <td>45.9</td>\n",
              "      <td>69.3</td>\n",
              "      <td>9.3</td>\n",
              "    </tr>\n",
              "    <tr>\n",
              "      <th>3</th>\n",
              "      <td>151.5</td>\n",
              "      <td>41.3</td>\n",
              "      <td>58.5</td>\n",
              "      <td>18.5</td>\n",
              "    </tr>\n",
              "    <tr>\n",
              "      <th>4</th>\n",
              "      <td>180.8</td>\n",
              "      <td>10.8</td>\n",
              "      <td>58.4</td>\n",
              "      <td>12.9</td>\n",
              "    </tr>\n",
              "    <tr>\n",
              "      <th>...</th>\n",
              "      <td>...</td>\n",
              "      <td>...</td>\n",
              "      <td>...</td>\n",
              "      <td>...</td>\n",
              "    </tr>\n",
              "    <tr>\n",
              "      <th>195</th>\n",
              "      <td>38.2</td>\n",
              "      <td>3.7</td>\n",
              "      <td>13.8</td>\n",
              "      <td>7.6</td>\n",
              "    </tr>\n",
              "    <tr>\n",
              "      <th>196</th>\n",
              "      <td>94.2</td>\n",
              "      <td>4.9</td>\n",
              "      <td>8.1</td>\n",
              "      <td>9.7</td>\n",
              "    </tr>\n",
              "    <tr>\n",
              "      <th>197</th>\n",
              "      <td>177.0</td>\n",
              "      <td>9.3</td>\n",
              "      <td>6.4</td>\n",
              "      <td>12.8</td>\n",
              "    </tr>\n",
              "    <tr>\n",
              "      <th>198</th>\n",
              "      <td>283.6</td>\n",
              "      <td>42.0</td>\n",
              "      <td>66.2</td>\n",
              "      <td>25.5</td>\n",
              "    </tr>\n",
              "    <tr>\n",
              "      <th>199</th>\n",
              "      <td>232.1</td>\n",
              "      <td>8.6</td>\n",
              "      <td>8.7</td>\n",
              "      <td>13.4</td>\n",
              "    </tr>\n",
              "  </tbody>\n",
              "</table>\n",
              "<p>200 rows × 4 columns</p>\n",
              "</div>\n",
              "    <div class=\"colab-df-buttons\">\n",
              "\n",
              "  <div class=\"colab-df-container\">\n",
              "    <button class=\"colab-df-convert\" onclick=\"convertToInteractive('df-506ccc09-03d4-4f7e-8b03-53c4f0c420d5')\"\n",
              "            title=\"Convert this dataframe to an interactive table.\"\n",
              "            style=\"display:none;\">\n",
              "\n",
              "  <svg xmlns=\"http://www.w3.org/2000/svg\" height=\"24px\" viewBox=\"0 -960 960 960\">\n",
              "    <path d=\"M120-120v-720h720v720H120Zm60-500h600v-160H180v160Zm220 220h160v-160H400v160Zm0 220h160v-160H400v160ZM180-400h160v-160H180v160Zm440 0h160v-160H620v160ZM180-180h160v-160H180v160Zm440 0h160v-160H620v160Z\"/>\n",
              "  </svg>\n",
              "    </button>\n",
              "\n",
              "  <style>\n",
              "    .colab-df-container {\n",
              "      display:flex;\n",
              "      gap: 12px;\n",
              "    }\n",
              "\n",
              "    .colab-df-convert {\n",
              "      background-color: #E8F0FE;\n",
              "      border: none;\n",
              "      border-radius: 50%;\n",
              "      cursor: pointer;\n",
              "      display: none;\n",
              "      fill: #1967D2;\n",
              "      height: 32px;\n",
              "      padding: 0 0 0 0;\n",
              "      width: 32px;\n",
              "    }\n",
              "\n",
              "    .colab-df-convert:hover {\n",
              "      background-color: #E2EBFA;\n",
              "      box-shadow: 0px 1px 2px rgba(60, 64, 67, 0.3), 0px 1px 3px 1px rgba(60, 64, 67, 0.15);\n",
              "      fill: #174EA6;\n",
              "    }\n",
              "\n",
              "    .colab-df-buttons div {\n",
              "      margin-bottom: 4px;\n",
              "    }\n",
              "\n",
              "    [theme=dark] .colab-df-convert {\n",
              "      background-color: #3B4455;\n",
              "      fill: #D2E3FC;\n",
              "    }\n",
              "\n",
              "    [theme=dark] .colab-df-convert:hover {\n",
              "      background-color: #434B5C;\n",
              "      box-shadow: 0px 1px 3px 1px rgba(0, 0, 0, 0.15);\n",
              "      filter: drop-shadow(0px 1px 2px rgba(0, 0, 0, 0.3));\n",
              "      fill: #FFFFFF;\n",
              "    }\n",
              "  </style>\n",
              "\n",
              "    <script>\n",
              "      const buttonEl =\n",
              "        document.querySelector('#df-506ccc09-03d4-4f7e-8b03-53c4f0c420d5 button.colab-df-convert');\n",
              "      buttonEl.style.display =\n",
              "        google.colab.kernel.accessAllowed ? 'block' : 'none';\n",
              "\n",
              "      async function convertToInteractive(key) {\n",
              "        const element = document.querySelector('#df-506ccc09-03d4-4f7e-8b03-53c4f0c420d5');\n",
              "        const dataTable =\n",
              "          await google.colab.kernel.invokeFunction('convertToInteractive',\n",
              "                                                    [key], {});\n",
              "        if (!dataTable) return;\n",
              "\n",
              "        const docLinkHtml = 'Like what you see? Visit the ' +\n",
              "          '<a target=\"_blank\" href=https://colab.research.google.com/notebooks/data_table.ipynb>data table notebook</a>'\n",
              "          + ' to learn more about interactive tables.';\n",
              "        element.innerHTML = '';\n",
              "        dataTable['output_type'] = 'display_data';\n",
              "        await google.colab.output.renderOutput(dataTable, element);\n",
              "        const docLink = document.createElement('div');\n",
              "        docLink.innerHTML = docLinkHtml;\n",
              "        element.appendChild(docLink);\n",
              "      }\n",
              "    </script>\n",
              "  </div>\n",
              "\n",
              "\n",
              "<div id=\"df-4f88e71d-7ea9-4fa0-92f7-ec1aab5ce07d\">\n",
              "  <button class=\"colab-df-quickchart\" onclick=\"quickchart('df-4f88e71d-7ea9-4fa0-92f7-ec1aab5ce07d')\"\n",
              "            title=\"Suggest charts\"\n",
              "            style=\"display:none;\">\n",
              "\n",
              "<svg xmlns=\"http://www.w3.org/2000/svg\" height=\"24px\"viewBox=\"0 0 24 24\"\n",
              "     width=\"24px\">\n",
              "    <g>\n",
              "        <path d=\"M19 3H5c-1.1 0-2 .9-2 2v14c0 1.1.9 2 2 2h14c1.1 0 2-.9 2-2V5c0-1.1-.9-2-2-2zM9 17H7v-7h2v7zm4 0h-2V7h2v10zm4 0h-2v-4h2v4z\"/>\n",
              "    </g>\n",
              "</svg>\n",
              "  </button>\n",
              "\n",
              "<style>\n",
              "  .colab-df-quickchart {\n",
              "      --bg-color: #E8F0FE;\n",
              "      --fill-color: #1967D2;\n",
              "      --hover-bg-color: #E2EBFA;\n",
              "      --hover-fill-color: #174EA6;\n",
              "      --disabled-fill-color: #AAA;\n",
              "      --disabled-bg-color: #DDD;\n",
              "  }\n",
              "\n",
              "  [theme=dark] .colab-df-quickchart {\n",
              "      --bg-color: #3B4455;\n",
              "      --fill-color: #D2E3FC;\n",
              "      --hover-bg-color: #434B5C;\n",
              "      --hover-fill-color: #FFFFFF;\n",
              "      --disabled-bg-color: #3B4455;\n",
              "      --disabled-fill-color: #666;\n",
              "  }\n",
              "\n",
              "  .colab-df-quickchart {\n",
              "    background-color: var(--bg-color);\n",
              "    border: none;\n",
              "    border-radius: 50%;\n",
              "    cursor: pointer;\n",
              "    display: none;\n",
              "    fill: var(--fill-color);\n",
              "    height: 32px;\n",
              "    padding: 0;\n",
              "    width: 32px;\n",
              "  }\n",
              "\n",
              "  .colab-df-quickchart:hover {\n",
              "    background-color: var(--hover-bg-color);\n",
              "    box-shadow: 0 1px 2px rgba(60, 64, 67, 0.3), 0 1px 3px 1px rgba(60, 64, 67, 0.15);\n",
              "    fill: var(--button-hover-fill-color);\n",
              "  }\n",
              "\n",
              "  .colab-df-quickchart-complete:disabled,\n",
              "  .colab-df-quickchart-complete:disabled:hover {\n",
              "    background-color: var(--disabled-bg-color);\n",
              "    fill: var(--disabled-fill-color);\n",
              "    box-shadow: none;\n",
              "  }\n",
              "\n",
              "  .colab-df-spinner {\n",
              "    border: 2px solid var(--fill-color);\n",
              "    border-color: transparent;\n",
              "    border-bottom-color: var(--fill-color);\n",
              "    animation:\n",
              "      spin 1s steps(1) infinite;\n",
              "  }\n",
              "\n",
              "  @keyframes spin {\n",
              "    0% {\n",
              "      border-color: transparent;\n",
              "      border-bottom-color: var(--fill-color);\n",
              "      border-left-color: var(--fill-color);\n",
              "    }\n",
              "    20% {\n",
              "      border-color: transparent;\n",
              "      border-left-color: var(--fill-color);\n",
              "      border-top-color: var(--fill-color);\n",
              "    }\n",
              "    30% {\n",
              "      border-color: transparent;\n",
              "      border-left-color: var(--fill-color);\n",
              "      border-top-color: var(--fill-color);\n",
              "      border-right-color: var(--fill-color);\n",
              "    }\n",
              "    40% {\n",
              "      border-color: transparent;\n",
              "      border-right-color: var(--fill-color);\n",
              "      border-top-color: var(--fill-color);\n",
              "    }\n",
              "    60% {\n",
              "      border-color: transparent;\n",
              "      border-right-color: var(--fill-color);\n",
              "    }\n",
              "    80% {\n",
              "      border-color: transparent;\n",
              "      border-right-color: var(--fill-color);\n",
              "      border-bottom-color: var(--fill-color);\n",
              "    }\n",
              "    90% {\n",
              "      border-color: transparent;\n",
              "      border-bottom-color: var(--fill-color);\n",
              "    }\n",
              "  }\n",
              "</style>\n",
              "\n",
              "  <script>\n",
              "    async function quickchart(key) {\n",
              "      const quickchartButtonEl =\n",
              "        document.querySelector('#' + key + ' button');\n",
              "      quickchartButtonEl.disabled = true;  // To prevent multiple clicks.\n",
              "      quickchartButtonEl.classList.add('colab-df-spinner');\n",
              "      try {\n",
              "        const charts = await google.colab.kernel.invokeFunction(\n",
              "            'suggestCharts', [key], {});\n",
              "      } catch (error) {\n",
              "        console.error('Error during call to suggestCharts:', error);\n",
              "      }\n",
              "      quickchartButtonEl.classList.remove('colab-df-spinner');\n",
              "      quickchartButtonEl.classList.add('colab-df-quickchart-complete');\n",
              "    }\n",
              "    (() => {\n",
              "      let quickchartButtonEl =\n",
              "        document.querySelector('#df-4f88e71d-7ea9-4fa0-92f7-ec1aab5ce07d button');\n",
              "      quickchartButtonEl.style.display =\n",
              "        google.colab.kernel.accessAllowed ? 'block' : 'none';\n",
              "    })();\n",
              "  </script>\n",
              "</div>\n",
              "    </div>\n",
              "  </div>\n"
            ]
          },
          "metadata": {},
          "execution_count": 4
        }
      ]
    },
    {
      "cell_type": "code",
      "source": [
        "y = df_advertising[['sales']]"
      ],
      "metadata": {
        "id": "CV250yiAWv_p"
      },
      "execution_count": 5,
      "outputs": []
    },
    {
      "cell_type": "code",
      "source": [
        "errors = {}"
      ],
      "metadata": {
        "id": "LX-I6eoscp-m"
      },
      "execution_count": 6,
      "outputs": []
    },
    {
      "cell_type": "markdown",
      "source": [
        "**TV**\n",
        "\n",
        "Sales = $\\beta_0$ + $\\beta_1 \\times $ TV"
      ],
      "metadata": {
        "id": "Quw4-xucX2wW"
      }
    },
    {
      "cell_type": "code",
      "source": [
        "# Matrix\n",
        "A = df_advertising[['TV']]\n",
        "A = np.concatenate((np.ones((len(A), 1)), A), axis = 1)\n",
        "\n",
        "# Solver\n",
        "b = np.linalg.solve(A.T@A, A.T@y)\n",
        "\n",
        "# Predictions\n",
        "yHat = A@b\n",
        "\n",
        "# MSE and MAE\n",
        "errors['TV'] = [mean_squared_error(y, yHat), mean_absolute_error(y, yHat)]"
      ],
      "metadata": {
        "id": "58Ffm-8OWNV2"
      },
      "execution_count": 7,
      "outputs": []
    },
    {
      "cell_type": "markdown",
      "source": [
        "**Radio**\n",
        "\n",
        "Sales = $\\beta_0$ + $\\beta_1 \\times $ Radio"
      ],
      "metadata": {
        "id": "If7NhXYUdp6I"
      }
    },
    {
      "cell_type": "code",
      "source": [
        "# Matrix\n",
        "A = df_advertising[['radio']]\n",
        "A = np.concatenate((np.ones((len(A), 1)), A), axis = 1)\n",
        "\n",
        "# Solver\n",
        "b = np.linalg.solve(A.T@A, A.T@y)\n",
        "\n",
        "# Predictions\n",
        "yHat = A@b\n",
        "\n",
        "# MSE and MAE\n",
        "errors['Radio'] = [mean_squared_error(y, yHat), mean_absolute_error(y, yHat)]"
      ],
      "metadata": {
        "id": "_9Gz52zdb46A"
      },
      "execution_count": 8,
      "outputs": []
    },
    {
      "cell_type": "markdown",
      "source": [
        "**Newspaper**\n",
        "\n",
        "Sales = $\\beta_0$ + $\\beta_1 \\times $ Newspaper\n"
      ],
      "metadata": {
        "id": "8TYIIUA2dqWV"
      }
    },
    {
      "cell_type": "code",
      "source": [
        "# Matrix\n",
        "A = df_advertising[['newspaper']]\n",
        "A = np.concatenate((np.ones((len(A), 1)), A), axis = 1)\n",
        "\n",
        "# Solver\n",
        "b = np.linalg.solve(A.T@A, A.T@y)\n",
        "\n",
        "# Predictions\n",
        "yHat = A@b\n",
        "\n",
        "# MSE and MAE\n",
        "errors['Newspaper'] = [mean_squared_error(y, yHat), mean_absolute_error(y, yHat)]"
      ],
      "metadata": {
        "id": "q758XrKEdjl6"
      },
      "execution_count": 9,
      "outputs": []
    },
    {
      "cell_type": "markdown",
      "source": [
        "**Radio + Newspaper**\n",
        "\n",
        "Sales = $\\beta_0$ + $\\beta_1 \\times $ TV +$\\beta_2 \\times $ Radio + $\\beta_3 \\times $ Newspaper\n"
      ],
      "metadata": {
        "id": "xwZC6l34dq00"
      }
    },
    {
      "cell_type": "code",
      "source": [
        "# Matrix\n",
        "A = df_advertising[['TV', 'radio', 'newspaper']]\n",
        "A = np.concatenate((np.ones((len(A), 1)), A), axis = 1)\n",
        "\n",
        "# Solver\n",
        "b = np.linalg.solve(A.T@A, A.T@y)\n",
        "\n",
        "# Predictions\n",
        "yHat = A@b\n",
        "\n",
        "# MSE and MAE\n",
        "errors['TV + Radio + Newspaper'] = [mean_squared_error(y, yHat), mean_absolute_error(y, yHat)]"
      ],
      "metadata": {
        "id": "fSZunkKkdncK"
      },
      "execution_count": 10,
      "outputs": []
    },
    {
      "cell_type": "markdown",
      "source": [
        "**TV + Radio + TV and Radio**\n",
        "\n",
        "Sales = $\\beta_0$ + $\\beta_1 \\times $ TV +$\\beta_2 \\times $ Radio + $\\beta_3 \\times $ TV $\\times $ Radio"
      ],
      "metadata": {
        "id": "Ze6yJcMIdrWO"
      }
    },
    {
      "cell_type": "code",
      "source": [
        "# Matrix\n",
        "temp_tv = df_advertising[['TV']]\n",
        "temp_radio = df_advertising[['radio']]\n",
        "# print(np.multiply(temp_tv, temp_radio))\n",
        "\n",
        "A = df_advertising[['TV', 'radio']]\n",
        "A = np.concatenate((np.ones((len(A), 1)), A, np.multiply(temp_tv, temp_radio)), axis = 1)\n",
        "# print(A)\n",
        "\n",
        "# Solver\n",
        "b = np.linalg.solve(A.T@A, A.T@y)\n",
        "\n",
        "# Predictions\n",
        "yHat = A@b\n",
        "\n",
        "# MSE and MAE\n",
        "errors['Combined'] = [mean_squared_error(y, yHat), mean_absolute_error(y, yHat)]"
      ],
      "metadata": {
        "colab": {
          "base_uri": "https://localhost:8080/"
        },
        "id": "AdjMe1S0doFv",
        "outputId": "6efcd76b-b5a7-4503-8279-dcb8e52d0bbd"
      },
      "execution_count": 11,
      "outputs": [
        {
          "output_type": "stream",
          "name": "stderr",
          "text": [
            "<ipython-input-11-087ab8058d9e>:7: FutureWarning: Calling a ufunc on non-aligned DataFrames (or DataFrame/Series combination). Currently, the indices are ignored and the result takes the index/columns of the first DataFrame. In the future , the DataFrames/Series will be aligned before applying the ufunc.\n",
            "Convert one of the arguments to a NumPy array (eg 'ufunc(df1, np.asarray(df2)') to keep the current behaviour, or align manually (eg 'df1, df2 = df1.align(df2)') before passing to the ufunc to obtain the future behaviour and silence this warning.\n",
            "  A = np.concatenate((np.ones((len(A), 1)), A, np.multiply(temp_tv, temp_radio)), axis = 1)\n"
          ]
        }
      ]
    },
    {
      "cell_type": "code",
      "source": [
        "def format_dict(d):\n",
        "  data = []\n",
        "  for k, v in d.items():\n",
        "    data.append([k, v[0], v[1]])\n",
        "  return data"
      ],
      "metadata": {
        "id": "1TV0MBEUpu5t"
      },
      "execution_count": 12,
      "outputs": []
    },
    {
      "cell_type": "code",
      "source": [
        "print(tabulate(format_dict(errors), headers=['Models', 'MSE', 'MAE'], tablefmt=\"grid\"))"
      ],
      "metadata": {
        "colab": {
          "base_uri": "https://localhost:8080/"
        },
        "id": "skytN8AwezGL",
        "outputId": "b327c6f9-045c-422a-ace9-e287a5cff2b2"
      },
      "execution_count": 13,
      "outputs": [
        {
          "output_type": "stream",
          "name": "stdout",
          "text": [
            "+------------------------+-----------+----------+\n",
            "| Models                 |       MSE |      MAE |\n",
            "+========================+===========+==========+\n",
            "| TV                     | 10.5127   | 2.54981  |\n",
            "+------------------------+-----------+----------+\n",
            "| Radio                  | 18.0924   | 3.32022  |\n",
            "+------------------------+-----------+----------+\n",
            "| Newspaper              | 25.674    | 4.14656  |\n",
            "+------------------------+-----------+----------+\n",
            "| TV + Radio + Newspaper |  2.78413  | 1.25201  |\n",
            "+------------------------+-----------+----------+\n",
            "| Combined               |  0.872417 | 0.660484 |\n",
            "+------------------------+-----------+----------+\n"
          ]
        }
      ]
    },
    {
      "cell_type": "markdown",
      "source": [
        "Mejor performance en el modelo\n",
        "Sales = $\\beta_0$ + $\\beta_1 \\times $ TV +$\\beta_2 \\times $ Radio + $\\beta_3 \\times $ TV $\\times $ Radio"
      ],
      "metadata": {
        "id": "xNyT3nCsr3wx"
      }
    },
    {
      "cell_type": "markdown",
      "source": [
        "# Ejercicio 2\n",
        "\n",
        "Usar el conjunto de datos Salary_dataset y determinar los modelos de regresión polinomial de la forma:\n",
        "\n",
        "\n",
        "$$Salary = \\beta_0 + \\beta_1 \\times  \\text{YearsExperience} + \\beta_1 \\times  \\text{YearsExperience}^{2}+ \\cdots + \\text{YearsExperience}^{P} $$\n",
        "\n",
        "Evaluar para cada $P=1,2,3,4,5$ y obtener el valor de $P$ más adeacuado en función del MSE y MAE.\n"
      ],
      "metadata": {
        "id": "1PuQuCZeAmpr"
      }
    },
    {
      "cell_type": "code",
      "execution_count": 14,
      "metadata": {
        "id": "rGtPzsWE9j1G"
      },
      "outputs": [],
      "source": [
        "df_salary = pd.read_csv('/content/drive/MyDrive/Other/Salary_dataset.csv')\n",
        "df_salary = df_salary.drop(columns=['Unnamed: 0'])"
      ]
    },
    {
      "cell_type": "code",
      "source": [
        "p_list = [1, 2, 3, 4, 5]"
      ],
      "metadata": {
        "id": "HeqdfZlDloKD"
      },
      "execution_count": 15,
      "outputs": []
    },
    {
      "cell_type": "code",
      "source": [
        "def gen_matrix(x_values, p_value):\n",
        "  matrix = np.ones((len(x_values), 1))\n",
        "\n",
        "  for i in range (p_value):\n",
        "    matrix = np.concatenate((matrix, x_values**(i+1)), axis=1)\n",
        "\n",
        "  return matrix"
      ],
      "metadata": {
        "id": "7zEhhP9ylt9y"
      },
      "execution_count": 16,
      "outputs": []
    },
    {
      "cell_type": "code",
      "source": [
        "def normalize(df):\n",
        "  max_val = df.max()\n",
        "  return df / max_val"
      ],
      "metadata": {
        "id": "dQCHmHjJolN_"
      },
      "execution_count": 17,
      "outputs": []
    },
    {
      "cell_type": "code",
      "source": [
        "x = df_salary[['YearsExperience']]\n",
        "y = df_salary[['Salary']]\n",
        "y = normalize(y)"
      ],
      "metadata": {
        "id": "5IesUgPZnG5W"
      },
      "execution_count": 18,
      "outputs": []
    },
    {
      "cell_type": "code",
      "source": [
        "def calculate_pols(x, p_list):\n",
        "  results = {}\n",
        "  for p in p_list:\n",
        "    current_A = gen_matrix(x, p)\n",
        "    current_b = np.linalg.solve(current_A.T@current_A, current_A.T@y)\n",
        "    current_yHat = current_A@current_b\n",
        "    results[f'P = {p}'] = [mean_squared_error(y, current_yHat), mean_absolute_error(y, current_yHat)]\n",
        "\n",
        "  return results"
      ],
      "metadata": {
        "id": "Kp38DTRinY-A"
      },
      "execution_count": 19,
      "outputs": []
    },
    {
      "cell_type": "code",
      "source": [
        "print(tabulate(format_dict(calculate_pols(x, p_list)), headers=['Grad P', 'MSE', 'MAE'], tablefmt=\"grid\"))"
      ],
      "metadata": {
        "colab": {
          "base_uri": "https://localhost:8080/"
        },
        "id": "KarWBb6ioaS2",
        "outputId": "08237770-6ba8-460f-9a55-526c123e4cff"
      },
      "execution_count": 20,
      "outputs": [
        {
          "output_type": "stream",
          "name": "stdout",
          "text": [
            "+----------+------------+-----------+\n",
            "| Grad P   |        MSE |       MAE |\n",
            "+==========+============+===========+\n",
            "| P = 1    | 0.00208754 | 0.0379453 |\n",
            "+----------+------------+-----------+\n",
            "| P = 2    | 0.00208664 | 0.0380178 |\n",
            "+----------+------------+-----------+\n",
            "| P = 3    | 0.0017655  | 0.0348803 |\n",
            "+----------+------------+-----------+\n",
            "| P = 4    | 0.00176263 | 0.034852  |\n",
            "+----------+------------+-----------+\n",
            "| P = 5    | 0.00162205 | 0.0337118 |\n",
            "+----------+------------+-----------+\n"
          ]
        }
      ]
    },
    {
      "cell_type": "markdown",
      "source": [
        "**Conclusión**\n",
        "\n",
        "Después de evaluar diferentes grados de polinomios (1, 2, 3, 4, 5) y, tomando en cuenta las métricas de MSE y MAE podemos concluir que cuando el grado es 5, obtenemos el mejor performance, ya que, para este caso, ambas métricas tienen los valores más bajos.\n",
        "\n",
        "Cabe señalar que, inicialmente se inicieron los experimentos sin normalizar datos y obtuvimos valores de MSE y MAE muy altos. Por tal motivo, se normalizaron los datos usando dividiendo la lista de elementos entre el valor máximo."
      ],
      "metadata": {
        "id": "LcKCOJuKqe3d"
      }
    }
  ]
}