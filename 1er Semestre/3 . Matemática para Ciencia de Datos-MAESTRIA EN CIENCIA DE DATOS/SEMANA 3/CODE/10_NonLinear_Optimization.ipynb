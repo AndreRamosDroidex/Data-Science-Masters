{
  "nbformat": 4,
  "nbformat_minor": 0,
  "metadata": {
    "colab": {
      "provenance": []
    },
    "kernelspec": {
      "name": "python3",
      "display_name": "Python 3"
    },
    "language_info": {
      "name": "python"
    }
  },
  "cells": [
    {
      "cell_type": "code",
      "source": [
        "import numpy as np\n",
        "import scipy.linalg as la\n",
        "import matplotlib.pyplot as plt\n",
        "import scipy.optimize as opt"
      ],
      "metadata": {
        "id": "2sDYwOZPaWCF"
      },
      "execution_count": 1,
      "outputs": []
    },
    {
      "cell_type": "markdown",
      "source": [
        "> The Jacobian\n",
        "\n",
        "The Jacobian of a multi-valued function $f:\\mathbb{R}^{m}\\to\\mathbb{R}^{n}$ is the matrix $J_f$, where\n",
        "\n",
        "$$\\begin{equation} J_f[i,j] = \\frac{\\partial{f}_i}{\\partial{x_j}} \\end{equation},$$\n",
        "\n",
        "Previously, we only provided the function. If you are able to provide the Jacobian as well, then you can typically solve problems with fewer function evaluations because you have better information about how to decrease the function value. If you don't provide the Jacobian, many solvers will try to approximate the Jacobian using finite difference approximations, but these are typically less accurate (and slower) than if you can give an explicit formula\n"
      ],
      "metadata": {
        "id": "5sz6bY5tY4Qz"
      }
    },
    {
      "cell_type": "markdown",
      "source": [
        "> The Hessian\n",
        "\n",
        "The Hessian of a multivariate function $f:\\mathbb{R}^{m}\\to\\mathbb{R}^{n}$ is a\n",
        " matrix of second derivatives: \\begin{equation} H[i,j] = \\frac{\\partial^2 f}{\\partial x_i \\partial x_j} \\end{equation}\n",
        "\n",
        "The Hessian provides information about the curvature of the function\n",
        ", which can be used to accelerate convergence of the optimization algorithm. If you don’t provide the Hessian, many solvers will numerically approximate it, which will typically not work as well as an explicit Hessian."
      ],
      "metadata": {
        "id": "tGXRtyGmeA9G"
      }
    },
    {
      "cell_type": "markdown",
      "source": [
        "> Example 1: Consider $f(x)=\\cos(x_1)+\\sin(x_2)$"
      ],
      "metadata": {
        "id": "aKL2uTCQiUtV"
      }
    },
    {
      "cell_type": "code",
      "source": [
        "# function f\n",
        "def f(x):\n",
        "    return np.cos(x[0]) + np.sin(x[1])\n",
        "\n",
        "# Jacobian of function f\n",
        "def Jf(x):\n",
        "    return np.array([-np.sin(x[0]), np.cos(x[1])])\n",
        "\n",
        "# Hessian of function f\n",
        "def Hf(x):\n",
        "    return np.array([[-np.cos(x[0]), 0], [0, -np.sin(x[1])]])"
      ],
      "metadata": {
        "id": "360D_zE3aN62"
      },
      "execution_count": 2,
      "outputs": []
    },
    {
      "cell_type": "code",
      "execution_count": 3,
      "metadata": {
        "colab": {
          "base_uri": "https://localhost:8080/"
        },
        "id": "t3HKXELIYnxC",
        "outputId": "9d2dd139-3162-4ca7-d55f-d8c7ed7c2869"
      },
      "outputs": [
        {
          "output_type": "stream",
          "name": "stdout",
          "text": [
            "CPU times: user 9.36 ms, sys: 0 ns, total: 9.36 ms\n",
            "Wall time: 19.2 ms\n"
          ]
        },
        {
          "output_type": "execute_result",
          "data": {
            "text/plain": [
              "  message: Optimization terminated successfully.\n",
              "  success: True\n",
              "   status: 0\n",
              "      fun: -1.9999999999996474\n",
              "        x: [ 1.571e+01 -7.854e+00]\n",
              "      nit: 8\n",
              "      jac: [-7.451e-08 -8.196e-07]\n",
              " hess_inv: [[ 9.993e-01  2.874e-04]\n",
              "            [ 2.874e-04  1.000e+00]]\n",
              "     nfev: 72\n",
              "     njev: 24"
            ]
          },
          "metadata": {},
          "execution_count": 3
        }
      ],
      "source": [
        "# Only the function f\n",
        "\n",
        "x0 = np.random.rand(2)\n",
        "\n",
        "%time sol1 = opt.minimize(f, x0)\n",
        "sol1"
      ]
    },
    {
      "cell_type": "code",
      "source": [
        "# Using the function f and Jf\n",
        "\n",
        "x0 = np.random.rand(2)\n",
        "\n",
        "%time sol2 = opt.minimize(f, x0, jac=Jf)\n",
        "sol2"
      ],
      "metadata": {
        "colab": {
          "base_uri": "https://localhost:8080/"
        },
        "id": "94eUh_7edSwn",
        "outputId": "1c23b9a1-3d07-4e8c-c2ea-84946a5041db"
      },
      "execution_count": 4,
      "outputs": [
        {
          "output_type": "stream",
          "name": "stdout",
          "text": [
            "CPU times: user 2.76 ms, sys: 0 ns, total: 2.76 ms\n",
            "Wall time: 7.46 ms\n"
          ]
        },
        {
          "output_type": "execute_result",
          "data": {
            "text/plain": [
              "  message: Optimization terminated successfully.\n",
              "  success: True\n",
              "   status: 0\n",
              "      fun: -1.99999999999897\n",
              "        x: [ 3.142e+00 -1.571e+00]\n",
              "      nit: 10\n",
              "      jac: [ 1.384e-06 -3.815e-07]\n",
              " hess_inv: [[ 1.021e+00 -5.837e-03]\n",
              "            [-5.837e-03  1.002e+00]]\n",
              "     nfev: 13\n",
              "     njev: 13"
            ]
          },
          "metadata": {},
          "execution_count": 4
        }
      ]
    },
    {
      "cell_type": "code",
      "source": [
        "# Using the function f, Jf and Hf\n",
        "x0 = np.random.rand(2)\n",
        "\n",
        "%time sol3 = opt.minimize(f, x0, jac=Jf, hess=Hf)\n",
        "sol3"
      ],
      "metadata": {
        "colab": {
          "base_uri": "https://localhost:8080/"
        },
        "id": "9CW1YoH2db1K",
        "outputId": "0ab510de-9009-4451-cc8e-b0a8c1f0387b"
      },
      "execution_count": 5,
      "outputs": [
        {
          "output_type": "stream",
          "name": "stdout",
          "text": [
            "CPU times: user 4.48 ms, sys: 0 ns, total: 4.48 ms\n",
            "Wall time: 9.42 ms\n"
          ]
        },
        {
          "output_type": "stream",
          "name": "stderr",
          "text": [
            "/usr/local/lib/python3.10/dist-packages/scipy/optimize/_minimize.py:565: RuntimeWarning: Method BFGS does not use Hessian information (hess).\n",
            "  warn('Method %s does not use Hessian information (hess).' % method,\n"
          ]
        },
        {
          "output_type": "execute_result",
          "data": {
            "text/plain": [
              "  message: Optimization terminated successfully.\n",
              "  success: True\n",
              "   status: 0\n",
              "      fun: -1.9999999999999956\n",
              "        x: [ 3.142e+00 -1.571e+00]\n",
              "      nit: 9\n",
              "      jac: [ 9.275e-08  4.045e-09]\n",
              " hess_inv: [[ 1.021e+00  9.685e-04]\n",
              "            [ 9.685e-04  1.000e+00]]\n",
              "     nfev: 19\n",
              "     njev: 19"
            ]
          },
          "metadata": {},
          "execution_count": 5
        }
      ]
    },
    {
      "cell_type": "markdown",
      "source": [
        "We see that the defualt method BFGS does not use the Hessian. Let’s choose one that does, like Newton-CG."
      ],
      "metadata": {
        "id": "d766Wz0YkGtR"
      }
    },
    {
      "cell_type": "code",
      "source": [
        "%time sol4 = opt.minimize(f, x0, jac=Jf, hess=Hf, method='Newton-CG')\n",
        "sol4"
      ],
      "metadata": {
        "id": "0us_Y9HmkKAr",
        "outputId": "44844aaf-2b6d-4c47-fddd-b39c9463bb76",
        "colab": {
          "base_uri": "https://localhost:8080/"
        }
      },
      "execution_count": 6,
      "outputs": [
        {
          "output_type": "stream",
          "name": "stdout",
          "text": [
            "CPU times: user 2.23 ms, sys: 0 ns, total: 2.23 ms\n",
            "Wall time: 3.36 ms\n"
          ]
        },
        {
          "output_type": "execute_result",
          "data": {
            "text/plain": [
              " message: Optimization terminated successfully.\n",
              " success: True\n",
              "  status: 0\n",
              "     fun: -2.0\n",
              "       x: [ 3.142e+00 -1.571e+00]\n",
              "     nit: 7\n",
              "     jac: [ 1.925e-06 -1.889e-06]\n",
              "    nfev: 11\n",
              "    njev: 11\n",
              "    nhev: 7"
            ]
          },
          "metadata": {},
          "execution_count": 6
        }
      ]
    }
  ]
}