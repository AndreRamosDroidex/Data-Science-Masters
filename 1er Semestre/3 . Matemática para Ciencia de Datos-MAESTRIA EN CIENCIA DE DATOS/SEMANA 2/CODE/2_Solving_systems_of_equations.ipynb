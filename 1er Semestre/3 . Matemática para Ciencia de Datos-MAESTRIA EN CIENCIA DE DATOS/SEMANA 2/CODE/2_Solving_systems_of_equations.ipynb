{
  "nbformat": 4,
  "nbformat_minor": 0,
  "metadata": {
    "colab": {
      "provenance": []
    },
    "kernelspec": {
      "name": "python3",
      "display_name": "Python 3"
    },
    "language_info": {
      "name": "python"
    }
  },
  "cells": [
    {
      "cell_type": "code",
      "source": [
        "import numpy as np\n",
        "import numpy.linalg as la\n",
        "import time"
      ],
      "metadata": {
        "id": "WAbctqpd8Mbp"
      },
      "execution_count": null,
      "outputs": []
    },
    {
      "cell_type": "markdown",
      "source": [
        "# Solving Ax=b"
      ],
      "metadata": {
        "id": "eKG475BQ8qBH"
      }
    },
    {
      "cell_type": "code",
      "source": [
        "n = 1000\n",
        "A = np.random.randn(n,n)\n",
        "x = np.random.rand(n)\n",
        "b = A @ x"
      ],
      "metadata": {
        "id": "0bEL3KX38OOI"
      },
      "execution_count": null,
      "outputs": []
    },
    {
      "cell_type": "code",
      "source": [
        "t0 = time.time()\n",
        "Ainv = la.inv(A) # use inversion\n",
        "x2 = Ainv @ b\n",
        "t1 = time.time()\n",
        "print(\"{} sec.\".format(t1 - t0))\n",
        "la.norm(x - x2)"
      ],
      "metadata": {
        "colab": {
          "base_uri": "https://localhost:8080/"
        },
        "id": "bJ__iA-Q8QK5",
        "outputId": "89c9e5a9-c854-4d64-cef3-c95869cf8aa8"
      },
      "execution_count": null,
      "outputs": [
        {
          "output_type": "stream",
          "name": "stdout",
          "text": [
            "0.16173005104064941 sec.\n"
          ]
        },
        {
          "output_type": "execute_result",
          "data": {
            "text/plain": [
              "2.2244454092147896e-11"
            ]
          },
          "metadata": {},
          "execution_count": 7
        }
      ]
    },
    {
      "cell_type": "markdown",
      "source": [
        "Solving $Ax=b$ using solve function"
      ],
      "metadata": {
        "id": "TThi16oZ9BZg"
      }
    },
    {
      "cell_type": "code",
      "source": [
        "t0 = time.time()\n",
        "x2 = la.solve(A, b) # use solve function\n",
        "t1 = time.time()\n",
        "print(\"{} sec.\".format(t1 - t0))\n",
        "la.norm(x - x2)"
      ],
      "metadata": {
        "colab": {
          "base_uri": "https://localhost:8080/"
        },
        "id": "8NVoUYqd8jpx",
        "outputId": "16b2c436-2179-454f-edf1-3656e87af6a5"
      },
      "execution_count": null,
      "outputs": [
        {
          "output_type": "stream",
          "name": "stdout",
          "text": [
            "0.061837196350097656 sec.\n"
          ]
        },
        {
          "output_type": "execute_result",
          "data": {
            "text/plain": [
              "1.5113818857765497e-12"
            ]
          },
          "metadata": {},
          "execution_count": 8
        }
      ]
    },
    {
      "cell_type": "markdown",
      "source": [
        "# ScyPy linear Algebra\n",
        "\n",
        "We’re now going to switch gears and start using scipy.linalg instead of numpy.linalg. From the user’s point of view, there isn’t really any difference, except scipy.linalg has all the same functions as numpy.linalg as well as additional functions."
      ],
      "metadata": {
        "id": "MkX7M-qI9iOo"
      }
    },
    {
      "cell_type": "code",
      "source": [
        "import scipy as sp\n",
        "import scipy.linalg as sla"
      ],
      "metadata": {
        "id": "IRBQc9F0_BGZ"
      },
      "execution_count": null,
      "outputs": []
    },
    {
      "cell_type": "code",
      "source": [
        "n = 1000\n",
        "A = np.random.randn(n,n)\n",
        "x = np.random.rand(n)\n",
        "b = A @ x\n",
        "\n",
        "x1 = la.solve(A, b) # numpy\n",
        "x2 = sla.solve(A, b) # scipy\n",
        "la.norm(x1 - x2)"
      ],
      "metadata": {
        "colab": {
          "base_uri": "https://localhost:8080/"
        },
        "id": "NHqlPLLO_DuZ",
        "outputId": "d228a7b9-e3b8-4760-d532-80d7069a1bdb"
      },
      "execution_count": null,
      "outputs": [
        {
          "output_type": "execute_result",
          "data": {
            "text/plain": [
              "0.0"
            ]
          },
          "metadata": {},
          "execution_count": 10
        }
      ]
    },
    {
      "cell_type": "markdown",
      "source": [
        "# LU Decomposition\n",
        "\n",
        "The first type of factorization we'll look at is a $LU$ decomposition, where $L$ is lower-triangular and $U$ is upper triangular. For numerical stability, this is often computed with a pivoting strategy, which means there is also row or column permutation matrix $PA=PLU$\n",
        "\n",
        "\n"
      ],
      "metadata": {
        "id": "4htS5nv3_fja"
      }
    },
    {
      "cell_type": "code",
      "source": [
        "n = 1000\n",
        "A = np.random.randn(n, n)\n",
        "x = np.random.rand(n)\n",
        "b = A @ x\n",
        "\n",
        "P, L, U = sla.lu(A)"
      ],
      "metadata": {
        "id": "nfZU2fif_ejh"
      },
      "execution_count": null,
      "outputs": []
    },
    {
      "cell_type": "code",
      "source": [
        "sla.norm(P @ L @ U - A)"
      ],
      "metadata": {
        "colab": {
          "base_uri": "https://localhost:8080/"
        },
        "id": "i99_y3Op_pGI",
        "outputId": "88486a4a-6919-4d63-8a8c-15d0e1a5aa8d"
      },
      "execution_count": null,
      "outputs": [
        {
          "output_type": "execute_result",
          "data": {
            "text/plain": [
              "2.5680294418182e-12"
            ]
          },
          "metadata": {},
          "execution_count": 12
        }
      ]
    },
    {
      "cell_type": "markdown",
      "source": [
        "The nice thing about triangular matrices is that they can solve linear systems in $O(n^2)$ time, instead of $O(n^3)$ time for general matrices, using the forward or backward substitution algorithms. There is a special function solve_triangular for this reason:"
      ],
      "metadata": {
        "id": "27CJPuCxAF03"
      }
    },
    {
      "cell_type": "code",
      "source": [
        "y = L @ x\n",
        "x2 = sla.solve_triangular(L, y, lower=True)\n",
        "sla.norm(x2 - x)"
      ],
      "metadata": {
        "colab": {
          "base_uri": "https://localhost:8080/"
        },
        "id": "j9G5J9HM_3WS",
        "outputId": "7dd0e757-ec1c-4b34-fcb0-5a6ca44b232f"
      },
      "execution_count": null,
      "outputs": [
        {
          "output_type": "execute_result",
          "data": {
            "text/plain": [
              "4.800821997353014e-13"
            ]
          },
          "metadata": {},
          "execution_count": 13
        }
      ]
    },
    {
      "cell_type": "code",
      "source": [
        "def my_solve(A, b):\n",
        "    \"\"\"\n",
        "    solve A * x = b for x\n",
        "\n",
        "    use LU decomposition\n",
        "    \"\"\"\n",
        "    P, L, U =sla.lu(A)\n",
        "    x = sla.solve_triangular(U,sla.solve_triangular(L,P.T @ b,lower=True),lower=False)\n",
        "    return x"
      ],
      "metadata": {
        "id": "xjRE1p8tA0sI"
      },
      "execution_count": null,
      "outputs": []
    },
    {
      "cell_type": "code",
      "source": [
        "b = A @ x\n",
        "t0 = time.time()\n",
        "x2 = sla.solve(A, b)\n",
        "t1 = time.time()\n",
        "print(\"{} sec.\".format(t1 - t0))\n",
        "print(sla.norm(x - x2))"
      ],
      "metadata": {
        "colab": {
          "base_uri": "https://localhost:8080/"
        },
        "id": "LUGwS__2A6Tn",
        "outputId": "c5bed936-b9a0-4ac2-a9b8-fa691b658f66"
      },
      "execution_count": null,
      "outputs": [
        {
          "output_type": "stream",
          "name": "stdout",
          "text": [
            "0.12415003776550293 sec.\n",
            "2.8641579540668785e-12\n"
          ]
        }
      ]
    },
    {
      "cell_type": "code",
      "source": [
        "t0 = time.time()\n",
        "x2 = my_solve(A, b)\n",
        "t1 = time.time()\n",
        "print(\"{} sec.\".format(t1 - t0))\n",
        "print(sla.norm(x - x2))"
      ],
      "metadata": {
        "colab": {
          "base_uri": "https://localhost:8080/"
        },
        "id": "oeUcE02LC6hf",
        "outputId": "1f5d0a09-fa4e-4261-e956-700bb60b63f8"
      },
      "execution_count": null,
      "outputs": [
        {
          "output_type": "stream",
          "name": "stdout",
          "text": [
            "0.06873130798339844 sec.\n",
            "1.258590129902125e-10\n"
          ]
        }
      ]
    },
    {
      "cell_type": "code",
      "source": [
        "print(sla.norm(x - x2))"
      ],
      "metadata": {
        "colab": {
          "base_uri": "https://localhost:8080/"
        },
        "id": "2NmPXETbC1Fn",
        "outputId": "1d7dcfd9-1963-494d-8f90-c15338043e25"
      },
      "execution_count": null,
      "outputs": [
        {
          "output_type": "stream",
          "name": "stdout",
          "text": [
            "2.9682391283278526e-11\n"
          ]
        }
      ]
    },
    {
      "cell_type": "markdown",
      "source": [
        "# QR Decomposition\n",
        "\n",
        "The QR decomposition, $A=QR$, contains a matrix $Q$ with orthonormal columns, and an upper triangular matrix $R$. For stability reasons, column pivoting is often used which means there is often a permutation matrix $P$ and $A=QRP$."
      ],
      "metadata": {
        "id": "-mHzMbs_B2Sd"
      }
    },
    {
      "cell_type": "code",
      "source": [
        "m = 1000\n",
        "n = 500\n",
        "A = np.random.randn(m, n)\n",
        "\n",
        "Q, R = sla.qr(A, mode='economic') # no pivoting (not use la)\n",
        "la.norm(Q @ R  - A)"
      ],
      "metadata": {
        "colab": {
          "base_uri": "https://localhost:8080/"
        },
        "id": "m0Yp3QGLB5XA",
        "outputId": "9470421e-6e59-4979-ff0b-241c045eadbd"
      },
      "execution_count": null,
      "outputs": [
        {
          "output_type": "execute_result",
          "data": {
            "text/plain": [
              "5.403067620892784e-13"
            ]
          },
          "metadata": {},
          "execution_count": 18
        }
      ]
    },
    {
      "cell_type": "code",
      "source": [
        "Q.shape, R.shape"
      ],
      "metadata": {
        "colab": {
          "base_uri": "https://localhost:8080/"
        },
        "id": "6ENz8oQIDfLJ",
        "outputId": "91b39d29-4130-4164-b1bc-8e7a91f37a01"
      },
      "execution_count": null,
      "outputs": [
        {
          "output_type": "execute_result",
          "data": {
            "text/plain": [
              "((1000, 500), (500, 500))"
            ]
          },
          "metadata": {},
          "execution_count": 19
        }
      ]
    },
    {
      "cell_type": "code",
      "source": [
        "Q, R, P = sla.qr(A, pivoting=True) # pivoting\n",
        "la.norm((Q @ R)  - A[:,P])"
      ],
      "metadata": {
        "colab": {
          "base_uri": "https://localhost:8080/"
        },
        "id": "OewTA34ADhzA",
        "outputId": "6881b97b-b301-4aa8-db44-82920237f7b6"
      },
      "execution_count": null,
      "outputs": [
        {
          "output_type": "execute_result",
          "data": {
            "text/plain": [
              "6.183505446023941e-13"
            ]
          },
          "metadata": {},
          "execution_count": 20
        }
      ]
    },
    {
      "cell_type": "markdown",
      "source": [
        "# Solving Least-squares problem\n",
        "\n",
        "$$\\min_{x}\\|Ax-b\\|$$\n",
        "\n",
        "For full-rank (square) matrices, this is equivalent to solve.\n"
      ],
      "metadata": {
        "id": "YE37wmYZD9Ej"
      }
    },
    {
      "cell_type": "code",
      "source": [
        "m = 1000\n",
        "n = 500\n",
        "A = np.random.randn(m, n)\n",
        "x = np.random.rand(n)\n",
        "b = A @ x"
      ],
      "metadata": {
        "id": "fUctFvQcERj_"
      },
      "execution_count": null,
      "outputs": []
    },
    {
      "cell_type": "code",
      "source": [
        "t0 = time.time()\n",
        "x2 = la.lstsq(A, b, rcond=None)[0]\n",
        "t1 = time.time()\n",
        "print(\"{} sec.\".format(t1 - t0))\n",
        "sla.norm(x - x2)"
      ],
      "metadata": {
        "colab": {
          "base_uri": "https://localhost:8080/"
        },
        "id": "cc2dGxJRITfv",
        "outputId": "e60bf3cb-1135-436c-8740-fed6a6496480"
      },
      "execution_count": null,
      "outputs": [
        {
          "output_type": "stream",
          "name": "stdout",
          "text": [
            "0.16371583938598633 sec.\n"
          ]
        },
        {
          "output_type": "execute_result",
          "data": {
            "text/plain": [
              "4.605085589339936e-14"
            ]
          },
          "metadata": {},
          "execution_count": 22
        }
      ]
    },
    {
      "cell_type": "code",
      "source": [
        "t0 = time.time()\n",
        "x3 = sla.lstsq(A, b)[0]\n",
        "t1 = time.time()\n",
        "print(\"{} sec.\".format(t1 - t0))\n",
        "sla.norm(x - x3)"
      ],
      "metadata": {
        "colab": {
          "base_uri": "https://localhost:8080/"
        },
        "id": "LmKMWkgGIV-o",
        "outputId": "d3c00781-7546-4a43-ebec-ce1b1a974589"
      },
      "execution_count": null,
      "outputs": [
        {
          "output_type": "stream",
          "name": "stdout",
          "text": [
            "0.1588444709777832 sec.\n"
          ]
        },
        {
          "output_type": "execute_result",
          "data": {
            "text/plain": [
              "4.605085589339936e-14"
            ]
          },
          "metadata": {},
          "execution_count": 23
        }
      ]
    },
    {
      "cell_type": "code",
      "source": [
        "def my_lstsq(A, b):\n",
        "    \"\"\"\n",
        "    least squares solution ||b - A*x||\n",
        "\n",
        "    Uses QR decomposition\n",
        "    \"\"\"\n",
        "    Q, R = sla.qr(A, mode='economic')\n",
        "    x = sla.solve_triangular(R, Q.T @ b, lower=False)\n",
        "    return x"
      ],
      "metadata": {
        "id": "urU-9NwVHGjj"
      },
      "execution_count": null,
      "outputs": []
    },
    {
      "cell_type": "code",
      "source": [
        "t0 = time.time()\n",
        "x4 = my_lstsq(A, b)\n",
        "t1 = time.time()\n",
        "print(\"{} sec.\".format(t1 - t0))\n",
        "sla.norm(x - x4)"
      ],
      "metadata": {
        "colab": {
          "base_uri": "https://localhost:8080/"
        },
        "id": "EdaSTYYDHnxn",
        "outputId": "034b910f-b660-4b2a-bd57-99f114a751a9"
      },
      "execution_count": null,
      "outputs": [
        {
          "output_type": "stream",
          "name": "stdout",
          "text": [
            "0.07330012321472168 sec.\n"
          ]
        },
        {
          "output_type": "execute_result",
          "data": {
            "text/plain": [
              "1.3625205066392332e-14"
            ]
          },
          "metadata": {},
          "execution_count": 25
        }
      ]
    }
  ]
}