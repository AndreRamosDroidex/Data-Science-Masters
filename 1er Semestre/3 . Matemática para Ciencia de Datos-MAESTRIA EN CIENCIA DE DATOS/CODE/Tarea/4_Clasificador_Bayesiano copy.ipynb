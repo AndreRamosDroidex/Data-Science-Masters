{
  "cells": [
    {
      "cell_type": "code",
      "execution_count": null,
      "metadata": {
        "id": "3tdDUFhkWuNF"
      },
      "outputs": [],
      "source": [
        "!pip install -U -q PyDrive"
      ]
    },
    {
      "cell_type": "code",
      "execution_count": 4,
      "metadata": {
        "id": "iFKPepr_WxwP"
      },
      "outputs": [
        {
          "ename": "ModuleNotFoundError",
          "evalue": "No module named 'pydrive'",
          "output_type": "error",
          "traceback": [
            "\u001b[1;31m---------------------------------------------------------------------------\u001b[0m",
            "\u001b[1;31mModuleNotFoundError\u001b[0m                       Traceback (most recent call last)",
            "\u001b[1;32m~\\AppData\\Local\\Temp/ipykernel_8264/1254943489.py\u001b[0m in \u001b[0;36m<module>\u001b[1;34m\u001b[0m\n\u001b[1;32m----> 1\u001b[1;33m \u001b[1;32mfrom\u001b[0m \u001b[0mpydrive\u001b[0m\u001b[1;33m.\u001b[0m\u001b[0mauth\u001b[0m \u001b[1;32mimport\u001b[0m \u001b[0mGoogleAuth\u001b[0m\u001b[1;33m\u001b[0m\u001b[1;33m\u001b[0m\u001b[0m\n\u001b[0m\u001b[0;32m      2\u001b[0m \u001b[1;32mfrom\u001b[0m \u001b[0mpydrive\u001b[0m\u001b[1;33m.\u001b[0m\u001b[0mdrive\u001b[0m \u001b[1;32mimport\u001b[0m \u001b[0mGoogleDrive\u001b[0m\u001b[1;33m\u001b[0m\u001b[1;33m\u001b[0m\u001b[0m\n\u001b[0;32m      3\u001b[0m \u001b[1;32mfrom\u001b[0m \u001b[0mgoogle\u001b[0m\u001b[1;33m.\u001b[0m\u001b[0mcolab\u001b[0m \u001b[1;32mimport\u001b[0m \u001b[0mauth\u001b[0m\u001b[1;33m\u001b[0m\u001b[1;33m\u001b[0m\u001b[0m\n\u001b[0;32m      4\u001b[0m \u001b[1;32mfrom\u001b[0m \u001b[0moauth2client\u001b[0m\u001b[1;33m.\u001b[0m\u001b[0mclient\u001b[0m \u001b[1;32mimport\u001b[0m \u001b[0mGoogleCredentials\u001b[0m\u001b[1;33m\u001b[0m\u001b[1;33m\u001b[0m\u001b[0m\n",
            "\u001b[1;31mModuleNotFoundError\u001b[0m: No module named 'pydrive'"
          ]
        }
      ],
      "source": [
        "from pydrive.auth import GoogleAuth\n",
        "from pydrive.drive import GoogleDrive\n",
        "from google.colab import auth\n",
        "from oauth2client.client import GoogleCredentials"
      ]
    },
    {
      "cell_type": "code",
      "execution_count": null,
      "metadata": {
        "id": "gLFyGjNkW0qv"
      },
      "outputs": [],
      "source": [
        "auth.authenticate_user()\n",
        "gauth = GoogleAuth()\n",
        "gauth.credentials = GoogleCredentials.get_application_default()\n",
        "drive = GoogleDrive(gauth)"
      ]
    },
    {
      "cell_type": "code",
      "execution_count": 5,
      "metadata": {
        "id": "w_FazE68W0jf"
      },
      "outputs": [
        {
          "ename": "NameError",
          "evalue": "name 'drive' is not defined",
          "output_type": "error",
          "traceback": [
            "\u001b[1;31m---------------------------------------------------------------------------\u001b[0m",
            "\u001b[1;31mNameError\u001b[0m                                 Traceback (most recent call last)",
            "\u001b[1;32m~\\AppData\\Local\\Temp/ipykernel_8264/2547076374.py\u001b[0m in \u001b[0;36m<module>\u001b[1;34m\u001b[0m\n\u001b[1;32m----> 1\u001b[1;33m \u001b[0mdownloaded\u001b[0m \u001b[1;33m=\u001b[0m \u001b[0mdrive\u001b[0m\u001b[1;33m.\u001b[0m\u001b[0mCreateFile\u001b[0m\u001b[1;33m(\u001b[0m\u001b[1;33m{\u001b[0m\u001b[1;34m'id'\u001b[0m\u001b[1;33m:\u001b[0m\u001b[1;34m'170F7UczGqpHVc3Ed9nJIQPMHM9cZExua'\u001b[0m\u001b[1;33m}\u001b[0m\u001b[1;33m)\u001b[0m\u001b[1;33m\u001b[0m\u001b[1;33m\u001b[0m\u001b[0m\n\u001b[0m\u001b[0;32m      2\u001b[0m \u001b[0mdownloaded\u001b[0m\u001b[1;33m.\u001b[0m\u001b[0mGetContentFile\u001b[0m\u001b[1;33m(\u001b[0m\u001b[1;34m'../Data/iris.csv'\u001b[0m\u001b[1;33m)\u001b[0m\u001b[1;33m\u001b[0m\u001b[1;33m\u001b[0m\u001b[0m\n",
            "\u001b[1;31mNameError\u001b[0m: name 'drive' is not defined"
          ]
        }
      ],
      "source": [
        "downloaded = drive.CreateFile({'id':'170F7UczGqpHVc3Ed9nJIQPMHM9cZExua'})\n",
        "downloaded.GetContentFile('../Data/iris.csv')"
      ]
    },
    {
      "cell_type": "code",
      "execution_count": 1,
      "metadata": {
        "colab": {
          "base_uri": "https://localhost:8080/",
          "height": 380
        },
        "id": "R0GuhWV6W0gF",
        "outputId": "bb69fc59-e5eb-4bcb-805d-0a1e00758419"
      },
      "outputs": [
        {
          "name": "stdout",
          "output_type": "stream",
          "text": [
            "Matriz de atributos: Número de filas: 150  columnas:  5\n"
          ]
        },
        {
          "data": {
            "text/html": [
              "<div>\n",
              "<style scoped>\n",
              "    .dataframe tbody tr th:only-of-type {\n",
              "        vertical-align: middle;\n",
              "    }\n",
              "\n",
              "    .dataframe tbody tr th {\n",
              "        vertical-align: top;\n",
              "    }\n",
              "\n",
              "    .dataframe thead th {\n",
              "        text-align: right;\n",
              "    }\n",
              "</style>\n",
              "<table border=\"1\" class=\"dataframe\">\n",
              "  <thead>\n",
              "    <tr style=\"text-align: right;\">\n",
              "      <th></th>\n",
              "      <th>sepal_length</th>\n",
              "      <th>sepal_width</th>\n",
              "      <th>petal_length</th>\n",
              "      <th>petal_width</th>\n",
              "      <th>species</th>\n",
              "    </tr>\n",
              "  </thead>\n",
              "  <tbody>\n",
              "    <tr>\n",
              "      <th>0</th>\n",
              "      <td>5.1</td>\n",
              "      <td>3.5</td>\n",
              "      <td>1.4</td>\n",
              "      <td>0.2</td>\n",
              "      <td>setosa</td>\n",
              "    </tr>\n",
              "    <tr>\n",
              "      <th>1</th>\n",
              "      <td>4.9</td>\n",
              "      <td>3.0</td>\n",
              "      <td>1.4</td>\n",
              "      <td>0.2</td>\n",
              "      <td>setosa</td>\n",
              "    </tr>\n",
              "    <tr>\n",
              "      <th>2</th>\n",
              "      <td>4.7</td>\n",
              "      <td>3.2</td>\n",
              "      <td>1.3</td>\n",
              "      <td>0.2</td>\n",
              "      <td>setosa</td>\n",
              "    </tr>\n",
              "    <tr>\n",
              "      <th>3</th>\n",
              "      <td>4.6</td>\n",
              "      <td>3.1</td>\n",
              "      <td>1.5</td>\n",
              "      <td>0.2</td>\n",
              "      <td>setosa</td>\n",
              "    </tr>\n",
              "    <tr>\n",
              "      <th>4</th>\n",
              "      <td>5.0</td>\n",
              "      <td>3.6</td>\n",
              "      <td>1.4</td>\n",
              "      <td>0.2</td>\n",
              "      <td>setosa</td>\n",
              "    </tr>\n",
              "    <tr>\n",
              "      <th>5</th>\n",
              "      <td>5.4</td>\n",
              "      <td>3.9</td>\n",
              "      <td>1.7</td>\n",
              "      <td>0.4</td>\n",
              "      <td>setosa</td>\n",
              "    </tr>\n",
              "    <tr>\n",
              "      <th>6</th>\n",
              "      <td>4.6</td>\n",
              "      <td>3.4</td>\n",
              "      <td>1.4</td>\n",
              "      <td>0.3</td>\n",
              "      <td>setosa</td>\n",
              "    </tr>\n",
              "    <tr>\n",
              "      <th>7</th>\n",
              "      <td>5.0</td>\n",
              "      <td>3.4</td>\n",
              "      <td>1.5</td>\n",
              "      <td>0.2</td>\n",
              "      <td>setosa</td>\n",
              "    </tr>\n",
              "    <tr>\n",
              "      <th>8</th>\n",
              "      <td>4.4</td>\n",
              "      <td>2.9</td>\n",
              "      <td>1.4</td>\n",
              "      <td>0.2</td>\n",
              "      <td>setosa</td>\n",
              "    </tr>\n",
              "    <tr>\n",
              "      <th>9</th>\n",
              "      <td>4.9</td>\n",
              "      <td>3.1</td>\n",
              "      <td>1.5</td>\n",
              "      <td>0.1</td>\n",
              "      <td>setosa</td>\n",
              "    </tr>\n",
              "  </tbody>\n",
              "</table>\n",
              "</div>"
            ],
            "text/plain": [
              "   sepal_length  sepal_width  petal_length  petal_width species\n",
              "0           5.1          3.5           1.4          0.2  setosa\n",
              "1           4.9          3.0           1.4          0.2  setosa\n",
              "2           4.7          3.2           1.3          0.2  setosa\n",
              "3           4.6          3.1           1.5          0.2  setosa\n",
              "4           5.0          3.6           1.4          0.2  setosa\n",
              "5           5.4          3.9           1.7          0.4  setosa\n",
              "6           4.6          3.4           1.4          0.3  setosa\n",
              "7           5.0          3.4           1.5          0.2  setosa\n",
              "8           4.4          2.9           1.4          0.2  setosa\n",
              "9           4.9          3.1           1.5          0.1  setosa"
            ]
          },
          "execution_count": 1,
          "metadata": {},
          "output_type": "execute_result"
        }
      ],
      "source": [
        "import random\n",
        "import pandas as pd\n",
        "import numpy as np\n",
        "import matplotlib.pyplot as plt\n",
        "random.seed(42) # Define la semilla\n",
        "\n",
        "data = pd.read_csv('../Data/iris.csv', header=(0))\n",
        "\n",
        "data = data.dropna(axis='rows') #removiendo NaN\n",
        "# almacena los nombres de las classes\n",
        "classes = np.array(pd.unique(data[data.columns[-1]]), dtype=str)\n",
        "\n",
        "nrow, ncol = data.shape\n",
        "print(\"Matriz de atributos: Número de filas:\", nrow, \" columnas: \", ncol)\n",
        "attributes = list(data.columns)\n",
        "data.head(10)"
      ]
    },
    {
      "cell_type": "code",
      "execution_count": 2,
      "metadata": {
        "id": "EdnJtS8OZYPW"
      },
      "outputs": [],
      "source": [
        "data = data.to_numpy()\n",
        "nrow,ncol = data.shape\n",
        "y = data[:,-1]\n",
        "X = data[:,0:ncol-1]"
      ]
    },
    {
      "cell_type": "code",
      "execution_count": 3,
      "metadata": {
        "id": "-krwRMjBZeNO"
      },
      "outputs": [],
      "source": [
        "from sklearn.preprocessing import StandardScaler\n",
        "scaler = StandardScaler().fit(X)\n",
        "X = scaler.transform(X)"
      ]
    },
    {
      "cell_type": "code",
      "execution_count": 4,
      "metadata": {
        "colab": {
          "base_uri": "https://localhost:8080/"
        },
        "id": "HyGXmIyYZfIu",
        "outputId": "6ceccdcc-8cd0-4c2a-f144-d9ad42153e81"
      },
      "outputs": [
        {
          "name": "stdout",
          "output_type": "stream",
          "text": [
            "Dados transformados:\n",
            "Media:  [-4.73695157e-16 -6.63173220e-16  3.31586610e-16 -2.84217094e-16]\n",
            "Desviación típica: [1. 1. 1. 1.]\n"
          ]
        }
      ],
      "source": [
        "print('Dados transformados:')\n",
        "print('Media: ', np.mean(X, axis = 0))\n",
        "print('Desviación típica:', np.std(X, axis = 0))"
      ]
    },
    {
      "cell_type": "code",
      "execution_count": 5,
      "metadata": {
        "id": "9JaYZNHuZkAD"
      },
      "outputs": [],
      "source": [
        "from sklearn.model_selection import train_test_split\n",
        "p = 0.8 # fracción de elementos en el conjunto de entrenamiento\n",
        "x_train, x_test, y_train, y_test = train_test_split(X, y, train_size = p, random_state = 42)"
      ]
    },
    {
      "cell_type": "code",
      "execution_count": 10,
      "metadata": {
        "id": "FhhpZzToZlSr"
      },
      "outputs": [],
      "source": [
        "from scipy.stats import multivariate_normal\n",
        "\n",
        "#matriz para almacenar probabilidades\n",
        "P = pd.DataFrame(data=np.zeros((x_test.shape[0], len(classes))), columns = classes)\n",
        "\n",
        "Pc = np.zeros(len(classes)) #fracción de elementos en cada clase\n",
        "for i in np.arange(0, len(classes)):\n",
        "    elements = tuple(np.where(y_train == classes[i]))\n",
        "    Pc[i] = len(elements)/len(y_train)\n",
        "    Z = x_train[elements,:][0]\n",
        "    m = np.mean(Z, axis = 0)\n",
        "    cv = np.cov(np.transpose(Z))\n",
        "    for j in np.arange(0,x_test.shape[0]):\n",
        "        x = x_test[j,:]\n",
        "        pj = multivariate_normal.pdf(x, mean=m, cov=cv, allow_singular=True)\n",
        "        P[classes[i]][j] = pj*Pc[i]"
      ]
    },
    {
      "cell_type": "code",
      "execution_count": 12,
      "metadata": {
        "colab": {
          "base_uri": "https://localhost:8080/",
          "height": 990
        },
        "id": "pZP1JtmFbV2U",
        "outputId": "5aabd7dd-0881-4e2c-b66a-814bcfc4c79c"
      },
      "outputs": [
        {
          "data": {
            "text/html": [
              "<div>\n",
              "<style scoped>\n",
              "    .dataframe tbody tr th:only-of-type {\n",
              "        vertical-align: middle;\n",
              "    }\n",
              "\n",
              "    .dataframe tbody tr th {\n",
              "        vertical-align: top;\n",
              "    }\n",
              "\n",
              "    .dataframe thead th {\n",
              "        text-align: right;\n",
              "    }\n",
              "</style>\n",
              "<table border=\"1\" class=\"dataframe\">\n",
              "  <thead>\n",
              "    <tr style=\"text-align: right;\">\n",
              "      <th></th>\n",
              "      <th>setosa</th>\n",
              "      <th>versicolor</th>\n",
              "      <th>virginica</th>\n",
              "    </tr>\n",
              "  </thead>\n",
              "  <tbody>\n",
              "    <tr>\n",
              "      <th>0</th>\n",
              "      <td>5.222359e-81</td>\n",
              "      <td>2.945646e-04</td>\n",
              "      <td>9.166228e-06</td>\n",
              "    </tr>\n",
              "    <tr>\n",
              "      <th>1</th>\n",
              "      <td>3.993102e-03</td>\n",
              "      <td>7.431078e-31</td>\n",
              "      <td>8.110944e-69</td>\n",
              "    </tr>\n",
              "    <tr>\n",
              "      <th>2</th>\n",
              "      <td>1.067023e-248</td>\n",
              "      <td>8.603394e-17</td>\n",
              "      <td>1.815611e-07</td>\n",
              "    </tr>\n",
              "    <tr>\n",
              "      <th>3</th>\n",
              "      <td>2.820299e-80</td>\n",
              "      <td>1.521963e-02</td>\n",
              "      <td>3.042943e-05</td>\n",
              "    </tr>\n",
              "    <tr>\n",
              "      <th>4</th>\n",
              "      <td>4.932364e-95</td>\n",
              "      <td>3.479563e-03</td>\n",
              "      <td>1.695083e-06</td>\n",
              "    </tr>\n",
              "    <tr>\n",
              "      <th>5</th>\n",
              "      <td>3.420186e-03</td>\n",
              "      <td>5.383535e-24</td>\n",
              "      <td>1.726400e-59</td>\n",
              "    </tr>\n",
              "    <tr>\n",
              "      <th>6</th>\n",
              "      <td>2.005769e-46</td>\n",
              "      <td>1.157144e-03</td>\n",
              "      <td>6.897817e-11</td>\n",
              "    </tr>\n",
              "    <tr>\n",
              "      <th>7</th>\n",
              "      <td>1.744342e-143</td>\n",
              "      <td>1.474870e-14</td>\n",
              "      <td>5.570747e-05</td>\n",
              "    </tr>\n",
              "    <tr>\n",
              "      <th>8</th>\n",
              "      <td>3.431034e-90</td>\n",
              "      <td>1.163796e-05</td>\n",
              "      <td>1.720325e-05</td>\n",
              "    </tr>\n",
              "    <tr>\n",
              "      <th>9</th>\n",
              "      <td>1.142509e-53</td>\n",
              "      <td>1.670497e-02</td>\n",
              "      <td>9.673918e-09</td>\n",
              "    </tr>\n",
              "    <tr>\n",
              "      <th>10</th>\n",
              "      <td>1.386013e-122</td>\n",
              "      <td>8.856863e-06</td>\n",
              "      <td>1.066864e-03</td>\n",
              "    </tr>\n",
              "    <tr>\n",
              "      <th>11</th>\n",
              "      <td>1.592254e-02</td>\n",
              "      <td>1.929137e-22</td>\n",
              "      <td>1.502870e-51</td>\n",
              "    </tr>\n",
              "    <tr>\n",
              "      <th>12</th>\n",
              "      <td>2.777886e-03</td>\n",
              "      <td>2.481343e-30</td>\n",
              "      <td>3.349138e-71</td>\n",
              "    </tr>\n",
              "    <tr>\n",
              "      <th>13</th>\n",
              "      <td>1.422831e-02</td>\n",
              "      <td>1.696864e-23</td>\n",
              "      <td>2.274204e-52</td>\n",
              "    </tr>\n",
              "    <tr>\n",
              "      <th>14</th>\n",
              "      <td>3.199454e-02</td>\n",
              "      <td>2.993137e-31</td>\n",
              "      <td>8.647473e-66</td>\n",
              "    </tr>\n",
              "    <tr>\n",
              "      <th>15</th>\n",
              "      <td>1.976666e-88</td>\n",
              "      <td>5.565696e-03</td>\n",
              "      <td>1.203536e-06</td>\n",
              "    </tr>\n",
              "    <tr>\n",
              "      <th>16</th>\n",
              "      <td>5.659689e-166</td>\n",
              "      <td>8.718523e-09</td>\n",
              "      <td>3.794368e-03</td>\n",
              "    </tr>\n",
              "    <tr>\n",
              "      <th>17</th>\n",
              "      <td>2.776260e-52</td>\n",
              "      <td>1.255261e-02</td>\n",
              "      <td>1.071293e-07</td>\n",
              "    </tr>\n",
              "    <tr>\n",
              "      <th>18</th>\n",
              "      <td>2.394801e-74</td>\n",
              "      <td>3.686118e-03</td>\n",
              "      <td>2.675612e-05</td>\n",
              "    </tr>\n",
              "    <tr>\n",
              "      <th>19</th>\n",
              "      <td>1.299825e-158</td>\n",
              "      <td>2.161779e-10</td>\n",
              "      <td>2.685433e-03</td>\n",
              "    </tr>\n",
              "    <tr>\n",
              "      <th>20</th>\n",
              "      <td>2.196493e-02</td>\n",
              "      <td>2.157852e-22</td>\n",
              "      <td>1.971633e-48</td>\n",
              "    </tr>\n",
              "    <tr>\n",
              "      <th>21</th>\n",
              "      <td>6.670303e-106</td>\n",
              "      <td>4.474481e-04</td>\n",
              "      <td>1.795510e-03</td>\n",
              "    </tr>\n",
              "    <tr>\n",
              "      <th>22</th>\n",
              "      <td>1.760176e-02</td>\n",
              "      <td>4.018562e-22</td>\n",
              "      <td>3.412218e-52</td>\n",
              "    </tr>\n",
              "    <tr>\n",
              "      <th>23</th>\n",
              "      <td>3.437445e-153</td>\n",
              "      <td>1.629611e-08</td>\n",
              "      <td>4.381947e-03</td>\n",
              "    </tr>\n",
              "    <tr>\n",
              "      <th>24</th>\n",
              "      <td>1.010691e-187</td>\n",
              "      <td>5.275978e-07</td>\n",
              "      <td>1.465125e-05</td>\n",
              "    </tr>\n",
              "    <tr>\n",
              "      <th>25</th>\n",
              "      <td>5.087777e-147</td>\n",
              "      <td>8.911314e-14</td>\n",
              "      <td>6.596931e-04</td>\n",
              "    </tr>\n",
              "    <tr>\n",
              "      <th>26</th>\n",
              "      <td>1.666348e-155</td>\n",
              "      <td>6.915325e-08</td>\n",
              "      <td>9.497664e-04</td>\n",
              "    </tr>\n",
              "    <tr>\n",
              "      <th>27</th>\n",
              "      <td>2.129720e-175</td>\n",
              "      <td>3.087950e-09</td>\n",
              "      <td>5.266386e-03</td>\n",
              "    </tr>\n",
              "    <tr>\n",
              "      <th>28</th>\n",
              "      <td>2.008339e-02</td>\n",
              "      <td>2.276960e-19</td>\n",
              "      <td>1.547077e-48</td>\n",
              "    </tr>\n",
              "    <tr>\n",
              "      <th>29</th>\n",
              "      <td>2.410461e-02</td>\n",
              "      <td>6.054409e-21</td>\n",
              "      <td>1.215612e-47</td>\n",
              "    </tr>\n",
              "  </tbody>\n",
              "</table>\n",
              "</div>"
            ],
            "text/plain": [
              "           setosa    versicolor     virginica\n",
              "0    5.222359e-81  2.945646e-04  9.166228e-06\n",
              "1    3.993102e-03  7.431078e-31  8.110944e-69\n",
              "2   1.067023e-248  8.603394e-17  1.815611e-07\n",
              "3    2.820299e-80  1.521963e-02  3.042943e-05\n",
              "4    4.932364e-95  3.479563e-03  1.695083e-06\n",
              "5    3.420186e-03  5.383535e-24  1.726400e-59\n",
              "6    2.005769e-46  1.157144e-03  6.897817e-11\n",
              "7   1.744342e-143  1.474870e-14  5.570747e-05\n",
              "8    3.431034e-90  1.163796e-05  1.720325e-05\n",
              "9    1.142509e-53  1.670497e-02  9.673918e-09\n",
              "10  1.386013e-122  8.856863e-06  1.066864e-03\n",
              "11   1.592254e-02  1.929137e-22  1.502870e-51\n",
              "12   2.777886e-03  2.481343e-30  3.349138e-71\n",
              "13   1.422831e-02  1.696864e-23  2.274204e-52\n",
              "14   3.199454e-02  2.993137e-31  8.647473e-66\n",
              "15   1.976666e-88  5.565696e-03  1.203536e-06\n",
              "16  5.659689e-166  8.718523e-09  3.794368e-03\n",
              "17   2.776260e-52  1.255261e-02  1.071293e-07\n",
              "18   2.394801e-74  3.686118e-03  2.675612e-05\n",
              "19  1.299825e-158  2.161779e-10  2.685433e-03\n",
              "20   2.196493e-02  2.157852e-22  1.971633e-48\n",
              "21  6.670303e-106  4.474481e-04  1.795510e-03\n",
              "22   1.760176e-02  4.018562e-22  3.412218e-52\n",
              "23  3.437445e-153  1.629611e-08  4.381947e-03\n",
              "24  1.010691e-187  5.275978e-07  1.465125e-05\n",
              "25  5.087777e-147  8.911314e-14  6.596931e-04\n",
              "26  1.666348e-155  6.915325e-08  9.497664e-04\n",
              "27  2.129720e-175  3.087950e-09  5.266386e-03\n",
              "28   2.008339e-02  2.276960e-19  1.547077e-48\n",
              "29   2.410461e-02  6.054409e-21  1.215612e-47"
            ]
          },
          "execution_count": 12,
          "metadata": {},
          "output_type": "execute_result"
        }
      ],
      "source": [
        "P"
      ]
    },
    {
      "cell_type": "code",
      "execution_count": 11,
      "metadata": {
        "colab": {
          "base_uri": "https://localhost:8080/"
        },
        "id": "2sDUVQ84ZoNr",
        "outputId": "c27f940d-ec2f-4b0a-f16b-7d535fece2da"
      },
      "outputs": [
        {
          "name": "stdout",
          "output_type": "stream",
          "text": [
            "['versicolor' 'setosa' 'virginica' 'versicolor' 'versicolor' 'setosa'\n",
            " 'versicolor' 'virginica' 'virginica' 'versicolor' 'virginica' 'setosa'\n",
            " 'setosa' 'setosa' 'setosa' 'versicolor' 'virginica' 'versicolor'\n",
            " 'versicolor' 'virginica' 'setosa' 'virginica' 'setosa' 'virginica'\n",
            " 'virginica' 'virginica' 'virginica' 'virginica' 'setosa' 'setosa']\n"
          ]
        }
      ],
      "source": [
        "y_pred = []\n",
        "\n",
        "for i in np.arange(0, x_test.shape[0]):\n",
        "    c = np.argmax(np.array(P.iloc[[i]]))\n",
        "    y_pred.append(classes[c])\n",
        "y_pred = np.array(y_pred, dtype=str)\n",
        "print(y_pred)"
      ]
    },
    {
      "cell_type": "code",
      "execution_count": 9,
      "metadata": {
        "colab": {
          "base_uri": "https://localhost:8080/"
        },
        "id": "K8uht6HKZrML",
        "outputId": "9b8c4b42-3e93-47d1-b934-38dbd54f1746"
      },
      "outputs": [
        {
          "name": "stdout",
          "output_type": "stream",
          "text": [
            "Accuracy: 0.9666666666666667\n"
          ]
        }
      ],
      "source": [
        "from sklearn.metrics import accuracy_score\n",
        "score = accuracy_score(y_pred, y_test)\n",
        "print('Accuracy:', score)"
      ]
    }
  ],
  "metadata": {
    "colab": {
      "provenance": []
    },
    "kernelspec": {
      "display_name": "Python 3",
      "name": "python3"
    },
    "language_info": {
      "codemirror_mode": {
        "name": "ipython",
        "version": 3
      },
      "file_extension": ".py",
      "mimetype": "text/x-python",
      "name": "python",
      "nbconvert_exporter": "python",
      "pygments_lexer": "ipython3",
      "version": "3.9.7"
    }
  },
  "nbformat": 4,
  "nbformat_minor": 0
}
