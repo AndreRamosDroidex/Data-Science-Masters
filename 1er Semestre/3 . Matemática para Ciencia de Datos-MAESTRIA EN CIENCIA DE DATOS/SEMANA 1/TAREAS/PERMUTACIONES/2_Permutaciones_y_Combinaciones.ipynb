{
  "cells": [
    {
      "cell_type": "markdown",
      "metadata": {
        "id": "yk2GQGGgyina"
      },
      "source": [
        "# Permutaciones"
      ]
    },
    {
      "cell_type": "code",
      "execution_count": 3,
      "metadata": {
        "id": "Ir1KItRXy7MA"
      },
      "outputs": [],
      "source": [
        "from itertools import permutations"
      ]
    },
    {
      "cell_type": "markdown",
      "metadata": {
        "id": "m1K55rAh5vEm"
      },
      "source": [
        "## Calculando las permutaciones de tamaño n"
      ]
    },
    {
      "cell_type": "code",
      "execution_count": 4,
      "metadata": {
        "colab": {
          "base_uri": "https://localhost:8080/"
        },
        "id": "USHePR5A_7uQ",
        "outputId": "00beaa36-a503-499c-d5fb-5b75cc3e9264"
      },
      "outputs": [
        {
          "output_type": "stream",
          "name": "stdout",
          "text": [
            "('H1', 'H2', 'M1', 'M2')\n",
            "('H1', 'H2', 'M2', 'M1')\n",
            "('H1', 'M1', 'H2', 'M2')\n",
            "('H1', 'M1', 'M2', 'H2')\n",
            "('H1', 'M2', 'H2', 'M1')\n",
            "('H1', 'M2', 'M1', 'H2')\n",
            "('H2', 'H1', 'M1', 'M2')\n",
            "('H2', 'H1', 'M2', 'M1')\n",
            "('H2', 'M1', 'H1', 'M2')\n",
            "('H2', 'M1', 'M2', 'H1')\n",
            "('H2', 'M2', 'H1', 'M1')\n",
            "('H2', 'M2', 'M1', 'H1')\n",
            "('M1', 'H1', 'H2', 'M2')\n",
            "('M1', 'H1', 'M2', 'H2')\n",
            "('M1', 'H2', 'H1', 'M2')\n",
            "('M1', 'H2', 'M2', 'H1')\n",
            "('M1', 'M2', 'H1', 'H2')\n",
            "('M1', 'M2', 'H2', 'H1')\n",
            "('M2', 'H1', 'H2', 'M1')\n",
            "('M2', 'H1', 'M1', 'H2')\n",
            "('M2', 'H2', 'H1', 'M1')\n",
            "('M2', 'H2', 'M1', 'H1')\n",
            "('M2', 'M1', 'H1', 'H2')\n",
            "('M2', 'M1', 'H2', 'H1')\n"
          ]
        }
      ],
      "source": [
        "S=[\"H1\", \"H2\",\"M1\",\"M2\"]\n",
        "perm = permutations(S)\n",
        "for i in list(perm):\n",
        "    print (i)"
      ]
    },
    {
      "cell_type": "markdown",
      "metadata": {
        "id": "W4yex7zf56aR"
      },
      "source": [
        "## Calculando las permutaciones de tamaño r de un total de n."
      ]
    },
    {
      "cell_type": "code",
      "execution_count": null,
      "metadata": {
        "id": "RDKd-L6x5Rh-"
      },
      "outputs": [],
      "source": [
        "S=[1, 2,3,4]"
      ]
    },
    {
      "cell_type": "code",
      "execution_count": null,
      "metadata": {
        "colab": {
          "base_uri": "https://localhost:8080/"
        },
        "id": "bTJFGGbf_9ch",
        "outputId": "51ac3704-6e3d-42ae-843a-397fd28c3cc4"
      },
      "outputs": [
        {
          "name": "stdout",
          "output_type": "stream",
          "text": [
            "(1, 2, 3)\n",
            "(1, 2, 4)\n",
            "(1, 3, 2)\n",
            "(1, 3, 4)\n",
            "(1, 4, 2)\n",
            "(1, 4, 3)\n",
            "(2, 1, 3)\n",
            "(2, 1, 4)\n",
            "(2, 3, 1)\n",
            "(2, 3, 4)\n",
            "(2, 4, 1)\n",
            "(2, 4, 3)\n",
            "(3, 1, 2)\n",
            "(3, 1, 4)\n",
            "(3, 2, 1)\n",
            "(3, 2, 4)\n",
            "(3, 4, 1)\n",
            "(3, 4, 2)\n",
            "(4, 1, 2)\n",
            "(4, 1, 3)\n",
            "(4, 2, 1)\n",
            "(4, 2, 3)\n",
            "(4, 3, 1)\n",
            "(4, 3, 2)\n"
          ]
        }
      ],
      "source": [
        "# Obtener todas las permutaciones de tamaño 2\n",
        "S=[1, 2,3,4]\n",
        "perm = permutations(S, 3)\n",
        "for i in list(perm):\n",
        "    print (i)"
      ]
    },
    {
      "cell_type": "markdown",
      "metadata": {
        "id": "uXZKesWCzFrn"
      },
      "source": [
        "# Combinaciones"
      ]
    },
    {
      "cell_type": "code",
      "execution_count": null,
      "metadata": {
        "id": "t-W30gRzzKbg"
      },
      "outputs": [],
      "source": [
        "from itertools import combinations"
      ]
    },
    {
      "cell_type": "markdown",
      "metadata": {
        "id": "6t1RpHgh6rB_"
      },
      "source": [
        "## Calculando las combinaciones de tamaño r de un total de n."
      ]
    },
    {
      "cell_type": "code",
      "execution_count": null,
      "metadata": {
        "colab": {
          "base_uri": "https://localhost:8080/"
        },
        "id": "Gky4kK80ARIA",
        "outputId": "af5ca888-4dd2-4c3e-d395-b1aaedd0c2ae"
      },
      "outputs": [
        {
          "name": "stdout",
          "output_type": "stream",
          "text": [
            "(1, 2)\n",
            "(1, 3)\n",
            "(1, 4)\n",
            "(1, 5)\n",
            "(2, 3)\n",
            "(2, 4)\n",
            "(2, 5)\n",
            "(3, 4)\n",
            "(3, 5)\n",
            "(4, 5)\n"
          ]
        }
      ],
      "source": [
        "S=[1,2,3,4,5]\n",
        "comb = combinations(S, 2)\n",
        "for i in list(comb):\n",
        "    print (i)"
      ]
    },
    {
      "cell_type": "markdown",
      "metadata": {
        "id": "6jVREVi9z_sZ"
      },
      "source": [
        "# Combinaciones con Reposición"
      ]
    },
    {
      "cell_type": "code",
      "execution_count": null,
      "metadata": {
        "id": "XLOm_i-K0EMA"
      },
      "outputs": [],
      "source": [
        "from itertools import combinations_with_replacement"
      ]
    },
    {
      "cell_type": "markdown",
      "metadata": {
        "id": "z5465bDY6vsn"
      },
      "source": [
        "## Calculando las combinaciones con reposición de tamaño r de un total de n."
      ]
    },
    {
      "cell_type": "code",
      "execution_count": null,
      "metadata": {
        "colab": {
          "base_uri": "https://localhost:8080/"
        },
        "id": "994sl4qpAqUo",
        "outputId": "8c9395d6-41db-44f0-f086-9df4a7f61e81"
      },
      "outputs": [
        {
          "name": "stdout",
          "output_type": "stream",
          "text": [
            "(1, 1)\n",
            "(1, 2)\n",
            "(1, 3)\n",
            "(1, 4)\n",
            "(2, 2)\n",
            "(2, 3)\n",
            "(2, 4)\n",
            "(3, 3)\n",
            "(3, 4)\n",
            "(4, 4)\n"
          ]
        }
      ],
      "source": [
        "\n",
        "S=[1,2,3,4]\n",
        "comb = combinations_with_replacement(S, 2)\n",
        "for i in list(comb):\n",
        "    print (i)"
      ]
    },
    {
      "cell_type": "markdown",
      "metadata": {
        "id": "3JV05UED0b0W"
      },
      "source": [
        "# Funciones en Python"
      ]
    },
    {
      "cell_type": "markdown",
      "metadata": {
        "id": "jtnbxKGN0hU1"
      },
      "source": [
        "## Factorial"
      ]
    },
    {
      "cell_type": "code",
      "execution_count": 5,
      "metadata": {
        "id": "1amQmteO_vpB"
      },
      "outputs": [],
      "source": [
        "# Factorial\n",
        "def fact(n):\n",
        "  if n == 0:\n",
        "    return 1\n",
        "  if n == 1:\n",
        "    return 1\n",
        "  else:\n",
        "    return n * fact(n-1)"
      ]
    },
    {
      "cell_type": "code",
      "execution_count": null,
      "metadata": {
        "colab": {
          "base_uri": "https://localhost:8080/"
        },
        "id": "v8jTfZ-xzfRA",
        "outputId": "ec85c811-9808-4e11-9de7-85aa7a39de9c"
      },
      "outputs": [
        {
          "data": {
            "text/plain": [
              "120"
            ]
          },
          "execution_count": 11,
          "metadata": {},
          "output_type": "execute_result"
        }
      ],
      "source": [
        "fact(5)"
      ]
    },
    {
      "cell_type": "code",
      "execution_count": null,
      "metadata": {
        "colab": {
          "base_uri": "https://localhost:8080/"
        },
        "id": "W501wveOzhtv",
        "outputId": "6b65b0d2-c9c1-4802-aee4-28d5e786a684"
      },
      "outputs": [
        {
          "data": {
            "text/plain": [
              "1"
            ]
          },
          "execution_count": 12,
          "metadata": {},
          "output_type": "execute_result"
        }
      ],
      "source": [
        "fact(0)"
      ]
    },
    {
      "cell_type": "code",
      "execution_count": null,
      "metadata": {
        "colab": {
          "base_uri": "https://localhost:8080/"
        },
        "id": "rKWjv74Hzkpo",
        "outputId": "8d9c78fd-4c50-48c5-cd72-a6e587b5a145"
      },
      "outputs": [
        {
          "data": {
            "text/plain": [
              "56.0"
            ]
          },
          "execution_count": 13,
          "metadata": {},
          "output_type": "execute_result"
        }
      ],
      "source": [
        "fact(8)/fact(6)"
      ]
    },
    {
      "cell_type": "markdown",
      "metadata": {
        "id": "TA27tgkn0mWa"
      },
      "source": [
        "## Permutación"
      ]
    },
    {
      "cell_type": "code",
      "execution_count": null,
      "metadata": {
        "id": "dtwjiwkC_0_Q"
      },
      "outputs": [],
      "source": [
        "# Permutación\n",
        "def Perm(n,k):\n",
        "  if n <k :\n",
        "    return \"No valido\"\n",
        "  else:\n",
        "    return fact(n)/fact(n-k)"
      ]
    },
    {
      "cell_type": "code",
      "execution_count": null,
      "metadata": {
        "colab": {
          "base_uri": "https://localhost:8080/"
        },
        "id": "UCHZ3iNQ0ulx",
        "outputId": "7397d8bb-9ea2-4625-bc4c-e1b48fbcb5e2"
      },
      "outputs": [
        {
          "data": {
            "text/plain": [
              "20.0"
            ]
          },
          "execution_count": 15,
          "metadata": {},
          "output_type": "execute_result"
        }
      ],
      "source": [
        "Perm(5,2)"
      ]
    },
    {
      "cell_type": "code",
      "execution_count": null,
      "metadata": {
        "colab": {
          "base_uri": "https://localhost:8080/"
        },
        "id": "tFsn4CfS0vNA",
        "outputId": "9b51348a-9f4e-4957-a4d0-0eed9a1e6564"
      },
      "outputs": [
        {
          "data": {
            "text/plain": [
              "120.0"
            ]
          },
          "execution_count": 16,
          "metadata": {},
          "output_type": "execute_result"
        }
      ],
      "source": [
        "Perm(5,5)"
      ]
    },
    {
      "cell_type": "markdown",
      "metadata": {
        "id": "z5ZPZvsL0oqQ"
      },
      "source": [
        "## Combinación"
      ]
    },
    {
      "cell_type": "code",
      "execution_count": null,
      "metadata": {
        "id": "PhlKZTWJ_zVI"
      },
      "outputs": [],
      "source": [
        "# Combinación\n",
        "def Comb(n,k):\n",
        "  if n <k :\n",
        "    return \"No valido\"\n",
        "  else:\n",
        "    return fact(n)/(fact(k)*fact(n-k))"
      ]
    },
    {
      "cell_type": "code",
      "execution_count": null,
      "metadata": {
        "colab": {
          "base_uri": "https://localhost:8080/"
        },
        "id": "A3OlUNDiz8oo",
        "outputId": "0416d3c0-287b-4816-ab36-dbb216ff7dfc"
      },
      "outputs": [
        {
          "data": {
            "text/plain": [
              "15.0"
            ]
          },
          "execution_count": 18,
          "metadata": {},
          "output_type": "execute_result"
        }
      ],
      "source": [
        "Comb(6,2)"
      ]
    },
    {
      "cell_type": "code",
      "execution_count": null,
      "metadata": {
        "colab": {
          "base_uri": "https://localhost:8080/"
        },
        "id": "m7hRyMa00IaQ",
        "outputId": "9c3ba0a1-5656-4a37-d8d8-0f9850fe68cf"
      },
      "outputs": [
        {
          "data": {
            "text/plain": [
              "20.0"
            ]
          },
          "execution_count": 19,
          "metadata": {},
          "output_type": "execute_result"
        }
      ],
      "source": [
        "Comb(6,3)"
      ]
    },
    {
      "cell_type": "code",
      "execution_count": null,
      "metadata": {
        "colab": {
          "base_uri": "https://localhost:8080/"
        },
        "id": "tio5vZDN0z-j",
        "outputId": "5eafd04e-54b3-4bbb-d773-5f753d96ab6b"
      },
      "outputs": [
        {
          "data": {
            "text/plain": [
              "35.0"
            ]
          },
          "execution_count": 20,
          "metadata": {},
          "output_type": "execute_result"
        }
      ],
      "source": [
        "Comb(6,2)+Comb(6,3)"
      ]
    },
    {
      "cell_type": "code",
      "execution_count": null,
      "metadata": {
        "colab": {
          "base_uri": "https://localhost:8080/"
        },
        "id": "uh6gAGgn08JZ",
        "outputId": "9d63d623-9d11-4fd4-e92b-629da94b1cd2"
      },
      "outputs": [
        {
          "data": {
            "text/plain": [
              "35.0"
            ]
          },
          "execution_count": 21,
          "metadata": {},
          "output_type": "execute_result"
        }
      ],
      "source": [
        "Comb(7,3)"
      ]
    },
    {
      "cell_type": "code",
      "execution_count": null,
      "metadata": {
        "colab": {
          "base_uri": "https://localhost:8080/"
        },
        "id": "7jtnHdOQuHDu",
        "outputId": "73144558-fafc-4a70-c695-5a5aa4c71546"
      },
      "outputs": [
        {
          "data": {
            "text/plain": [
              "0.16666666666666666"
            ]
          },
          "execution_count": 47,
          "metadata": {},
          "output_type": "execute_result"
        }
      ],
      "source": [
        "Comb(6,3)*Comb(4,0)/Comb(10,3)"
      ]
    },
    {
      "cell_type": "markdown",
      "metadata": {
        "id": "bb7NnevF7epH"
      },
      "source": [
        "# Ejemplos"
      ]
    },
    {
      "cell_type": "markdown",
      "metadata": {
        "id": "ewQl_Z4O7dcn"
      },
      "source": [
        "1. Carlos, Pedro, Manuel y Sandra correrán los 100\n",
        "metros planos. ¿De cuántas formas puede\n",
        "quedar el podio de primer y segundo lugar? Solo\n",
        "competirán ellos cuatro.\n"
      ]
    },
    {
      "cell_type": "code",
      "source": [],
      "metadata": {
        "id": "PCCDwT17dSRA"
      },
      "execution_count": null,
      "outputs": []
    },
    {
      "cell_type": "markdown",
      "metadata": {
        "id": "c8pmBr0Q7j2n"
      },
      "source": [
        "2. ¿De cuántas formas se puede preparar una\n",
        "ensalada de frutas con solo 2 ingredientes, si se\n",
        "cuenta con plátano, manzana y uva?\n"
      ]
    },
    {
      "cell_type": "code",
      "source": [],
      "metadata": {
        "id": "ZRSpkCN5dUiA"
      },
      "execution_count": null,
      "outputs": []
    },
    {
      "cell_type": "markdown",
      "metadata": {
        "id": "ISOjmBCuEN3i"
      },
      "source": [
        "3. En una estantería hay 6 libros de matemáticas y 3 de física. Queremos seleccionar 2 de cada. ¿De cuántas maneras podemos hacerlo?"
      ]
    },
    {
      "cell_type": "code",
      "execution_count": null,
      "metadata": {
        "id": "ghKMhmEUWB1U"
      },
      "outputs": [],
      "source": []
    },
    {
      "cell_type": "markdown",
      "metadata": {
        "id": "hbfJ3-GzDh7a"
      },
      "source": [
        "4. Todas las personas que asisten a una reunión se estrechan la mano. Si hubo 105 apretones, ¿cuántas personas asistieron?"
      ]
    },
    {
      "cell_type": "code",
      "source": [],
      "metadata": {
        "id": "paNZZrAzdVqU"
      },
      "execution_count": null,
      "outputs": []
    },
    {
      "cell_type": "markdown",
      "metadata": {
        "id": "WJVrdG5h1bmh"
      },
      "source": [
        "5. Con 4 frutas diferentes, ¿Cuántos jugos surtidos se pueden preparar?. Además, un jugo surtido se prepara con al menos 2 frutas."
      ]
    },
    {
      "cell_type": "markdown",
      "metadata": {
        "id": "-aBZI2S0BiQT"
      },
      "source": [
        "6. ¿Cuántas palabras diferentes se pueden formar con las letras de la palabra REMEMBER?"
      ]
    },
    {
      "cell_type": "code",
      "execution_count": 6,
      "metadata": {
        "colab": {
          "base_uri": "https://localhost:8080/"
        },
        "id": "-I_86qmXWQmI",
        "outputId": "c78ef4e7-2654-4e9e-9db0-53c9a25c6f3e"
      },
      "outputs": [
        {
          "output_type": "stream",
          "name": "stdout",
          "text": [
            "40320\n"
          ]
        }
      ],
      "source": [
        "S=[\"R\", \"E\",\"M\",\"E\",\"M\",\"B\",\"E\",\"R\"]\n",
        "perm = permutations(S)\n",
        "print(len(list(perm)))"
      ]
    },
    {
      "cell_type": "markdown",
      "metadata": {
        "id": "H7Gdc5agcAXo"
      },
      "source": [
        "7. Determinar la cantidad de formas posibles de organizar las letras de la palabra TALLAHASSEE de tal forma que las letras A's no esten juntas."
      ]
    },
    {
      "cell_type": "code",
      "execution_count": 8,
      "metadata": {
        "colab": {
          "base_uri": "https://localhost:8080/"
        },
        "id": "7lty4mevXAEt",
        "outputId": "163604f0-1a1b-499d-cc03-5ef3c5168e56"
      },
      "outputs": [
        {
          "output_type": "execute_result",
          "data": {
            "text/plain": [
              "38102400.0"
            ]
          },
          "metadata": {},
          "execution_count": 8
        }
      ],
      "source": [
        "S=[\"T\",\"A\",\"L\",\"L\",\"A\",\"H\",\"A\",\"S\",\"S\",\"E\",\"E\"]\n",
        "fact(11)-fact(10) + fact(10)/fact(2)"
      ]
    },
    {
      "cell_type": "markdown",
      "metadata": {
        "id": "lt3j4s8zB7SL"
      },
      "source": [
        "8. ¿De cuántas formas se pueden sentar 6 amigos alrededor de una mesa circular?"
      ]
    },
    {
      "cell_type": "code",
      "execution_count": null,
      "metadata": {
        "colab": {
          "base_uri": "https://localhost:8080/"
        },
        "id": "6XYB1nTQdOdo",
        "outputId": "1f162eae-a202-4ff1-fc01-ba105650d1df"
      },
      "outputs": [
        {
          "data": {
            "text/plain": [
              "120"
            ]
          },
          "execution_count": 17,
          "metadata": {},
          "output_type": "execute_result"
        }
      ],
      "source": [
        "fact(6-1)"
      ]
    },
    {
      "cell_type": "markdown",
      "metadata": {
        "id": "g0-yU9SpCtlz"
      },
      "source": [
        "9. En un grupo de 6 amigos, hay una pareja de novios. ¿De cuántas maneras pueden sentarse alrededor de una fogata, si los novios deben sentarse siempre juntos?"
      ]
    },
    {
      "cell_type": "code",
      "execution_count": null,
      "metadata": {
        "colab": {
          "base_uri": "https://localhost:8080/"
        },
        "id": "x6kIfrACdUVx",
        "outputId": "4e53c277-04ec-4ab3-f465-716055b013a8"
      },
      "outputs": [
        {
          "data": {
            "text/plain": [
              "48"
            ]
          },
          "execution_count": 18,
          "metadata": {},
          "output_type": "execute_result"
        }
      ],
      "source": [
        "2*fact(5-1)"
      ]
    },
    {
      "cell_type": "markdown",
      "metadata": {
        "id": "Dt7tGw1E8YTh"
      },
      "source": [
        "10. Supongamos que hay tres hombres y dos mujeres.\n",
        "*   (a) ¿De cuántas maneras pueden posar en línea para una fotografía grupal?\n",
        "*   (b) ¿De cuántas maneras pueden colocarse en línea si una mujer debe estar en cada extremo?\n",
        "*   (c) ¿De cuántas maneras pueden colocarse en línea si las mujeres no deben ubicarse en los extremos?\n",
        "*   (d) ¿De cuántas maneras las personas del mismo sexo están juntas?\n",
        "*   (e) ¿De cuántas maneras las mujeres están separadas?"
      ]
    },
    {
      "cell_type": "code",
      "execution_count": null,
      "metadata": {
        "id": "XIzP2zv2e55B"
      },
      "outputs": [],
      "source": [
        "#3 H\n",
        "#2 M\n",
        "#(a)\n",
        "fact(5)\n"
      ]
    },
    {
      "cell_type": "code",
      "execution_count": null,
      "metadata": {
        "id": "0zc1x3Rifj8f"
      },
      "outputs": [],
      "source": [
        "#(b)\n",
        "2*fact(3)"
      ]
    },
    {
      "cell_type": "code",
      "execution_count": null,
      "metadata": {
        "colab": {
          "background_save": true
        },
        "id": "asDqmOUOfnHA",
        "outputId": "2d684f18-0eb2-4ac2-87f1-bb835db26b30"
      },
      "outputs": [
        {
          "data": {
            "text/plain": [
              "72"
            ]
          },
          "execution_count": 26,
          "metadata": {},
          "output_type": "execute_result"
        }
      ],
      "source": [
        "#(c)\n",
        "4*3*fact(3)"
      ]
    },
    {
      "cell_type": "code",
      "execution_count": 9,
      "metadata": {
        "id": "h73DTDwNfo1Z",
        "colab": {
          "base_uri": "https://localhost:8080/"
        },
        "outputId": "4ebd9403-b69a-48b9-f4c0-bb53091b2501"
      },
      "outputs": [
        {
          "output_type": "execute_result",
          "data": {
            "text/plain": [
              "24"
            ]
          },
          "metadata": {},
          "execution_count": 9
        }
      ],
      "source": [
        "#(d)\n",
        "fact(2)*fact(3)*fact(2)"
      ]
    },
    {
      "cell_type": "code",
      "execution_count": 13,
      "metadata": {
        "id": "aJRnNEVofsrx",
        "colab": {
          "base_uri": "https://localhost:8080/"
        },
        "outputId": "42de1fc7-208f-47d5-c40a-9d4a87fe4a81"
      },
      "outputs": [
        {
          "output_type": "execute_result",
          "data": {
            "text/plain": [
              "48"
            ]
          },
          "metadata": {},
          "execution_count": 13
        }
      ],
      "source": [
        "#(e)\n",
        "fact(2)*4*fact(3)"
      ]
    }
  ],
  "metadata": {
    "colab": {
      "provenance": []
    },
    "kernelspec": {
      "display_name": "Python 3",
      "name": "python3"
    },
    "language_info": {
      "name": "python"
    }
  },
  "nbformat": 4,
  "nbformat_minor": 0
}