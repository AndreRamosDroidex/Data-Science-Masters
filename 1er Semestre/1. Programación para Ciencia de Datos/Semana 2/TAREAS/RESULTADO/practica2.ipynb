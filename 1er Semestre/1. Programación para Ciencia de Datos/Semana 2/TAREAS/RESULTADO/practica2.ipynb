{
 "cells": [
  {
   "cell_type": "markdown",
   "metadata": {},
   "source": [
    "***PRACTICA 2***"
   ]
  },
  {
   "cell_type": "code",
   "execution_count": 295,
   "metadata": {},
   "outputs": [],
   "source": [
    "import numpy as np\n",
    "import pandas as pd\n",
    "\n",
    "df = pd.read_csv('Data\\housesBrazil.csv')\n"
   ]
  },
  {
   "cell_type": "markdown",
   "metadata": {},
   "source": [
    "**Tipos de datos por cada columna**"
   ]
  },
  {
   "cell_type": "code",
   "execution_count": 296,
   "metadata": {},
   "outputs": [
    {
     "data": {
      "text/plain": [
       "Unnamed: 0         int64\n",
       "city               int64\n",
       "area               int64\n",
       "rooms              int64\n",
       "bathroom           int64\n",
       "parking spaces     int64\n",
       "floor             object\n",
       "animal            object\n",
       "furniture         object\n",
       "hoa               object\n",
       "rent amount        int64\n",
       "property tax      object\n",
       "fire insurance     int64\n",
       "total              int64\n",
       "dtype: object"
      ]
     },
     "execution_count": 296,
     "metadata": {},
     "output_type": "execute_result"
    }
   ],
   "source": [
    "df.dtypes"
   ]
  },
  {
   "cell_type": "markdown",
   "metadata": {},
   "source": [
    "**Generar el análisis estadístico general**"
   ]
  },
  {
   "cell_type": "code",
   "execution_count": 297,
   "metadata": {},
   "outputs": [
    {
     "data": {
      "text/html": [
       "<div>\n",
       "<style scoped>\n",
       "    .dataframe tbody tr th:only-of-type {\n",
       "        vertical-align: middle;\n",
       "    }\n",
       "\n",
       "    .dataframe tbody tr th {\n",
       "        vertical-align: top;\n",
       "    }\n",
       "\n",
       "    .dataframe thead th {\n",
       "        text-align: right;\n",
       "    }\n",
       "</style>\n",
       "<table border=\"1\" class=\"dataframe\">\n",
       "  <thead>\n",
       "    <tr style=\"text-align: right;\">\n",
       "      <th></th>\n",
       "      <th>Unnamed: 0</th>\n",
       "      <th>city</th>\n",
       "      <th>area</th>\n",
       "      <th>rooms</th>\n",
       "      <th>bathroom</th>\n",
       "      <th>parking spaces</th>\n",
       "      <th>floor</th>\n",
       "      <th>animal</th>\n",
       "      <th>furniture</th>\n",
       "      <th>hoa</th>\n",
       "      <th>rent amount</th>\n",
       "      <th>property tax</th>\n",
       "      <th>fire insurance</th>\n",
       "      <th>total</th>\n",
       "    </tr>\n",
       "  </thead>\n",
       "  <tbody>\n",
       "    <tr>\n",
       "      <th>count</th>\n",
       "      <td>6080.00000</td>\n",
       "      <td>6080.000000</td>\n",
       "      <td>6080.000000</td>\n",
       "      <td>6080.000000</td>\n",
       "      <td>6080.000000</td>\n",
       "      <td>6080.000000</td>\n",
       "      <td>6080</td>\n",
       "      <td>6080</td>\n",
       "      <td>6080</td>\n",
       "      <td>6080</td>\n",
       "      <td>6080.000000</td>\n",
       "      <td>6080</td>\n",
       "      <td>6080.000000</td>\n",
       "      <td>6080.000000</td>\n",
       "    </tr>\n",
       "    <tr>\n",
       "      <th>unique</th>\n",
       "      <td>NaN</td>\n",
       "      <td>NaN</td>\n",
       "      <td>NaN</td>\n",
       "      <td>NaN</td>\n",
       "      <td>NaN</td>\n",
       "      <td>NaN</td>\n",
       "      <td>37</td>\n",
       "      <td>2</td>\n",
       "      <td>2</td>\n",
       "      <td>1292</td>\n",
       "      <td>NaN</td>\n",
       "      <td>1036</td>\n",
       "      <td>NaN</td>\n",
       "      <td>NaN</td>\n",
       "    </tr>\n",
       "    <tr>\n",
       "      <th>top</th>\n",
       "      <td>NaN</td>\n",
       "      <td>NaN</td>\n",
       "      <td>NaN</td>\n",
       "      <td>NaN</td>\n",
       "      <td>NaN</td>\n",
       "      <td>NaN</td>\n",
       "      <td>-</td>\n",
       "      <td>acept</td>\n",
       "      <td>not furnished</td>\n",
       "      <td>0</td>\n",
       "      <td>NaN</td>\n",
       "      <td>0</td>\n",
       "      <td>NaN</td>\n",
       "      <td>NaN</td>\n",
       "    </tr>\n",
       "    <tr>\n",
       "      <th>freq</th>\n",
       "      <td>NaN</td>\n",
       "      <td>NaN</td>\n",
       "      <td>NaN</td>\n",
       "      <td>NaN</td>\n",
       "      <td>NaN</td>\n",
       "      <td>NaN</td>\n",
       "      <td>1555</td>\n",
       "      <td>4666</td>\n",
       "      <td>4498</td>\n",
       "      <td>1291</td>\n",
       "      <td>NaN</td>\n",
       "      <td>1053</td>\n",
       "      <td>NaN</td>\n",
       "      <td>NaN</td>\n",
       "    </tr>\n",
       "    <tr>\n",
       "      <th>mean</th>\n",
       "      <td>3039.50000</td>\n",
       "      <td>0.863322</td>\n",
       "      <td>151.143914</td>\n",
       "      <td>2.492599</td>\n",
       "      <td>2.341612</td>\n",
       "      <td>1.756250</td>\n",
       "      <td>NaN</td>\n",
       "      <td>NaN</td>\n",
       "      <td>NaN</td>\n",
       "      <td>NaN</td>\n",
       "      <td>4395.844408</td>\n",
       "      <td>NaN</td>\n",
       "      <td>58.204276</td>\n",
       "      <td>6033.194572</td>\n",
       "    </tr>\n",
       "    <tr>\n",
       "      <th>std</th>\n",
       "      <td>1755.28915</td>\n",
       "      <td>0.343535</td>\n",
       "      <td>375.559485</td>\n",
       "      <td>1.129665</td>\n",
       "      <td>1.438860</td>\n",
       "      <td>1.611909</td>\n",
       "      <td>NaN</td>\n",
       "      <td>NaN</td>\n",
       "      <td>NaN</td>\n",
       "      <td>NaN</td>\n",
       "      <td>3576.668946</td>\n",
       "      <td>NaN</td>\n",
       "      <td>49.313441</td>\n",
       "      <td>8751.347700</td>\n",
       "    </tr>\n",
       "    <tr>\n",
       "      <th>min</th>\n",
       "      <td>0.00000</td>\n",
       "      <td>0.000000</td>\n",
       "      <td>10.000000</td>\n",
       "      <td>1.000000</td>\n",
       "      <td>1.000000</td>\n",
       "      <td>0.000000</td>\n",
       "      <td>NaN</td>\n",
       "      <td>NaN</td>\n",
       "      <td>NaN</td>\n",
       "      <td>NaN</td>\n",
       "      <td>420.000000</td>\n",
       "      <td>NaN</td>\n",
       "      <td>3.000000</td>\n",
       "      <td>660.000000</td>\n",
       "    </tr>\n",
       "    <tr>\n",
       "      <th>25%</th>\n",
       "      <td>1519.75000</td>\n",
       "      <td>1.000000</td>\n",
       "      <td>58.000000</td>\n",
       "      <td>2.000000</td>\n",
       "      <td>1.000000</td>\n",
       "      <td>1.000000</td>\n",
       "      <td>NaN</td>\n",
       "      <td>NaN</td>\n",
       "      <td>NaN</td>\n",
       "      <td>NaN</td>\n",
       "      <td>1800.000000</td>\n",
       "      <td>NaN</td>\n",
       "      <td>23.000000</td>\n",
       "      <td>2451.500000</td>\n",
       "    </tr>\n",
       "    <tr>\n",
       "      <th>50%</th>\n",
       "      <td>3039.50000</td>\n",
       "      <td>1.000000</td>\n",
       "      <td>100.000000</td>\n",
       "      <td>3.000000</td>\n",
       "      <td>2.000000</td>\n",
       "      <td>1.000000</td>\n",
       "      <td>NaN</td>\n",
       "      <td>NaN</td>\n",
       "      <td>NaN</td>\n",
       "      <td>NaN</td>\n",
       "      <td>3111.000000</td>\n",
       "      <td>NaN</td>\n",
       "      <td>41.000000</td>\n",
       "      <td>4128.500000</td>\n",
       "    </tr>\n",
       "    <tr>\n",
       "      <th>75%</th>\n",
       "      <td>4559.25000</td>\n",
       "      <td>1.000000</td>\n",
       "      <td>200.000000</td>\n",
       "      <td>3.000000</td>\n",
       "      <td>3.000000</td>\n",
       "      <td>2.000000</td>\n",
       "      <td>NaN</td>\n",
       "      <td>NaN</td>\n",
       "      <td>NaN</td>\n",
       "      <td>NaN</td>\n",
       "      <td>5952.500000</td>\n",
       "      <td>NaN</td>\n",
       "      <td>77.000000</td>\n",
       "      <td>8074.000000</td>\n",
       "    </tr>\n",
       "    <tr>\n",
       "      <th>max</th>\n",
       "      <td>6079.00000</td>\n",
       "      <td>1.000000</td>\n",
       "      <td>24606.000000</td>\n",
       "      <td>10.000000</td>\n",
       "      <td>10.000000</td>\n",
       "      <td>12.000000</td>\n",
       "      <td>NaN</td>\n",
       "      <td>NaN</td>\n",
       "      <td>NaN</td>\n",
       "      <td>NaN</td>\n",
       "      <td>45000.000000</td>\n",
       "      <td>NaN</td>\n",
       "      <td>677.000000</td>\n",
       "      <td>372700.000000</td>\n",
       "    </tr>\n",
       "  </tbody>\n",
       "</table>\n",
       "</div>"
      ],
      "text/plain": [
       "        Unnamed: 0         city          area        rooms     bathroom  \\\n",
       "count   6080.00000  6080.000000   6080.000000  6080.000000  6080.000000   \n",
       "unique         NaN          NaN           NaN          NaN          NaN   \n",
       "top            NaN          NaN           NaN          NaN          NaN   \n",
       "freq           NaN          NaN           NaN          NaN          NaN   \n",
       "mean    3039.50000     0.863322    151.143914     2.492599     2.341612   \n",
       "std     1755.28915     0.343535    375.559485     1.129665     1.438860   \n",
       "min        0.00000     0.000000     10.000000     1.000000     1.000000   \n",
       "25%     1519.75000     1.000000     58.000000     2.000000     1.000000   \n",
       "50%     3039.50000     1.000000    100.000000     3.000000     2.000000   \n",
       "75%     4559.25000     1.000000    200.000000     3.000000     3.000000   \n",
       "max     6079.00000     1.000000  24606.000000    10.000000    10.000000   \n",
       "\n",
       "        parking spaces floor animal      furniture   hoa   rent amount  \\\n",
       "count      6080.000000  6080   6080           6080  6080   6080.000000   \n",
       "unique             NaN    37      2              2  1292           NaN   \n",
       "top                NaN     -  acept  not furnished     0           NaN   \n",
       "freq               NaN  1555   4666           4498  1291           NaN   \n",
       "mean          1.756250   NaN    NaN            NaN   NaN   4395.844408   \n",
       "std           1.611909   NaN    NaN            NaN   NaN   3576.668946   \n",
       "min           0.000000   NaN    NaN            NaN   NaN    420.000000   \n",
       "25%           1.000000   NaN    NaN            NaN   NaN   1800.000000   \n",
       "50%           1.000000   NaN    NaN            NaN   NaN   3111.000000   \n",
       "75%           2.000000   NaN    NaN            NaN   NaN   5952.500000   \n",
       "max          12.000000   NaN    NaN            NaN   NaN  45000.000000   \n",
       "\n",
       "       property tax  fire insurance          total  \n",
       "count          6080     6080.000000    6080.000000  \n",
       "unique         1036             NaN            NaN  \n",
       "top               0             NaN            NaN  \n",
       "freq           1053             NaN            NaN  \n",
       "mean            NaN       58.204276    6033.194572  \n",
       "std             NaN       49.313441    8751.347700  \n",
       "min             NaN        3.000000     660.000000  \n",
       "25%             NaN       23.000000    2451.500000  \n",
       "50%             NaN       41.000000    4128.500000  \n",
       "75%             NaN       77.000000    8074.000000  \n",
       "max             NaN      677.000000  372700.000000  "
      ]
     },
     "execution_count": 297,
     "metadata": {},
     "output_type": "execute_result"
    }
   ],
   "source": [
    "df.describe(include= 'all')"
   ]
  },
  {
   "cell_type": "markdown",
   "metadata": {},
   "source": [
    "Crear una nueva base de datos solo con los datos numéricos (float e int), revisar\n",
    "si alguna columna tiende datos tipo Objeto que deberían ser de tipo int o float"
   ]
  },
  {
   "cell_type": "code",
   "execution_count": 298,
   "metadata": {},
   "outputs": [
    {
     "data": {
      "text/plain": [
       "Unnamed: 0        int64\n",
       "city              int64\n",
       "area              int64\n",
       "rooms             int64\n",
       "bathroom          int64\n",
       "parking spaces    int64\n",
       "floor             int32\n",
       "rent amount       int64\n",
       "property tax      int32\n",
       "fire insurance    int64\n",
       "total             int64\n",
       "dtype: object"
      ]
     },
     "execution_count": 298,
     "metadata": {},
     "output_type": "execute_result"
    }
   ],
   "source": [
    "df.dropna()\n",
    "\n",
    "#La columna floor deberia ser de tipo entero, solo el valor '-' puede ser reemplazado por '0'\n",
    "df['floor'] = df['floor'].replace('-', '0')\n",
    "df['property tax'] = df['property tax'].replace('Incluso', '0')\n",
    "\n",
    "#Obtener solo los valores enteros o flotantes\n",
    "df['floor'] = df['floor'].astype(int)\n",
    "df['property tax'] = df['property tax'].astype(int)\n",
    "\n",
    "df_new = df.select_dtypes(include = ['float', 'integer'])\n",
    "\n",
    "#Tipos de los nuevos datos numericos -  Validación\n",
    "df_new.dtypes\n"
   ]
  },
  {
   "cell_type": "markdown",
   "metadata": {},
   "source": [
    "Guardar la BD con el nombre : baseDatosNueva.csv (no debe contener los\n",
    "índices)"
   ]
  },
  {
   "cell_type": "code",
   "execution_count": 299,
   "metadata": {},
   "outputs": [],
   "source": [
    "#Crear la ruta de salida\n",
    "ruta_salida = 'Data' + '/' + 'baseDatosNueva.csv'\n",
    "df_new = df_new.drop(df_new.columns[0], axis=1)\n",
    "df_new\n",
    "#Exportar\n",
    "df_new.to_csv(ruta_salida)"
   ]
  },
  {
   "cell_type": "markdown",
   "metadata": {},
   "source": [
    "Cargar baseDatosNueva.csv e calcular por cada columna, la cantidad de datos\n",
    "que hay, el máximo, mínimo, la suma de los datos por columna"
   ]
  },
  {
   "cell_type": "code",
   "execution_count": 300,
   "metadata": {},
   "outputs": [
    {
     "data": {
      "text/html": [
       "<div>\n",
       "<style scoped>\n",
       "    .dataframe tbody tr th:only-of-type {\n",
       "        vertical-align: middle;\n",
       "    }\n",
       "\n",
       "    .dataframe tbody tr th {\n",
       "        vertical-align: top;\n",
       "    }\n",
       "\n",
       "    .dataframe thead th {\n",
       "        text-align: right;\n",
       "    }\n",
       "</style>\n",
       "<table border=\"1\" class=\"dataframe\">\n",
       "  <thead>\n",
       "    <tr style=\"text-align: right;\">\n",
       "      <th></th>\n",
       "      <th>Unnamed: 0</th>\n",
       "      <th>city</th>\n",
       "      <th>area</th>\n",
       "      <th>rooms</th>\n",
       "      <th>bathroom</th>\n",
       "      <th>parking spaces</th>\n",
       "      <th>floor</th>\n",
       "      <th>rent amount</th>\n",
       "      <th>property tax</th>\n",
       "      <th>fire insurance</th>\n",
       "      <th>total</th>\n",
       "    </tr>\n",
       "  </thead>\n",
       "  <tbody>\n",
       "    <tr>\n",
       "      <th>count</th>\n",
       "      <td>6080.0</td>\n",
       "      <td>6080.0</td>\n",
       "      <td>6080.0</td>\n",
       "      <td>6080.0</td>\n",
       "      <td>6080.0</td>\n",
       "      <td>6080.0</td>\n",
       "      <td>6080.0</td>\n",
       "      <td>6080.0</td>\n",
       "      <td>6080.0</td>\n",
       "      <td>6080.0</td>\n",
       "      <td>6080.0</td>\n",
       "    </tr>\n",
       "    <tr>\n",
       "      <th>min</th>\n",
       "      <td>0.0</td>\n",
       "      <td>0.0</td>\n",
       "      <td>10.0</td>\n",
       "      <td>1.0</td>\n",
       "      <td>1.0</td>\n",
       "      <td>0.0</td>\n",
       "      <td>0.0</td>\n",
       "      <td>420.0</td>\n",
       "      <td>0.0</td>\n",
       "      <td>3.0</td>\n",
       "      <td>660.0</td>\n",
       "    </tr>\n",
       "    <tr>\n",
       "      <th>max</th>\n",
       "      <td>6079.0</td>\n",
       "      <td>1.0</td>\n",
       "      <td>24606.0</td>\n",
       "      <td>10.0</td>\n",
       "      <td>10.0</td>\n",
       "      <td>12.0</td>\n",
       "      <td>99.0</td>\n",
       "      <td>45000.0</td>\n",
       "      <td>366300.0</td>\n",
       "      <td>677.0</td>\n",
       "      <td>372700.0</td>\n",
       "    </tr>\n",
       "  </tbody>\n",
       "</table>\n",
       "</div>"
      ],
      "text/plain": [
       "       Unnamed: 0    city     area   rooms  bathroom  parking spaces   floor  \\\n",
       "count      6080.0  6080.0   6080.0  6080.0    6080.0          6080.0  6080.0   \n",
       "min           0.0     0.0     10.0     1.0       1.0             0.0     0.0   \n",
       "max        6079.0     1.0  24606.0    10.0      10.0            12.0    99.0   \n",
       "\n",
       "       rent amount  property tax  fire insurance     total  \n",
       "count       6080.0        6080.0          6080.0    6080.0  \n",
       "min          420.0           0.0             3.0     660.0  \n",
       "max        45000.0      366300.0           677.0  372700.0  "
      ]
     },
     "execution_count": 300,
     "metadata": {},
     "output_type": "execute_result"
    }
   ],
   "source": [
    "df_B_new = pd.read_csv('Data/baseDatosNueva.csv')\n",
    "\n",
    "df_B_new.describe().loc[['count', 'min', 'max']]\n"
   ]
  },
  {
   "cell_type": "markdown",
   "metadata": {},
   "source": [
    "Dibujar un scatter plot de la relación entre cantidad de “rooms” vs “area” y “rent\n",
    "amount” vs property tax."
   ]
  },
  {
   "cell_type": "code",
   "execution_count": 301,
   "metadata": {},
   "outputs": [
    {
     "data": {
      "text/plain": [
       "<AxesSubplot:xlabel='rent amount', ylabel='property tax'>"
      ]
     },
     "execution_count": 301,
     "metadata": {},
     "output_type": "execute_result"
    },
    {
     "data": {
      "image/png": "[encoded data removed]",
      "text/plain": [
       "<Figure size 432x288 with 1 Axes>"
      ]
     },
     "metadata": {
      "needs_background": "light"
     },
     "output_type": "display_data"
    },
    {
     "data": {
      "image/png": "[encoded data removed]",
      "text/plain": [
       "<Figure size 432x288 with 1 Axes>"
      ]
     },
     "metadata": {
      "needs_background": "light"
     },
     "output_type": "display_data"
    }
   ],
   "source": [
    "\n",
    "df_B_new.plot.scatter(x = 'rooms', y = 'area')\n",
    "df_B_new.plot.scatter(x = 'rent amount', y = 'property tax')"
   ]
  },
  {
   "cell_type": "markdown",
   "metadata": {},
   "source": [
    "Calcular el valor medio de cada columna. Con las columnas en posición par\n",
    "sumar el valor medio y en posición impar restar el valor medio, actualizar los\n",
    "valores de la columna (no realizar este proceso con la columna “total”)."
   ]
  },
  {
   "cell_type": "code",
   "execution_count": 302,
   "metadata": {},
   "outputs": [],
   "source": [
    "df_B_new.median()\n",
    "\n",
    "df_B_new_not_total = df_B_new.iloc[:, :-1]\n",
    "\n",
    "columnas_pares = df_B_new_not_total.columns[::2] \n",
    "media_columnas_pares = df_B_new_not_total[columnas_pares].mean()  # Calcular la media de esas columnas\n",
    "df_B_new[columnas_pares] = df_B_new_not_total[columnas_pares] + media_columnas_pares\n",
    "\n",
    "columnas_impares = df_B_new_not_total.columns[1::2] \n",
    "media_columnas_impares = df_B_new_not_total[columnas_impares].mean()  # Calcular la media de esas columnas\n",
    "df_B_new[columnas_impares] = df_B_new_not_total[columnas_impares] - media_columnas_impares\n"
   ]
  },
  {
   "cell_type": "markdown",
   "metadata": {},
   "source": [
    "La columna “total”, se actualizará de la siguiente manera, calcular el maximo y\n",
    "minimo para calcular la diferencia entre ellos (diff=máximo - mínimo) y dividir\n",
    "entre 3 (a = diff/3), de tal forma que se tiene los siguientes intervalos: [min,\n",
    "min+a, min 2*a, max], por lo tanto los valores de la columna “total” que se\n",
    "encuentran entre el [min, min+a], se cambian por 1, los que están entre [min +a,\n",
    "min +2a], por 2 y los que quedan cambian por 3 ([x,y], mayor igual a x, menor\n",
    "que y )."
   ]
  },
  {
   "cell_type": "code",
   "execution_count": 308,
   "metadata": {},
   "outputs": [
    {
     "name": "stderr",
     "output_type": "stream",
     "text": [
      "C:\\Users\\DELL\\AppData\\Local\\Temp/ipykernel_5936/2397944541.py:9: SettingWithCopyWarning: \n",
      "A value is trying to be set on a copy of a slice from a DataFrame\n",
      "\n",
      "See the caveats in the documentation: https://pandas.pydata.org/pandas-docs/stable/user_guide/indexing.html#returning-a-view-versus-a-copy\n",
      "  df_total_1 = df_total[(min <= df_total) & (df_total <= min+a)] = 1\n",
      "C:\\Users\\DELL\\AppData\\Local\\Temp/ipykernel_5936/2397944541.py:10: SettingWithCopyWarning: \n",
      "A value is trying to be set on a copy of a slice from a DataFrame\n",
      "\n",
      "See the caveats in the documentation: https://pandas.pydata.org/pandas-docs/stable/user_guide/indexing.html#returning-a-view-versus-a-copy\n",
      "  df_total_2 = df_total[(min +a <= df_total) & (df_total <= min + 2*a)] = 2\n"
     ]
    }
   ],
   "source": [
    "df_total = df_B_new.iloc[:,-1]\n",
    "#dif = df_total.min\n",
    "min = df_total.min()\n",
    "max = df_total.max()\n",
    "dif = max-min \n",
    "a = (dif)/3\n",
    "\n",
    "#df_total[not (min < df_total < min+a) & (min +a < df_total < min + 2*a)] = 3\n",
    "df_total_1 = df_total[(min <= df_total) & (df_total <= min+a)] = 1\n",
    "df_total_2 = df_total[(min +a <= df_total) & (df_total <= min + 2*a)] = 2\n",
    "\n",
    "df_total[df_total_1]\n",
    "df_total[df_total_2]\n"
   ]
  },
  {
   "cell_type": "markdown",
   "metadata": {},
   "source": [
    "**Guardar la base de datos con otro nombre.**"
   ]
  },
  {
   "cell_type": "code",
   "execution_count": null,
   "metadata": {},
   "outputs": [
    {
     "data": {
      "text/plain": [
       "Unnamed: 0        int64\n",
       "city              int64\n",
       "area              int64\n",
       "rooms             int64\n",
       "bathroom          int64\n",
       "parking spaces    int64\n",
       "floor             int32\n",
       "rent amount       int64\n",
       "property tax      int32\n",
       "fire insurance    int64\n",
       "total             int64\n",
       "dtype: object"
      ]
     },
     "metadata": {},
     "output_type": "display_data"
    }
   ],
   "source": [
    "ruta_b_salida = 'Data' + '/' + 'baseDatosNueva1.csv'\n",
    "#Exportar\n",
    "df_B_new.to_csv(ruta_b_salida)\n"
   ]
  },
  {
   "cell_type": "markdown",
   "metadata": {},
   "source": [
    "Por otro lado, solo con la primera columna de baseDatosNueva.csv , realizar lo\n",
    "siguiente (numpy):"
   ]
  },
  {
   "cell_type": "markdown",
   "metadata": {},
   "source": [
    "+ Indicar la cantidad de elementos,\n",
    "\n",
    "\n"
   ]
  },
  {
   "cell_type": "code",
   "execution_count": 311,
   "metadata": {},
   "outputs": [],
   "source": [
    "#df_B_new_1 = pd.read_csv('Data/baseDatosNueva.csv')\n",
    "df_B_new_col_1 = df_B_new.iloc[:,0]\n"
   ]
  },
  {
   "cell_type": "markdown",
   "metadata": {},
   "source": [
    "+ Guardar los primeros 100 elementos en un arreglo de tipo ndarray.\n"
   ]
  },
  {
   "cell_type": "code",
   "execution_count": 312,
   "metadata": {},
   "outputs": [
    {
     "name": "stdout",
     "output_type": "stream",
     "text": [
      "[3039.5 3040.5 3041.5 3042.5 3043.5 3044.5 3045.5 3046.5 3047.5 3048.5\n",
      " 3049.5 3050.5 3051.5 3052.5 3053.5 3054.5 3055.5 3056.5 3057.5 3058.5\n",
      " 3059.5 3060.5 3061.5 3062.5 3063.5 3064.5 3065.5 3066.5 3067.5 3068.5\n",
      " 3069.5 3070.5 3071.5 3072.5 3073.5 3074.5 3075.5 3076.5 3077.5 3078.5\n",
      " 3079.5 3080.5 3081.5 3082.5 3083.5 3084.5 3085.5 3086.5 3087.5 3088.5\n",
      " 3089.5 3090.5 3091.5 3092.5 3093.5 3094.5 3095.5 3096.5 3097.5 3098.5\n",
      " 3099.5 3100.5 3101.5 3102.5 3103.5 3104.5 3105.5 3106.5 3107.5 3108.5\n",
      " 3109.5 3110.5 3111.5 3112.5 3113.5 3114.5 3115.5 3116.5 3117.5 3118.5\n",
      " 3119.5 3120.5 3121.5 3122.5 3123.5 3124.5 3125.5 3126.5 3127.5 3128.5\n",
      " 3129.5 3130.5 3131.5 3132.5 3133.5 3134.5 3135.5 3136.5 3137.5 3138.5]\n"
     ]
    }
   ],
   "source": [
    "selected_data = df_B_new_col_1.iloc[:100].values\n",
    "print(selected_data)"
   ]
  },
  {
   "cell_type": "markdown",
   "metadata": {},
   "source": [
    "+ Calcular la suma de los mismos\n"
   ]
  },
  {
   "cell_type": "code",
   "execution_count": 315,
   "metadata": {},
   "outputs": [
    {
     "data": {
      "text/plain": [
       "308900.0"
      ]
     },
     "execution_count": 315,
     "metadata": {},
     "output_type": "execute_result"
    }
   ],
   "source": [
    "sum_of_elements = np.sum(selected_data)\n",
    "sum_of_elements"
   ]
  },
  {
   "cell_type": "markdown",
   "metadata": {},
   "source": [
    "+ Calcular el promedio.\n"
   ]
  },
  {
   "cell_type": "code",
   "execution_count": 316,
   "metadata": {},
   "outputs": [
    {
     "data": {
      "text/plain": [
       "3089.0"
      ]
     },
     "execution_count": 316,
     "metadata": {},
     "output_type": "execute_result"
    }
   ],
   "source": [
    "mean_of_elements = np.mean(selected_data)\n",
    "mean_of_elements"
   ]
  },
  {
   "cell_type": "markdown",
   "metadata": {},
   "source": [
    "+ Indicar en qué posición o posiciones están los elementos maximos y minimos (devolver las posiciones en una lista)"
   ]
  },
  {
   "cell_type": "code",
   "execution_count": 319,
   "metadata": {},
   "outputs": [
    {
     "name": "stdout",
     "output_type": "stream",
     "text": [
      "Posición del máximo: 99\n",
      "Posición del mínimo: 0\n"
     ]
    }
   ],
   "source": [
    "indice_maximo = np.argmax(selected_data)\n",
    "indice_minimo = np.argmin(selected_data)\n",
    "\n",
    "# Imprimir los resultados\n",
    "print(\"Posición del máximo:\", indice_maximo)\n",
    "print(\"Posición del mínimo:\", indice_minimo)"
   ]
  }
 ],
 "metadata": {
  "kernelspec": {
   "display_name": "base",
   "language": "python",
   "name": "python3"
  },
  "language_info": {
   "codemirror_mode": {
    "name": "ipython",
    "version": 3
   },
   "file_extension": ".py",
   "mimetype": "text/x-python",
   "name": "python",
   "nbconvert_exporter": "python",
   "pygments_lexer": "ipython3",
   "version": "3.9.7"
  },
  "orig_nbformat": 4
 },
 "nbformat": 4,
 "nbformat_minor": 2
}
