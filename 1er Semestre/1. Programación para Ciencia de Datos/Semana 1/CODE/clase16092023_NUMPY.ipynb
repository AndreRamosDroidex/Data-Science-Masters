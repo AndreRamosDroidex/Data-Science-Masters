{
 "cells": [
  {
   "cell_type": "markdown",
   "metadata": {},
   "source": [
    "\n",
    "#-------------------------------------------------------------------------------------\n",
    "#-------------------------- PROGRAMACION ORIENTADA A OBJETOS -------------------------\n",
    "#-------------------------------------------------------------------------------------"
   ]
  },
  {
   "cell_type": "code",
   "execution_count": 1,
   "metadata": {},
   "outputs": [
    {
     "name": "stdout",
     "output_type": "stream",
     "text": [
      "[13 14 15 16 17]\n"
     ]
    }
   ],
   "source": [
    "import numpy as np\n",
    "\n",
    "numeros  = np.array([10, 11, 12, 13, 14, 15, 16, 17, 18, 19])\n",
    "print(numeros[3:8])"
   ]
  },
  {
   "cell_type": "code",
   "execution_count": 12,
   "metadata": {},
   "outputs": [
    {
     "name": "stdout",
     "output_type": "stream",
     "text": [
      "0.0\n",
      "(4, 4)\n"
     ]
    }
   ],
   "source": [
    "#-------------------------------------------------------------------------------------\n",
    "#----- MATRIZ DE CEROS ---------------------------------------------------------------\n",
    "\n",
    "X = np.zeros([4,4])\n",
    "print(X[0][1])\n",
    "print(X.shape)\n"
   ]
  },
  {
   "cell_type": "code",
   "execution_count": 20,
   "metadata": {},
   "outputs": [
    {
     "name": "stdout",
     "output_type": "stream",
     "text": [
      "[[0. 0. 0. 0. 0. 0.]\n",
      " [0. 0. 0. 0. 0. 0.]\n",
      " [0. 0. 0. 0. 0. 0.]\n",
      " [0. 0. 0. 0. 0. 0.]]\n",
      "[[1. 1. 1. 1. 1. 1.]\n",
      " [1. 1. 1. 1. 1. 1.]\n",
      " [1. 1. 1. 1. 1. 1.]\n",
      " [1. 1. 1. 1. 1. 1.]]\n",
      "[[1. 1. 1. 1. 1. 1.]\n",
      " [1. 1. 1. 1. 1. 1.]\n",
      " [1. 1. 1. 1. 1. 1.]\n",
      " [1. 1. 1. 1. 1. 1.]]\n"
     ]
    }
   ],
   "source": [
    "#----- MATRIZ DE CEROS - VACIOS - 1'S--------------------------------------------------------------\n",
    "\n",
    "x = np.zeros([4,6])\n",
    "print(x)\n",
    "x = np.ones([4,6])\n",
    "print(x)\n",
    "x = np.empty([4,6])\n",
    "print(x)\n",
    "\n"
   ]
  },
  {
   "cell_type": "code",
   "execution_count": 21,
   "metadata": {},
   "outputs": [
    {
     "name": "stdout",
     "output_type": "stream",
     "text": [
      "[[ 1  2  3  5]\n",
      " [ 7  8  9 10]]\n"
     ]
    }
   ],
   "source": [
    "#----- MATRIZ RANDOM-------------------------------------------------------------\n",
    "\n",
    "x = np.random.rand(2,3)\n",
    "print(X)\n"
   ]
  },
  {
   "cell_type": "code",
   "execution_count": 18,
   "metadata": {},
   "outputs": [
    {
     "name": "stdout",
     "output_type": "stream",
     "text": [
      "x= \n",
      " [[ 1  2  3  5]\n",
      " [ 7  8  9 10]]\n",
      "[[8 9]]\n"
     ]
    }
   ],
   "source": [
    "#-------------------------------------------------------------------------------------\n",
    "#----- MATRIZ RECORRIDO ---------------------------------------------------------------\n",
    "\n",
    "X = np.array([[1,2,3,5], [7,8,9,10]])\n",
    "print('x= \\n', X)\n",
    "print(X[1:,1:3])\n"
   ]
  },
  {
   "cell_type": "code",
   "execution_count": 25,
   "metadata": {},
   "outputs": [
    {
     "name": "stdout",
     "output_type": "stream",
     "text": [
      "[[-2  3]\n",
      " [ 1  2]\n",
      " [ 8 19]]\n",
      "[[  4  -3]\n",
      " [ -3   2]\n",
      " [ -6 -13]]\n",
      "[[-3  0]\n",
      " [-2  0]\n",
      " [ 7 48]]\n",
      "[[-0.33333333  0.        ]\n",
      " [-0.5                inf]\n",
      " [ 0.14285714  0.1875    ]]\n",
      "[[-2  3]\n",
      " [ 1  2]\n",
      " [ 8 19]]\n"
     ]
    },
    {
     "name": "stderr",
     "output_type": "stream",
     "text": [
      "C:\\Users\\DELL\\AppData\\Local\\Temp/ipykernel_23048/424217331.py:12: RuntimeWarning: divide by zero encountered in true_divide\n",
      "  print(a / b)\n"
     ]
    }
   ],
   "source": [
    "#----- EJERCICIO ---------------------------------------------------------------¨\n",
    "a = np.array([ [1, 0], \n",
    "               [-1, 2], \n",
    "               [1,3] ])\n",
    "b = np.array([ [-3, 3], \n",
    "               [2, 0], \n",
    "               [7, 16] ])\n",
    "#x =  np.array()\n",
    "print(a + b)\n",
    "print(a - b)\n",
    "print(a * b)\n",
    "print(a / b)\n",
    "\n",
    "#----- funciones existentes ---------------------------------------------------------------¨\n",
    "\n",
    "\n",
    "print(np.add(a,b))\n",
    "print(np.subtract(a,b))\n",
    "#etc"
   ]
  },
  {
   "cell_type": "code",
   "execution_count": 26,
   "metadata": {},
   "outputs": [
    {
     "name": "stdout",
     "output_type": "stream",
     "text": [
      "[[-3  3  5]\n",
      " [ 7 -3  9]\n",
      " [ 3  3 26]]\n"
     ]
    }
   ],
   "source": [
    "#-----------------------------------------------------------------------------------------------\n",
    "#----- MULTIPLICACION DE MATRICES---------------------------------------------------------------\n",
    "\n",
    "a = np.array([ [1, 0], \n",
    "               [-1, 2], \n",
    "               [1,3] ])\n",
    "b = np.array([ [-3, 3, 5], \n",
    "               [2, 0, 7] ])\n",
    "#x =  np.array()\n",
    "print(a@b)"
   ]
  },
  {
   "cell_type": "code",
   "execution_count": null,
   "metadata": {},
   "outputs": [],
   "source": [
    "#----- MATRICES - TRANSPIESTA ---------------------------------------------------------------¨\n"
   ]
  },
  {
   "cell_type": "code",
   "execution_count": 27,
   "metadata": {},
   "outputs": [
    {
     "name": "stdout",
     "output_type": "stream",
     "text": [
      "[[2 3]\n",
      " [4 5]]\n"
     ]
    }
   ],
   "source": [
    "#----- MATRICES - REHSAPE ---------------------------------------------------------------¨\n",
    "x = np.array([2, 3, 4, 5])\n",
    "x = x.reshape(2,2)\n",
    "print(x)"
   ]
  },
  {
   "cell_type": "code",
   "execution_count": 28,
   "metadata": {},
   "outputs": [
    {
     "name": "stdout",
     "output_type": "stream",
     "text": [
      "[array([False, False,  True,  True,  True,  True])]\n"
     ]
    }
   ],
   "source": [
    "#----- MATRICES - INDEXACION BOOLEANA ---------------------------------------------------------------¨\n",
    "X = np.array([3,4,5,5,7,7])\n",
    "mask = [ X > 4]\n",
    "print(mask)"
   ]
  },
  {
   "cell_type": "code",
   "execution_count": 7,
   "metadata": {},
   "outputs": [
    {
     "name": "stdout",
     "output_type": "stream",
     "text": [
      "[array([False, False,  True,  True,  True,  True])]\n"
     ]
    }
   ],
   "source": [
    "#----- MATRICES - ALEATORIOS ---------------------------------------------------------------¨\n",
    "X = np.array([3,4,5,5,7,7])\n",
    "mask = [ X > 4]\n",
    "print(mask)"
   ]
  },
  {
   "cell_type": "code",
   "execution_count": 8,
   "metadata": {},
   "outputs": [
    {
     "name": "stdout",
     "output_type": "stream",
     "text": [
      "[[0.08178563 0.21763718 0.49819745 0.25310871 0.77072092 0.44171487\n",
      "  0.61801385 0.27106092 0.55480675 0.48584474 0.38157879 0.34748024\n",
      "  0.23484592 0.26171189 0.04572195 0.45587936 0.34650498 0.57135442\n",
      "  0.8524391  0.30843169 0.13837061 0.12692398 0.41887031 0.70039829\n",
      "  0.51954409 0.99671107 0.41674791 0.32036659 0.26940641 0.08927312]]\n",
      "[[0.08178563]\n",
      " [0.21763718]\n",
      " [0.49819745]\n",
      " [0.25310871]\n",
      " [0.77072092]\n",
      " [0.44171487]\n",
      " [0.61801385]\n",
      " [0.27106092]\n",
      " [0.55480675]\n",
      " [0.48584474]\n",
      " [0.38157879]\n",
      " [0.34748024]\n",
      " [0.23484592]\n",
      " [0.26171189]\n",
      " [0.04572195]\n",
      " [0.45587936]\n",
      " [0.34650498]\n",
      " [0.57135442]\n",
      " [0.8524391 ]\n",
      " [0.30843169]\n",
      " [0.13837061]\n",
      " [0.12692398]\n",
      " [0.41887031]\n",
      " [0.70039829]\n",
      " [0.51954409]\n",
      " [0.99671107]\n",
      " [0.41674791]\n",
      " [0.32036659]\n",
      " [0.26940641]\n",
      " [0.08927312]]\n",
      "[[0.02219576 0.15159859 0.65341854 0.45347582]\n",
      " [0.06472407 0.13548484 0.08828444 0.39463553]\n",
      " [0.53988807 0.68575149 0.76088504 0.97848644]\n",
      " [0.59035769 0.72761601 0.47763907 0.60358455]]\n",
      "[[1.         0.82838513 0.40991359 0.94594786 0.81463246 0.08513864]\n",
      " [0.26875618 1.         0.1012296  0.04159361 0.37157307 0.81564569]\n",
      " [0.06482639 0.0543722  1.         0.79968397 0.60058704 0.25564422]\n",
      " [0.19254524 0.64523855 0.78367074 1.         0.96636855 0.06299852]\n",
      " [0.43320653 0.29216475 0.26014007 0.86011992 1.         0.09527419]\n",
      " [0.86118749 0.47050648 0.10025313 0.01140254 0.13523814 1.        ]]\n"
     ]
    }
   ],
   "source": [
    "#----- EJERCICIOS---------------------------------------------------------------¨\n",
    "#-- EJERCICIOS 1 ---------------------------------------------------------------\n",
    "\n",
    "x = np.random.rand(1,30)\n",
    "print(x)\n",
    "\n",
    "#-- EJERCICIOS 2 ---------------------------------------------------------------\n",
    "x = np.transpose(x)\n",
    "print(x)\n",
    "\n",
    "#-- EJERCICIOS 3 ---------------------------------------------------------------\n",
    "x1 = np.random.rand(4, 4)\n",
    "print(x1)\n",
    "\n"
   ]
  },
  {
   "cell_type": "code",
   "execution_count": 17,
   "metadata": {},
   "outputs": [
    {
     "name": "stdout",
     "output_type": "stream",
     "text": [
      "[[1.         0.08319718 0.43670186 0.28870243 0.0567126  0.66754575]\n",
      " [0.04814353 1.         0.88774962 0.6637426  0.42762492 0.8112929 ]\n",
      " [0.43050254 0.89438994 1.         0.06250028 0.62647859 0.37987811]\n",
      " [0.033798   0.47478536 0.91277604 1.         0.30765826 0.36834273]\n",
      " [0.76985559 0.5846149  0.7713546  0.60862356 1.         0.60119873]\n",
      " [0.35748124 0.67084789 0.89390905 0.35145012 0.68365422 1.        ]]\n",
      "[[0.22114683 0.3077234  0.250239   0.95238864 0.06277806 1.        ]\n",
      " [0.86825788 0.72488361 0.78312206 0.80476974 1.         0.85628379]\n",
      " [0.13512515 0.17194167 0.33505587 1.         0.40021264 0.310956  ]\n",
      " [0.71921569 0.06091427 1.         0.9263774  0.4600326  0.63363191]\n",
      " [0.50572953 1.         0.92248039 0.49250188 0.58201449 0.98178343]\n",
      " [1.         0.52844163 0.1960344  0.29298557 0.02722534 0.13749295]]\n"
     ]
    }
   ],
   "source": [
    "\n",
    "#-- EJERCICIOS 4 ---------------------------------------------------------------\n",
    "'''\n",
    "6,6\n",
    "diagonal 1\n",
    "A\n",
    "\n",
    "6,6\n",
    "diagonal 2\n",
    "B\n",
    "'''\n",
    "\n",
    "A = np.random.rand(6, 6)\n",
    "B = np.random.rand(6, 6)\n",
    "\n",
    "for x in range(len(A)):\n",
    "    for y in range(len(A[x])):\n",
    "        if x == y:\n",
    "            A[x][y]=1\n",
    "\n",
    "print(A)\n",
    "\n",
    "for x in range(len(B)):\n",
    "    for y in range(len(B[x])):\n",
    "        if x + y == len(B[x])-1:\n",
    "            B[x][y]=1\n",
    "#B = np.transpose(A)\n",
    "\n",
    "print(B)\n"
   ]
  },
  {
   "cell_type": "code",
   "execution_count": 52,
   "metadata": {},
   "outputs": [
    {
     "name": "stdout",
     "output_type": "stream",
     "text": [
      "[[5 3 5 4 4 0]\n",
      " [4 3 1 5 3 4]\n",
      " [5 1 3 3 1 4]\n",
      " [1 4 1 3 2 1]\n",
      " [0 2 2 5 1 2]\n",
      " [3 2 1 2 3 3]] \n",
      "\n",
      "[[0 5 4 2 3 2]\n",
      " [2 5 5 5 1 4]\n",
      " [2 1 4 2 4 3]\n",
      " [5 5 3 2 4 1]\n",
      " [5 0 0 0 5 1]\n",
      " [1 5 2 0 0 2]] \n",
      "\n",
      "[array([[False, False, False, False, False, False],\n",
      "       [False, False, False,  True, False,  True],\n",
      "       [False,  True, False, False, False, False],\n",
      "       [False, False, False, False, False,  True],\n",
      "       [False, False, False, False, False, False],\n",
      "       [False, False, False, False, False, False]])] \n",
      "\n"
     ]
    }
   ],
   "source": [
    "A1 = np.random.randint(6, size=(6,6))\n",
    "B1 = np.random.randint(6, size=(6,6))\n",
    "\n",
    "mask = [A1 == B1]\n",
    "\n",
    "print(A1, '\\n')\n",
    "print(B1, '\\n')\n",
    "print([A1 == B1], '\\n')\n",
    "\n"
   ]
  },
  {
   "cell_type": "code",
   "execution_count": 44,
   "metadata": {},
   "outputs": [
    {
     "name": "stdout",
     "output_type": "stream",
     "text": [
      "[[3 0 4 5 1 1]\n",
      " [4 3 3 2 2 5]\n",
      " [1 0 1 0 5 0]\n",
      " [5 0 4 4 5 5]\n",
      " [4 2 0 1 5 2]\n",
      " [5 3 3 0 1 5]]\n",
      "[14, 19, 7, 23, 14, 17]\n"
     ]
    }
   ],
   "source": [
    "#-- 6\n",
    "A1 = np.random.randint(6, size=(6,6))\n",
    "arr_suma = []\n",
    "print(A1)\n",
    "'''\n",
    "mask = np.array([len(A1[0]), 1])\n",
    "for x in range(len(A1)):\n",
    "    for y in range(len(A1[x])):\n",
    "        acum = acum + A1[x][y]\n",
    "    mask[0][x] = acum\n",
    "    acum = 0\n",
    "print(mask) \n",
    "'''\n",
    "#mask = np.array([len(A1[0]), 1])\n",
    "for x in range(len(A1)):\n",
    "    suma = sum(A1[x]) \n",
    "    arr_suma.append(suma)\n",
    "print(arr_suma)\n"
   ]
  },
  {
   "cell_type": "code",
   "execution_count": 47,
   "metadata": {},
   "outputs": [
    {
     "name": "stdout",
     "output_type": "stream",
     "text": [
      "[[3 0 4 5 1 1]\n",
      " [4 3 3 2 2 5]\n",
      " [1 0 1 0 5 0]\n",
      " [5 0 4 4 5 5]\n",
      " [4 2 0 1 5 2]\n",
      " [5 3 3 0 1 5]]\n",
      "21\n"
     ]
    }
   ],
   "source": [
    "#-- 7\n",
    "acum=0\n",
    "print(A1)\n",
    "for x in range(len(A1)):\n",
    "    for y in range(len(A1[x])):\n",
    "        if x == y:\n",
    "            acum= acum + A1[x][y]\n",
    "print(acum)\n"
   ]
  },
  {
   "cell_type": "code",
   "execution_count": 48,
   "metadata": {},
   "outputs": [
    {
     "name": "stdout",
     "output_type": "stream",
     "text": [
      "[[3 0 4 5 1 1]\n",
      " [4 3 3 2 2 5]\n",
      " [1 0 1 0 5 0]\n",
      " [5 0 4 4 5 5]\n",
      " [4 2 0 1 5 2]\n",
      " [5 3 3 0 1 5]]\n",
      "[[10  0  4  5  1  1]\n",
      " [10  3  3  2  2  5]\n",
      " [10  0  1  0  5  0]\n",
      " [10  0  4  4  5  5]\n",
      " [10  2  0  1  5  2]\n",
      " [10  3  3  0  1  5]]\n"
     ]
    }
   ],
   "source": [
    "#-- 8\n",
    "A2 = A1\n",
    "print(A1)\n",
    "for x in range(len(A1)):\n",
    "    for y in range(len(A1[x])):\n",
    "        if y == 0 :\n",
    "             A2[x][y] = 10\n",
    "print(A2)\n"
   ]
  },
  {
   "cell_type": "code",
   "execution_count": 51,
   "metadata": {},
   "outputs": [
    {
     "name": "stdout",
     "output_type": "stream",
     "text": [
      "[[10 10 10 10 10 10]\n",
      " [ 0  3  0  0  2  3]\n",
      " [ 4  3  1  4  0  3]\n",
      " [ 5  2  0  4  1  0]\n",
      " [ 1  2  5  5  5  1]\n",
      " [ 1  5  0  5  2  5]]\n",
      "10   10\n",
      "3   0\n",
      "4   0\n",
      "5   0\n",
      "5   1\n",
      "5   0\n"
     ]
    }
   ],
   "source": [
    "#-- 8\n",
    "A2 = np.transpose( A1 )\n",
    "AR = []\n",
    "print(A2)\n",
    "for x in range(len(A2)):\n",
    "    print(np.max(A2[x]) , ' ', np.min(A2[x]))\n",
    "    #for y in range(len(A1[x])):\n",
    "\n"
   ]
  },
  {
   "cell_type": "markdown",
   "metadata": {},
   "source": [
    "**ejerciciso2**"
   ]
  },
  {
   "cell_type": "code",
   "execution_count": 66,
   "metadata": {},
   "outputs": [
    {
     "name": "stdout",
     "output_type": "stream",
     "text": [
      "Listar cant de veces que parece:\n"
     ]
    },
    {
     "ename": "AttributeError",
     "evalue": "'bool' object has no attribute 'sum'",
     "output_type": "error",
     "traceback": [
      "\u001b[1;31m---------------------------------------------------------------------------\u001b[0m",
      "\u001b[1;31mAttributeError\u001b[0m                            Traceback (most recent call last)",
      "\u001b[1;32m~\\AppData\\Local\\Temp/ipykernel_26504/3672678950.py\u001b[0m in \u001b[0;36m<module>\u001b[1;34m\u001b[0m\n\u001b[0;32m     21\u001b[0m     \u001b[1;33m[\u001b[0m\u001b[1;36m2\u001b[0m\u001b[1;33m,\u001b[0m \u001b[1;36m3\u001b[0m\u001b[1;33m,\u001b[0m \u001b[1;36m2\u001b[0m\u001b[1;33m,\u001b[0m \u001b[1;36m4\u001b[0m\u001b[1;33m,\u001b[0m \u001b[1;36m2\u001b[0m\u001b[1;33m]\u001b[0m\u001b[1;33m,\u001b[0m\u001b[1;33m\u001b[0m\u001b[1;33m\u001b[0m\u001b[0m\n\u001b[0;32m     22\u001b[0m     [1, 2, 3, 4, 1]] \n\u001b[1;32m---> 23\u001b[1;33m \u001b[0mCANT_VECES\u001b[0m\u001b[1;33m(\u001b[0m\u001b[0ma\u001b[0m\u001b[1;33m)\u001b[0m\u001b[1;33m\u001b[0m\u001b[1;33m\u001b[0m\u001b[0m\n\u001b[0m\u001b[0;32m     24\u001b[0m \u001b[1;33m\u001b[0m\u001b[0m\n",
      "\u001b[1;32m~\\AppData\\Local\\Temp/ipykernel_26504/3672678950.py\u001b[0m in \u001b[0;36mCANT_VECES\u001b[1;34m(matriz)\u001b[0m\n\u001b[0;32m      8\u001b[0m             \u001b[1;31m#if not( matriz[x][y] in c_valor):\u001b[0m\u001b[1;33m\u001b[0m\u001b[1;33m\u001b[0m\u001b[0m\n\u001b[0;32m      9\u001b[0m                 \u001b[0mvalor\u001b[0m \u001b[1;33m=\u001b[0m \u001b[0mmatriz\u001b[0m\u001b[1;33m[\u001b[0m\u001b[0mx\u001b[0m\u001b[1;33m]\u001b[0m\u001b[1;33m[\u001b[0m\u001b[0my\u001b[0m\u001b[1;33m]\u001b[0m\u001b[1;33m\u001b[0m\u001b[1;33m\u001b[0m\u001b[0m\n\u001b[1;32m---> 10\u001b[1;33m                 \u001b[0mcantidad\u001b[0m \u001b[1;33m=\u001b[0m \u001b[1;33m(\u001b[0m \u001b[0mmatriz\u001b[0m \u001b[1;33m==\u001b[0m \u001b[0mvalor\u001b[0m\u001b[1;33m)\u001b[0m\u001b[1;33m.\u001b[0m\u001b[0msum\u001b[0m\u001b[1;33m(\u001b[0m\u001b[1;33m)\u001b[0m\u001b[1;33m\u001b[0m\u001b[1;33m\u001b[0m\u001b[0m\n\u001b[0m\u001b[0;32m     11\u001b[0m                 \u001b[1;31m#if not cantidad % 2 == 0:\u001b[0m\u001b[1;33m\u001b[0m\u001b[1;33m\u001b[0m\u001b[0m\n\u001b[0;32m     12\u001b[0m                 \u001b[0mc_valor\u001b[0m\u001b[1;33m.\u001b[0m\u001b[0mappend\u001b[0m\u001b[1;33m(\u001b[0m\u001b[0mmatriz\u001b[0m\u001b[1;33m[\u001b[0m\u001b[0mx\u001b[0m\u001b[1;33m]\u001b[0m\u001b[1;33m[\u001b[0m\u001b[0my\u001b[0m\u001b[1;33m]\u001b[0m\u001b[1;33m)\u001b[0m\u001b[1;33m\u001b[0m\u001b[1;33m\u001b[0m\u001b[0m\n",
      "\u001b[1;31mAttributeError\u001b[0m: 'bool' object has no attribute 'sum'"
     ]
    }
   ],
   "source": [
    "#-3--Cree la función CANT_VECES(matriz)\n",
    "def CANT_VECES(matriz):\n",
    "    c_cantidad = []\n",
    "    c_valor = []\n",
    "    print('Listar cant de veces que parece:')  \n",
    "    for x in range(len(matriz)):\n",
    "        for y in range(len(matriz[x])):\n",
    "            #if not( matriz[x][y] in c_valor):\n",
    "                valor = matriz[x][y]\n",
    "                cantidad = ( matriz == valor).sum()\n",
    "                #if not cantidad % 2 == 0:\n",
    "                c_valor.append(matriz[x][y])\n",
    "                c_cantidad.append(cantidad)\n",
    "                \n",
    "\n",
    "    for z in range(len(c_valor)):\n",
    "        print(c_valor[z], 'aparece ',c_cantidad[z], 'veces')\n",
    "\n",
    "a=[[2, 2, 1, 3, 2], \n",
    "    [3, 4, 2, 2, 1], \n",
    "    [1, 3, 4, 3, 4],\n",
    "    [2, 3, 2, 4, 2],\n",
    "    [1, 2, 3, 4, 1]] \n",
    "CANT_VECES(a)\n",
    "    \n"
   ]
  },
  {
   "cell_type": "code",
   "execution_count": 69,
   "metadata": {},
   "outputs": [
    {
     "name": "stdout",
     "output_type": "stream",
     "text": [
      "[1 2 3]\n",
      "[0 1 3 1]\n"
     ]
    }
   ],
   "source": [
    "#--4\n",
    "a=[[2, 2, 1, 3, 2], \n",
    "    [3, 4, 2, 2, 1], \n",
    "    [1, 3, 4, 3, 4],\n",
    "    [2, 3, 2, 4, 2],\n",
    "    [1, 2, 3, 4, 6]]\n",
    "ls = np.bincount(a)\n",
    "mask = np.unique(a)\n",
    "print(mask)\n",
    "print(ls)"
   ]
  },
  {
   "cell_type": "markdown",
   "metadata": {},
   "source": [
    "**PANDAS**"
   ]
  },
  {
   "cell_type": "code",
   "execution_count": 1,
   "metadata": {},
   "outputs": [
    {
     "data": {
      "text/html": [
       "<div>\n",
       "<style scoped>\n",
       "    .dataframe tbody tr th:only-of-type {\n",
       "        vertical-align: middle;\n",
       "    }\n",
       "\n",
       "    .dataframe tbody tr th {\n",
       "        vertical-align: top;\n",
       "    }\n",
       "\n",
       "    .dataframe thead th {\n",
       "        text-align: right;\n",
       "    }\n",
       "</style>\n",
       "<table border=\"1\" class=\"dataframe\">\n",
       "  <thead>\n",
       "    <tr style=\"text-align: right;\">\n",
       "      <th></th>\n",
       "      <th>RowNumber</th>\n",
       "      <th>CustomerId</th>\n",
       "      <th>Surname</th>\n",
       "      <th>CreditScore</th>\n",
       "      <th>Geography</th>\n",
       "      <th>Gender</th>\n",
       "      <th>Age</th>\n",
       "      <th>Tenure</th>\n",
       "      <th>Balance</th>\n",
       "      <th>NumOfProducts</th>\n",
       "      <th>HasCrCard</th>\n",
       "      <th>IsActiveMember</th>\n",
       "      <th>EstimatedSalary</th>\n",
       "      <th>Exited</th>\n",
       "    </tr>\n",
       "  </thead>\n",
       "  <tbody>\n",
       "    <tr>\n",
       "      <th>0</th>\n",
       "      <td>1</td>\n",
       "      <td>15634602</td>\n",
       "      <td>Hargrave</td>\n",
       "      <td>619</td>\n",
       "      <td>France</td>\n",
       "      <td>Female</td>\n",
       "      <td>42</td>\n",
       "      <td>2</td>\n",
       "      <td>0.00</td>\n",
       "      <td>1</td>\n",
       "      <td>1</td>\n",
       "      <td>1</td>\n",
       "      <td>101348.88</td>\n",
       "      <td>1</td>\n",
       "    </tr>\n",
       "    <tr>\n",
       "      <th>1</th>\n",
       "      <td>2</td>\n",
       "      <td>15647311</td>\n",
       "      <td>Hill</td>\n",
       "      <td>608</td>\n",
       "      <td>Spain</td>\n",
       "      <td>Female</td>\n",
       "      <td>41</td>\n",
       "      <td>1</td>\n",
       "      <td>83807.86</td>\n",
       "      <td>1</td>\n",
       "      <td>0</td>\n",
       "      <td>1</td>\n",
       "      <td>112542.58</td>\n",
       "      <td>0</td>\n",
       "    </tr>\n",
       "    <tr>\n",
       "      <th>2</th>\n",
       "      <td>3</td>\n",
       "      <td>15619304</td>\n",
       "      <td>Onio</td>\n",
       "      <td>502</td>\n",
       "      <td>France</td>\n",
       "      <td>Female</td>\n",
       "      <td>42</td>\n",
       "      <td>8</td>\n",
       "      <td>159660.80</td>\n",
       "      <td>3</td>\n",
       "      <td>1</td>\n",
       "      <td>0</td>\n",
       "      <td>113931.57</td>\n",
       "      <td>1</td>\n",
       "    </tr>\n",
       "    <tr>\n",
       "      <th>3</th>\n",
       "      <td>4</td>\n",
       "      <td>15701354</td>\n",
       "      <td>Boni</td>\n",
       "      <td>699</td>\n",
       "      <td>France</td>\n",
       "      <td>Female</td>\n",
       "      <td>39</td>\n",
       "      <td>1</td>\n",
       "      <td>0.00</td>\n",
       "      <td>2</td>\n",
       "      <td>0</td>\n",
       "      <td>0</td>\n",
       "      <td>93826.63</td>\n",
       "      <td>0</td>\n",
       "    </tr>\n",
       "    <tr>\n",
       "      <th>4</th>\n",
       "      <td>5</td>\n",
       "      <td>15737888</td>\n",
       "      <td>Mitchell</td>\n",
       "      <td>850</td>\n",
       "      <td>Spain</td>\n",
       "      <td>Female</td>\n",
       "      <td>43</td>\n",
       "      <td>2</td>\n",
       "      <td>125510.82</td>\n",
       "      <td>1</td>\n",
       "      <td>1</td>\n",
       "      <td>1</td>\n",
       "      <td>79084.10</td>\n",
       "      <td>0</td>\n",
       "    </tr>\n",
       "  </tbody>\n",
       "</table>\n",
       "</div>"
      ],
      "text/plain": [
       "   RowNumber  CustomerId   Surname  CreditScore Geography  Gender  Age  \\\n",
       "0          1    15634602  Hargrave          619    France  Female   42   \n",
       "1          2    15647311      Hill          608     Spain  Female   41   \n",
       "2          3    15619304      Onio          502    France  Female   42   \n",
       "3          4    15701354      Boni          699    France  Female   39   \n",
       "4          5    15737888  Mitchell          850     Spain  Female   43   \n",
       "\n",
       "   Tenure    Balance  NumOfProducts  HasCrCard  IsActiveMember  \\\n",
       "0       2       0.00              1          1               1   \n",
       "1       1   83807.86              1          0               1   \n",
       "2       8  159660.80              3          1               0   \n",
       "3       1       0.00              2          0               0   \n",
       "4       2  125510.82              1          1               1   \n",
       "\n",
       "   EstimatedSalary  Exited  \n",
       "0        101348.88       1  \n",
       "1        112542.58       0  \n",
       "2        113931.57       1  \n",
       "3         93826.63       0  \n",
       "4         79084.10       0  "
      ]
     },
     "execution_count": 1,
     "metadata": {},
     "output_type": "execute_result"
    }
   ],
   "source": [
    "import pandas as pd\n",
    "\n",
    "df = pd.read_csv('D:/Maestria/1er Semestre/Clases/Code/Data/Churn Modeling.csv')\n",
    "df.head()"
   ]
  },
  {
   "cell_type": "code",
   "execution_count": 2,
   "metadata": {},
   "outputs": [
    {
     "data": {
      "text/plain": [
       "Index(['RowNumber', 'CustomerId', 'Surname', 'CreditScore', 'Geography',\n",
       "       'Gender', 'Age', 'Tenure', 'Balance', 'NumOfProducts', 'HasCrCard',\n",
       "       'IsActiveMember', 'EstimatedSalary', 'Exited'],\n",
       "      dtype='object')"
      ]
     },
     "execution_count": 2,
     "metadata": {},
     "output_type": "execute_result"
    }
   ],
   "source": [
    "df.columns"
   ]
  },
  {
   "cell_type": "markdown",
   "metadata": {},
   "source": [
    "*ANALISIS BASICO DE LOS DATOS*\n"
   ]
  },
  {
   "cell_type": "code",
   "execution_count": null,
   "metadata": {},
   "outputs": [],
   "source": [
    "#Entender los datos antes de empezar con el analisis\n",
    "#Verificar\n",
    "#-- Tipos de datos\n",
    "#-- Distribucion de datos\n",
    "#Identificar problemas con los datos"
   ]
  },
  {
   "cell_type": "code",
   "execution_count": 4,
   "metadata": {},
   "outputs": [
    {
     "data": {
      "text/plain": [
       "RowNumber            int64\n",
       "CustomerId           int64\n",
       "Surname             object\n",
       "CreditScore          int64\n",
       "Geography           object\n",
       "Gender              object\n",
       "Age                  int64\n",
       "Tenure               int64\n",
       "Balance            float64\n",
       "NumOfProducts        int64\n",
       "HasCrCard            int64\n",
       "IsActiveMember       int64\n",
       "EstimatedSalary    float64\n",
       "Exited               int64\n",
       "dtype: object"
      ]
     },
     "execution_count": 4,
     "metadata": {},
     "output_type": "execute_result"
    }
   ],
   "source": [
    "##Tipos de datos\n",
    "df.dtypes"
   ]
  }
 ],
 "metadata": {
  "kernelspec": {
   "display_name": "base",
   "language": "python",
   "name": "python3"
  },
  "language_info": {
   "codemirror_mode": {
    "name": "ipython",
    "version": 3
   },
   "file_extension": ".py",
   "mimetype": "text/x-python",
   "name": "python",
   "nbconvert_exporter": "python",
   "pygments_lexer": "ipython3",
   "version": "3.9.7"
  },
  "orig_nbformat": 4
 },
 "nbformat": 4,
 "nbformat_minor": 2
}
